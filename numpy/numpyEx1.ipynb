{
 "cells": [
  {
   "cell_type": "markdown",
   "id": "d63f3b08-2c86-4a3b-9a2c-b36b9f969706",
   "metadata": {},
   "source": [
    "<h1 style=\"color:orange; text-align:center; font-size:40px;\">Numpy Intro</h1>"
   ]
  },
  {
   "cell_type": "code",
   "execution_count": 1,
   "id": "e55d7449-f9db-4ec8-a562-d0f67f937d3b",
   "metadata": {},
   "outputs": [],
   "source": [
    "import numpy as np\n",
    "import sys"
   ]
  },
  {
   "cell_type": "code",
   "execution_count": 2,
   "id": "652449fc-849e-44b0-a766-40e8b19d036f",
   "metadata": {},
   "outputs": [
    {
     "data": {
      "text/plain": [
       "array([5, 1, 7, 9, 3])"
      ]
     },
     "execution_count": 2,
     "metadata": {},
     "output_type": "execute_result"
    }
   ],
   "source": [
    "arr = np.array([5,1,7,9,3])\n",
    "arr"
   ]
  },
  {
   "cell_type": "code",
   "execution_count": 3,
   "id": "43df0521-ef2b-40a1-a940-5aa51945399c",
   "metadata": {},
   "outputs": [
    {
     "data": {
      "text/plain": [
       "numpy.ndarray"
      ]
     },
     "execution_count": 3,
     "metadata": {},
     "output_type": "execute_result"
    }
   ],
   "source": [
    "type(arr)"
   ]
  },
  {
   "cell_type": "markdown",
   "id": "b125cbe2-5e7c-42b7-b835-7d1dae04042e",
   "metadata": {},
   "source": [
    "---\n",
    "# Benefit of Numpy Array Over Python List\n",
    "---"
   ]
  },
  {
   "cell_type": "code",
   "execution_count": 4,
   "id": "77bc44e0-5914-4b27-b6d2-0f72b1c2f837",
   "metadata": {},
   "outputs": [
    {
     "data": {
      "text/plain": [
       "[1, 2, 3, 4, 5]"
      ]
     },
     "execution_count": 4,
     "metadata": {},
     "output_type": "execute_result"
    }
   ],
   "source": [
    "numbers = list(range(1,101))\n",
    "numbers[:5]"
   ]
  },
  {
   "cell_type": "code",
   "execution_count": 5,
   "id": "fe5154a6-840c-46ef-843c-af1423eac297",
   "metadata": {},
   "outputs": [
    {
     "name": "stdout",
     "output_type": "stream",
     "text": [
      "Size of single element in list = 28 bytes\n"
     ]
    }
   ],
   "source": [
    "print(f\"Size of single element in list = {sys.getsizeof(numbers[0])} bytes\") "
   ]
  },
  {
   "cell_type": "code",
   "execution_count": 6,
   "id": "2ee62f24-05a1-401e-9156-b63b3d4d8069",
   "metadata": {},
   "outputs": [
    {
     "name": "stdout",
     "output_type": "stream",
     "text": [
      "Size of entire list = 2800 bytes\n"
     ]
    }
   ],
   "source": [
    "print(f\"Size of entire list = {sys.getsizeof(numbers[0]) * len(numbers)} bytes\") "
   ]
  },
  {
   "cell_type": "markdown",
   "id": "49b4d164-59ce-4427-8d07-b89c50b98741",
   "metadata": {},
   "source": [
    "# Numpy Array As Space Efficient"
   ]
  },
  {
   "cell_type": "markdown",
   "id": "1b46fb28-6b50-4cc3-90ed-95153e853406",
   "metadata": {},
   "source": [
    "**Using Numpy Array**"
   ]
  },
  {
   "cell_type": "code",
   "execution_count": 7,
   "id": "281db3c6-ad59-421c-adb7-5bf727c93b73",
   "metadata": {},
   "outputs": [
    {
     "data": {
      "text/plain": [
       "array([1, 2, 3, 4, 5], dtype=int8)"
      ]
     },
     "execution_count": 7,
     "metadata": {},
     "output_type": "execute_result"
    }
   ],
   "source": [
    "arr = np.arange(1,101,dtype = \"int8\")\n",
    "arr[:5]"
   ]
  },
  {
   "cell_type": "code",
   "execution_count": 8,
   "id": "cd2ed8e1-40e8-4c87-9bae-a96f75219dd6",
   "metadata": {},
   "outputs": [
    {
     "name": "stdout",
     "output_type": "stream",
     "text": [
      "Size of single element in numpy array is = 1 bytes\n"
     ]
    }
   ],
   "source": [
    "print(f\"Size of single element in numpy array is = {arr[0].nbytes} bytes\") "
   ]
  },
  {
   "cell_type": "code",
   "execution_count": 9,
   "id": "4cc0bb65-2c21-4f81-a0e9-ce2df84176fb",
   "metadata": {},
   "outputs": [
    {
     "name": "stdout",
     "output_type": "stream",
     "text": [
      "Size of entire numpy array is = 100 bytes\n"
     ]
    }
   ],
   "source": [
    "print(f\"Size of entire numpy array is = {arr.nbytes} bytes\") "
   ]
  },
  {
   "cell_type": "code",
   "execution_count": 10,
   "id": "eed65a09-bf24-4866-ae9c-4d4119ff9fa7",
   "metadata": {},
   "outputs": [
    {
     "data": {
      "text/plain": [
       "dtype('int8')"
      ]
     },
     "execution_count": 10,
     "metadata": {},
     "output_type": "execute_result"
    }
   ],
   "source": [
    "arr.dtype"
   ]
  },
  {
   "cell_type": "markdown",
   "id": "8a281ea2-ab9d-446e-be5c-978fd835762b",
   "metadata": {},
   "source": [
    "# Numpy Array As Time Efficient"
   ]
  },
  {
   "cell_type": "markdown",
   "id": "a1b2a8be-4ef3-4cb2-a24f-e486dd319768",
   "metadata": {},
   "source": [
    "**I will create 2 arrays of size 10M 10000000 later on we will sum both arrays**"
   ]
  },
  {
   "cell_type": "code",
   "execution_count": 11,
   "id": "8b935b60-55de-414e-b9fe-6df10f4d5b51",
   "metadata": {},
   "outputs": [],
   "source": [
    "import time"
   ]
  },
  {
   "cell_type": "code",
   "execution_count": 33,
   "id": "225f2609-5c49-4dfb-acdd-4f8268ad3a98",
   "metadata": {},
   "outputs": [
    {
     "name": "stdout",
     "output_type": "stream",
     "text": [
      "List 1 = [1, 2, 3, 4, 5]\n",
      "List 2 = [1, 2, 3, 4, 5]\n"
     ]
    }
   ],
   "source": [
    "list1 = list(range(1,10000001))\n",
    "list2 = list(range(1,10000001))\n",
    "print(f\"List 1 = {list1[:5]}\")\n",
    "print(f\"List 2 = {list2[:5]}\")\n",
    "# print(list1)"
   ]
  },
  {
   "cell_type": "code",
   "execution_count": 28,
   "id": "7afba404-4c3d-416e-930b-21058108bf6e",
   "metadata": {},
   "outputs": [
    {
     "name": "stdout",
     "output_type": "stream",
     "text": [
      "List 3 = [2, 4, 6, 8, 10]\n",
      "Time taken to add 2 python list is 2.2630913257598877 secs\n"
     ]
    }
   ],
   "source": [
    "list3 = []\n",
    "start_time = time.time()\n",
    "for i in range(10000000):\n",
    "    list3.append(list1[i]+list2[i])\n",
    "\n",
    "end_time = time.time()\n",
    "print(f\"List 3 = {list3[:5]}\")\n",
    "print(f\"Time taken to add 2 python list is {end_time - start_time} secs\")"
   ]
  },
  {
   "cell_type": "code",
   "execution_count": 31,
   "id": "df36530d-1892-4be4-8544-c4604524fd86",
   "metadata": {},
   "outputs": [
    {
     "name": "stdout",
     "output_type": "stream",
     "text": [
      "Array 1 = [1 2 3 4 5]\n",
      "Array 2 = [1 2 3 4 5]\n",
      "[       1        2        3 ...  9999998  9999999 10000000]\n"
     ]
    }
   ],
   "source": [
    "# Using Numpy\n",
    "arr1 = np.arange(1,10000001, dtype=\"int32\")\n",
    "arr2 = np.arange(1,10000001)\n",
    "print(f\"Array 1 = {arr1[:5]}\")\n",
    "print(f\"Array 2 = {arr2[:5]}\")\n",
    "print(arr1)"
   ]
  },
  {
   "cell_type": "code",
   "execution_count": 30,
   "id": "40fd1105-d442-4fcd-88b8-fb07f884a1f6",
   "metadata": {},
   "outputs": [
    {
     "name": "stdout",
     "output_type": "stream",
     "text": [
      "Array 3 = [ 2  4  6  8 10]\n",
      "Time taken to add 2 numpy array is 0.07260727882385254 secs\n"
     ]
    }
   ],
   "source": [
    "start_time = time.time()\n",
    "arr3 = arr1 + arr2\n",
    "end_time = time.time()\n",
    "print(f\"Array 3 = {arr3[:5]}\")\n",
    "print(f\"Time taken to add 2 numpy array is {end_time - start_time} secs\")"
   ]
  },
  {
   "cell_type": "code",
   "execution_count": null,
   "id": "9d578ac0-2f59-447d-9d45-866d9b2c85a2",
   "metadata": {},
   "outputs": [],
   "source": []
  }
 ],
 "metadata": {
  "kernelspec": {
   "display_name": "Python 3 (ipykernel)",
   "language": "python",
   "name": "python3"
  },
  "language_info": {
   "codemirror_mode": {
    "name": "ipython",
    "version": 3
   },
   "file_extension": ".py",
   "mimetype": "text/x-python",
   "name": "python",
   "nbconvert_exporter": "python",
   "pygments_lexer": "ipython3",
   "version": "3.12.0"
  }
 },
 "nbformat": 4,
 "nbformat_minor": 5
}
