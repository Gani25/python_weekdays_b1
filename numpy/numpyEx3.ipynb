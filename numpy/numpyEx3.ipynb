{
 "cells": [
  {
   "cell_type": "markdown",
   "id": "22c648a8-c987-455e-9223-53a3430f9cd8",
   "metadata": {},
   "source": [
    "# Numpy Matrices"
   ]
  },
  {
   "cell_type": "markdown",
   "id": "23825ffc-8b00-47b0-ad4f-d54451453d4a",
   "metadata": {},
   "source": [
    "![Matrix](matrix.png)"
   ]
  },
  {
   "cell_type": "code",
   "execution_count": 1,
   "id": "185b3469-d874-4a1a-b3ef-dee63b7fd7b4",
   "metadata": {},
   "outputs": [],
   "source": [
    "import numpy as np"
   ]
  },
  {
   "cell_type": "code",
   "execution_count": 2,
   "id": "2d35c58e-afb4-484b-96b7-a931ecd41d6c",
   "metadata": {},
   "outputs": [
    {
     "data": {
      "text/plain": [
       "array([[200,  40, 310, 335],\n",
       "       [225, 165,  80, 220],\n",
       "       [120, 213,  65,  22]])"
      ]
     },
     "execution_count": 2,
     "metadata": {},
     "output_type": "execute_result"
    }
   ],
   "source": [
    "q1_sales = np.array([\n",
    "    [200,40,310,335],\n",
    "    [225,165,80,220],\n",
    "    [120,213,65,22]\n",
    "])\n",
    "q1_sales"
   ]
  },
  {
   "cell_type": "code",
   "execution_count": 3,
   "id": "79e6ea01-4f23-4c30-9e9e-216d110fd8d9",
   "metadata": {},
   "outputs": [
    {
     "data": {
      "text/plain": [
       "array([[150,  20, 320, 345],\n",
       "       [238, 180,  20, 189],\n",
       "       [135, 220,  85,  35]])"
      ]
     },
     "execution_count": 3,
     "metadata": {},
     "output_type": "execute_result"
    }
   ],
   "source": [
    "q2_sales = np.array([\n",
    "    [150,20,320,345],\n",
    "    [238,180,20,189],\n",
    "    [135,220,85,35]\n",
    "])\n",
    "q2_sales"
   ]
  },
  {
   "cell_type": "markdown",
   "id": "4b1fcb81-dd8b-4ba8-b026-3d850b8e1cab",
   "metadata": {},
   "source": [
    "# total products sold in both quarter"
   ]
  },
  {
   "cell_type": "code",
   "execution_count": 5,
   "id": "a366d2d7-c010-432a-8779-64b37adbd23b",
   "metadata": {},
   "outputs": [
    {
     "data": {
      "text/plain": [
       "array([[350,  60, 630, 680],\n",
       "       [463, 345, 100, 409],\n",
       "       [255, 433, 150,  57]])"
      ]
     },
     "execution_count": 5,
     "metadata": {},
     "output_type": "execute_result"
    }
   ],
   "source": [
    "q1_sales + q2_sales"
   ]
  },
  {
   "cell_type": "markdown",
   "id": "27514044-6d67-488d-ab95-057a6b025073",
   "metadata": {},
   "source": [
    "# Sales unit growth from q1 to q2"
   ]
  },
  {
   "cell_type": "code",
   "execution_count": 7,
   "id": "3679afca-98ad-4162-ae2c-6ec0db2b0696",
   "metadata": {},
   "outputs": [
    {
     "data": {
      "text/plain": [
       "array([[-50, -20,  10,  10],\n",
       "       [ 13,  15, -60, -31],\n",
       "       [ 15,   7,  20,  13]])"
      ]
     },
     "execution_count": 7,
     "metadata": {},
     "output_type": "execute_result"
    }
   ],
   "source": [
    "q2_sales - q1_sales"
   ]
  },
  {
   "cell_type": "markdown",
   "id": "b8e95ec6-6384-4732-b76b-b5ef41467227",
   "metadata": {},
   "source": [
    "# Percentage growth in sales units"
   ]
  },
  {
   "cell_type": "code",
   "execution_count": 9,
   "id": "9295c609-2a25-4aaf-a6ea-067f625386b6",
   "metadata": {},
   "outputs": [
    {
     "data": {
      "text/plain": [
       "array([[-25.        , -50.        ,   3.22580645,   2.98507463],\n",
       "       [  5.77777778,   9.09090909, -75.        , -14.09090909],\n",
       "       [ 12.5       ,   3.28638498,  30.76923077,  59.09090909]])"
      ]
     },
     "execution_count": 9,
     "metadata": {},
     "output_type": "execute_result"
    }
   ],
   "source": [
    "((q2_sales - q1_sales) / q1_sales) * 100"
   ]
  },
  {
   "cell_type": "code",
   "execution_count": 10,
   "id": "ce5119a9-7e95-45d0-b7c0-082f36969f14",
   "metadata": {},
   "outputs": [
    {
     "data": {
      "text/plain": [
       "array([[100,  90,  85,  80],\n",
       "       [150, 132, 135, 130],\n",
       "       [ 80,  60,  68,  62]])"
      ]
     },
     "execution_count": 10,
     "metadata": {},
     "output_type": "execute_result"
    }
   ],
   "source": [
    "prices = np.array([\n",
    "    [100,90,85,80],\n",
    "    [150,132,135,130],\n",
    "    [80,60,68,62]\n",
    "])\n",
    "prices"
   ]
  },
  {
   "cell_type": "code",
   "execution_count": 11,
   "id": "686d5e30-ada4-48b4-8e3f-d1ef2bb74793",
   "metadata": {},
   "outputs": [
    {
     "data": {
      "text/plain": [
       "array([[20000,  3600, 26350, 26800],\n",
       "       [33750, 21780, 10800, 28600],\n",
       "       [ 9600, 12780,  4420,  1364]])"
      ]
     },
     "execution_count": 11,
     "metadata": {},
     "output_type": "execute_result"
    }
   ],
   "source": [
    "q1_revenue = q1_sales * prices\n",
    "q1_revenue"
   ]
  },
  {
   "cell_type": "code",
   "execution_count": null,
   "id": "1d205c53-11a7-42e5-89ab-5bfc1356049d",
   "metadata": {},
   "outputs": [],
   "source": []
  }
 ],
 "metadata": {
  "kernelspec": {
   "display_name": "Python 3 (ipykernel)",
   "language": "python",
   "name": "python3"
  },
  "language_info": {
   "codemirror_mode": {
    "name": "ipython",
    "version": 3
   },
   "file_extension": ".py",
   "mimetype": "text/x-python",
   "name": "python",
   "nbconvert_exporter": "python",
   "pygments_lexer": "ipython3",
   "version": "3.12.0"
  }
 },
 "nbformat": 4,
 "nbformat_minor": 5
}
