{
 "cells": [
  {
   "cell_type": "markdown",
   "id": "22c648a8-c987-455e-9223-53a3430f9cd8",
   "metadata": {},
   "source": [
    "# Numpy Matrices"
   ]
  },
  {
   "cell_type": "markdown",
   "id": "23825ffc-8b00-47b0-ad4f-d54451453d4a",
   "metadata": {},
   "source": [
    "![Matrix](matrix.png)"
   ]
  },
  {
   "cell_type": "code",
   "execution_count": 1,
   "id": "185b3469-d874-4a1a-b3ef-dee63b7fd7b4",
   "metadata": {},
   "outputs": [],
   "source": [
    "import numpy as np"
   ]
  },
  {
   "cell_type": "code",
   "execution_count": 2,
   "id": "2d35c58e-afb4-484b-96b7-a931ecd41d6c",
   "metadata": {},
   "outputs": [
    {
     "data": {
      "text/plain": [
       "array([[200,  40, 310, 335],\n",
       "       [225, 165,  80, 220],\n",
       "       [120, 213,  65,  22]])"
      ]
     },
     "execution_count": 2,
     "metadata": {},
     "output_type": "execute_result"
    }
   ],
   "source": [
    "q1_sales = np.array([\n",
    "    [200,40,310,335],\n",
    "    [225,165,80,220],\n",
    "    [120,213,65,22]\n",
    "])\n",
    "q1_sales"
   ]
  },
  {
   "cell_type": "code",
   "execution_count": 3,
   "id": "79e6ea01-4f23-4c30-9e9e-216d110fd8d9",
   "metadata": {},
   "outputs": [
    {
     "data": {
      "text/plain": [
       "array([[150,  20, 320, 345],\n",
       "       [238, 180,  20, 189],\n",
       "       [135, 220,  85,  35]])"
      ]
     },
     "execution_count": 3,
     "metadata": {},
     "output_type": "execute_result"
    }
   ],
   "source": [
    "q2_sales = np.array([\n",
    "    [150,20,320,345],\n",
    "    [238,180,20,189],\n",
    "    [135,220,85,35]\n",
    "])\n",
    "q2_sales"
   ]
  },
  {
   "cell_type": "markdown",
   "id": "4b1fcb81-dd8b-4ba8-b026-3d850b8e1cab",
   "metadata": {},
   "source": [
    "# total products sold in both quarter"
   ]
  },
  {
   "cell_type": "code",
   "execution_count": 4,
   "id": "a366d2d7-c010-432a-8779-64b37adbd23b",
   "metadata": {},
   "outputs": [
    {
     "data": {
      "text/plain": [
       "array([[350,  60, 630, 680],\n",
       "       [463, 345, 100, 409],\n",
       "       [255, 433, 150,  57]])"
      ]
     },
     "execution_count": 4,
     "metadata": {},
     "output_type": "execute_result"
    }
   ],
   "source": [
    "q1_sales + q2_sales"
   ]
  },
  {
   "cell_type": "markdown",
   "id": "27514044-6d67-488d-ab95-057a6b025073",
   "metadata": {},
   "source": [
    "# Sales unit growth from q1 to q2"
   ]
  },
  {
   "cell_type": "code",
   "execution_count": 5,
   "id": "3679afca-98ad-4162-ae2c-6ec0db2b0696",
   "metadata": {},
   "outputs": [
    {
     "data": {
      "text/plain": [
       "array([[-50, -20,  10,  10],\n",
       "       [ 13,  15, -60, -31],\n",
       "       [ 15,   7,  20,  13]])"
      ]
     },
     "execution_count": 5,
     "metadata": {},
     "output_type": "execute_result"
    }
   ],
   "source": [
    "q2_sales - q1_sales"
   ]
  },
  {
   "cell_type": "markdown",
   "id": "b8e95ec6-6384-4732-b76b-b5ef41467227",
   "metadata": {},
   "source": [
    "# Percentage growth in sales units"
   ]
  },
  {
   "cell_type": "code",
   "execution_count": 6,
   "id": "9295c609-2a25-4aaf-a6ea-067f625386b6",
   "metadata": {},
   "outputs": [
    {
     "data": {
      "text/plain": [
       "array([[-25.        , -50.        ,   3.22580645,   2.98507463],\n",
       "       [  5.77777778,   9.09090909, -75.        , -14.09090909],\n",
       "       [ 12.5       ,   3.28638498,  30.76923077,  59.09090909]])"
      ]
     },
     "execution_count": 6,
     "metadata": {},
     "output_type": "execute_result"
    }
   ],
   "source": [
    "((q2_sales - q1_sales) / q1_sales) * 100"
   ]
  },
  {
   "cell_type": "code",
   "execution_count": 7,
   "id": "ce5119a9-7e95-45d0-b7c0-082f36969f14",
   "metadata": {},
   "outputs": [
    {
     "data": {
      "text/plain": [
       "array([[100,  90,  85,  80],\n",
       "       [150, 132, 135, 130],\n",
       "       [ 80,  60,  68,  62]])"
      ]
     },
     "execution_count": 7,
     "metadata": {},
     "output_type": "execute_result"
    }
   ],
   "source": [
    "prices = np.array([\n",
    "    [100,90,85,80],\n",
    "    [150,132,135,130],\n",
    "    [80,60,68,62]\n",
    "])\n",
    "prices"
   ]
  },
  {
   "cell_type": "code",
   "execution_count": 8,
   "id": "686d5e30-ada4-48b4-8e3f-d1ef2bb74793",
   "metadata": {},
   "outputs": [
    {
     "data": {
      "text/plain": [
       "array([[20000,  3600, 26350, 26800],\n",
       "       [33750, 21780, 10800, 28600],\n",
       "       [ 9600, 12780,  4420,  1364]])"
      ]
     },
     "execution_count": 8,
     "metadata": {},
     "output_type": "execute_result"
    }
   ],
   "source": [
    "q1_revenue = q1_sales * prices\n",
    "q1_revenue"
   ]
  },
  {
   "cell_type": "code",
   "execution_count": 9,
   "id": "1d205c53-11a7-42e5-89ab-5bfc1356049d",
   "metadata": {},
   "outputs": [
    {
     "data": {
      "text/plain": [
       "array([[4000. ,  720. , 5270. , 5360. ],\n",
       "       [6750. , 4356. , 2160. , 5720. ],\n",
       "       [1920. , 2556. ,  884. ,  272.8]])"
      ]
     },
     "execution_count": 9,
     "metadata": {},
     "output_type": "execute_result"
    }
   ],
   "source": [
    "# Give 20% discount on each product\n",
    "q1_discounts = q1_revenue * 0.2\n",
    "q1_discounts"
   ]
  },
  {
   "cell_type": "code",
   "execution_count": 10,
   "id": "a59c49bb-2fb6-454a-8d18-7b49fc6909ca",
   "metadata": {},
   "outputs": [
    {
     "data": {
      "text/plain": [
       "array([[16000. ,  2880. , 21080. , 21440. ],\n",
       "       [27000. , 17424. ,  8640. , 22880. ],\n",
       "       [ 7680. , 10224. ,  3536. ,  1091.2]])"
      ]
     },
     "execution_count": 10,
     "metadata": {},
     "output_type": "execute_result"
    }
   ],
   "source": [
    "net_revenue = q1_revenue - q1_discounts\n",
    "net_revenue"
   ]
  },
  {
   "cell_type": "markdown",
   "id": "129dae39-77b9-4038-8d18-b6f5b9cf86f8",
   "metadata": {},
   "source": [
    "# Total amount of discounts"
   ]
  },
  {
   "cell_type": "code",
   "execution_count": 14,
   "id": "0288e714-7c55-490c-90f6-b7165e54817a",
   "metadata": {},
   "outputs": [
    {
     "data": {
      "text/plain": [
       "np.float64(39968.8)"
      ]
     },
     "execution_count": 14,
     "metadata": {},
     "output_type": "execute_result"
    }
   ],
   "source": [
    "np.sum(q1_discounts)"
   ]
  },
  {
   "cell_type": "markdown",
   "id": "82f824b6-4004-495c-b939-90abab000a19",
   "metadata": {},
   "source": [
    "# Products Of Matrices"
   ]
  },
  {
   "cell_type": "code",
   "execution_count": 16,
   "id": "a1e9c931-41c7-42f4-ab1e-d762786de1c8",
   "metadata": {},
   "outputs": [
    {
     "data": {
      "text/plain": [
       "array([[2000,    4],\n",
       "       [ 750,    2],\n",
       "       [3500,    6]])"
      ]
     },
     "execution_count": 16,
     "metadata": {},
     "output_type": "execute_result"
    }
   ],
   "source": [
    "features = np.array([\n",
    "    [2000,4], # 2000 sq ft. and 4 bhk\n",
    "    [750, 2],\n",
    "    [3500,6]\n",
    "])\n",
    "features"
   ]
  },
  {
   "cell_type": "code",
   "execution_count": 17,
   "id": "4888d65d-8f65-4828-86f0-80c706bd49b6",
   "metadata": {},
   "outputs": [
    {
     "data": {
      "text/plain": [
       "array([  200, 50000])"
      ]
     },
     "execution_count": 17,
     "metadata": {},
     "output_type": "execute_result"
    }
   ],
   "source": [
    "# 200 per sqft and 50000 for per bedrooms\n",
    "flat_prices = np.array([200,50000]) \n",
    "# flat_price for 1 type = 20000*200+50000*4\n",
    "flat_prices"
   ]
  },
  {
   "cell_type": "code",
   "execution_count": 18,
   "id": "a5bdc7a0-7b09-4411-8ba3-866dd03695f4",
   "metadata": {},
   "outputs": [
    {
     "data": {
      "text/plain": [
       "array([ 600000,  250000, 1000000])"
      ]
     },
     "execution_count": 18,
     "metadata": {},
     "output_type": "execute_result"
    }
   ],
   "source": [
    "total_price = np.dot(features, flat_prices)\n",
    "total_price"
   ]
  },
  {
   "cell_type": "markdown",
   "id": "b8cdedfa-09ab-4a80-bc10-bd9e86eeea25",
   "metadata": {},
   "source": [
    "# Slicing Of Matrices"
   ]
  },
  {
   "cell_type": "code",
   "execution_count": 20,
   "id": "8ba1a1c1-96bf-43bd-a4d7-b49100e09200",
   "metadata": {},
   "outputs": [],
   "source": [
    "matrix1 = np.array([5,1,7,9,3,2,4,6,8,10])\n"
   ]
  },
  {
   "cell_type": "code",
   "execution_count": 21,
   "id": "93d7851d-787e-4041-99c0-20df7f617d3e",
   "metadata": {},
   "outputs": [
    {
     "data": {
      "text/plain": [
       "array([ 5,  1,  7,  9,  3,  2,  4,  6,  8, 10])"
      ]
     },
     "execution_count": 21,
     "metadata": {},
     "output_type": "execute_result"
    }
   ],
   "source": [
    "matrix1"
   ]
  },
  {
   "cell_type": "code",
   "execution_count": 22,
   "id": "201bc877-d22d-445a-9d32-156dd851fe45",
   "metadata": {},
   "outputs": [
    {
     "data": {
      "text/plain": [
       "array([5, 1, 7, 9])"
      ]
     },
     "execution_count": 22,
     "metadata": {},
     "output_type": "execute_result"
    }
   ],
   "source": [
    "matrix1[:4]"
   ]
  },
  {
   "cell_type": "code",
   "execution_count": 23,
   "id": "71c00be3-b2bc-439b-8803-70b8bfd0a209",
   "metadata": {},
   "outputs": [
    {
     "data": {
      "text/plain": [
       "array([10,  8,  6,  4,  2,  3,  9,  7,  1,  5])"
      ]
     },
     "execution_count": 23,
     "metadata": {},
     "output_type": "execute_result"
    }
   ],
   "source": [
    "matrix1[-1::-1]"
   ]
  },
  {
   "cell_type": "code",
   "execution_count": 24,
   "id": "582bd458-bcee-4ec3-8656-b4b6e1737c47",
   "metadata": {},
   "outputs": [
    {
     "data": {
      "text/plain": [
       "array([[ 2,  4,  6,  8, 10],\n",
       "       [ 3,  6,  8,  9, 15],\n",
       "       [ 9,  3,  1,  0, 18]])"
      ]
     },
     "execution_count": 24,
     "metadata": {},
     "output_type": "execute_result"
    }
   ],
   "source": [
    "matrix2 = np.array([\n",
    "    [2,4,6,8,10],\n",
    "    [3,6,8,9,15],\n",
    "    [9,3,1,0,18]\n",
    "])\n",
    "matrix2"
   ]
  },
  {
   "cell_type": "code",
   "execution_count": 25,
   "id": "6a337ac4-4624-42a9-9766-30cc5308a83c",
   "metadata": {},
   "outputs": [
    {
     "data": {
      "text/plain": [
       "array([[ 3,  6,  8,  9, 15],\n",
       "       [ 9,  3,  1,  0, 18]])"
      ]
     },
     "execution_count": 25,
     "metadata": {},
     "output_type": "execute_result"
    }
   ],
   "source": [
    "matrix2[1:]"
   ]
  },
  {
   "cell_type": "code",
   "execution_count": 26,
   "id": "da15dadd-321d-451d-bb5e-f48c2874dc8f",
   "metadata": {},
   "outputs": [
    {
     "data": {
      "text/plain": [
       "array([[ 8,  9, 15],\n",
       "       [ 1,  0, 18]])"
      ]
     },
     "execution_count": 26,
     "metadata": {},
     "output_type": "execute_result"
    }
   ],
   "source": [
    "matrix2[1:,2:]"
   ]
  },
  {
   "cell_type": "code",
   "execution_count": 27,
   "id": "b19a19c3-9758-4d36-bd84-60c6fe3a9515",
   "metadata": {},
   "outputs": [
    {
     "data": {
      "text/plain": [
       "array([], shape=(0, 5), dtype=int64)"
      ]
     },
     "execution_count": 27,
     "metadata": {},
     "output_type": "execute_result"
    }
   ],
   "source": [
    "matrix2[1:][2:]"
   ]
  },
  {
   "cell_type": "code",
   "execution_count": 28,
   "id": "1519544d-71e5-4c45-880e-11639674acba",
   "metadata": {},
   "outputs": [
    {
     "data": {
      "text/plain": [
       "[[2, 4, 6, 8, 10], [3, 6, 8, 9, 15], [9, 3, 1, 0, 18]]"
      ]
     },
     "execution_count": 28,
     "metadata": {},
     "output_type": "execute_result"
    }
   ],
   "source": [
    "list1 = [\n",
    "    [2,4,6,8,10],\n",
    "    [3,6,8,9,15],\n",
    "    [9,3,1,0,18]\n",
    "]\n",
    "list1"
   ]
  },
  {
   "cell_type": "code",
   "execution_count": 33,
   "id": "c8f4f20b-61c9-40db-9a45-0cfd02cadc92",
   "metadata": {},
   "outputs": [
    {
     "data": {
      "text/plain": [
       "[8, 9, 15]"
      ]
     },
     "execution_count": 33,
     "metadata": {},
     "output_type": "execute_result"
    }
   ],
   "source": [
    "list1[1][2:]"
   ]
  },
  {
   "cell_type": "code",
   "execution_count": null,
   "id": "d452a097-a0c6-4430-b3fb-ac82f6b070c8",
   "metadata": {},
   "outputs": [],
   "source": []
  }
 ],
 "metadata": {
  "kernelspec": {
   "display_name": "Python 3 (ipykernel)",
   "language": "python",
   "name": "python3"
  },
  "language_info": {
   "codemirror_mode": {
    "name": "ipython",
    "version": 3
   },
   "file_extension": ".py",
   "mimetype": "text/x-python",
   "name": "python",
   "nbconvert_exporter": "python",
   "pygments_lexer": "ipython3",
   "version": "3.12.0"
  }
 },
 "nbformat": 4,
 "nbformat_minor": 5
}
