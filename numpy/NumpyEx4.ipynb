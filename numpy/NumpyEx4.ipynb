{
 "cells": [
  {
   "cell_type": "markdown",
   "id": "6b59e084-6453-4e5b-b5c3-6f3986e7fbae",
   "metadata": {},
   "source": [
    "# Stacking In Numpy"
   ]
  },
  {
   "cell_type": "code",
   "execution_count": 1,
   "id": "e4264468-6a12-4aae-b7cd-5022bae7fafd",
   "metadata": {},
   "outputs": [],
   "source": [
    "import numpy as np"
   ]
  },
  {
   "cell_type": "code",
   "execution_count": 2,
   "id": "f5a9eda2-3e81-45a5-acff-59b1b6fa5045",
   "metadata": {},
   "outputs": [
    {
     "data": {
      "text/plain": [
       "array([['101', 'Rohit Upadhayay'],\n",
       "       ['102', 'Pranjal Desai'],\n",
       "       ['103', 'Abdul Memon']], dtype='<U21')"
      ]
     },
     "execution_count": 2,
     "metadata": {},
     "output_type": "execute_result"
    }
   ],
   "source": [
    "student_info = np.array([\n",
    "    [101,\"Rohit Upadhayay\"],\n",
    "    [102,\"Pranjal Desai\"],\n",
    "    [103,\"Abdul Memon\"]\n",
    "])\n",
    "student_info"
   ]
  },
  {
   "cell_type": "code",
   "execution_count": 3,
   "id": "c1377ac0-3d00-4d9a-a408-241b467c405b",
   "metadata": {},
   "outputs": [
    {
     "data": {
      "text/plain": [
       "array([['101', 'C++', '15 days'],\n",
       "       ['102', 'Python', '30 days'],\n",
       "       ['103', 'Java', '90 days']], dtype='<U21')"
      ]
     },
     "execution_count": 3,
     "metadata": {},
     "output_type": "execute_result"
    }
   ],
   "source": [
    "course_info = np.array([\n",
    "    [101,\"C++\",\"15 days\"],\n",
    "    [102,\"Python\",\"30 days\"],\n",
    "    [103, \"Java\",\"90 days\"]\n",
    "])\n",
    "course_info"
   ]
  },
  {
   "cell_type": "code",
   "execution_count": 4,
   "id": "4f165b35-ad49-487f-9ed0-b4b1fb2a9aa3",
   "metadata": {},
   "outputs": [
    {
     "data": {
      "text/plain": [
       "array([['101', 'Rohit Upadhayay', '101', 'C++', '15 days'],\n",
       "       ['102', 'Pranjal Desai', '102', 'Python', '30 days'],\n",
       "       ['103', 'Abdul Memon', '103', 'Java', '90 days']], dtype='<U21')"
      ]
     },
     "execution_count": 4,
     "metadata": {},
     "output_type": "execute_result"
    }
   ],
   "source": [
    "np.hstack((student_info,course_info))"
   ]
  },
  {
   "cell_type": "code",
   "execution_count": 5,
   "id": "c0cad9e6-9f40-49f6-b7ed-f0c507347f8b",
   "metadata": {},
   "outputs": [
    {
     "data": {
      "text/plain": [
       "array([['104', 'Shubham Shinde'],\n",
       "       ['105', 'Atik Ahmed']], dtype='<U21')"
      ]
     },
     "execution_count": 5,
     "metadata": {},
     "output_type": "execute_result"
    }
   ],
   "source": [
    "student_info_2 = np.array([\n",
    "    [104,\"Shubham Shinde\"],\n",
    "    [105,\"Atik Ahmed\"]\n",
    "])\n",
    "student_info_2"
   ]
  },
  {
   "cell_type": "code",
   "execution_count": 6,
   "id": "c06e3919-ff11-43d4-815c-2e39b66478e0",
   "metadata": {},
   "outputs": [
    {
     "data": {
      "text/plain": [
       "array([['101', 'Rohit Upadhayay'],\n",
       "       ['102', 'Pranjal Desai'],\n",
       "       ['103', 'Abdul Memon']], dtype='<U21')"
      ]
     },
     "execution_count": 6,
     "metadata": {},
     "output_type": "execute_result"
    }
   ],
   "source": [
    "student_info"
   ]
  },
  {
   "cell_type": "code",
   "execution_count": 7,
   "id": "7821c7b5-34f2-4dcd-ae3c-ac1cfa03a05a",
   "metadata": {},
   "outputs": [
    {
     "data": {
      "text/plain": [
       "array([['101', 'Rohit Upadhayay'],\n",
       "       ['102', 'Pranjal Desai'],\n",
       "       ['103', 'Abdul Memon'],\n",
       "       ['104', 'Shubham Shinde'],\n",
       "       ['105', 'Atik Ahmed']], dtype='<U21')"
      ]
     },
     "execution_count": 7,
     "metadata": {},
     "output_type": "execute_result"
    }
   ],
   "source": [
    "students = np.vstack((student_info, student_info_2))\n",
    "students"
   ]
  },
  {
   "cell_type": "code",
   "execution_count": 8,
   "id": "c9b63134-0cb1-4516-baa0-e14195970536",
   "metadata": {},
   "outputs": [
    {
     "data": {
      "text/plain": [
       "array([['104', 'C++', '15 days'],\n",
       "       ['105', 'Power BI', '20 days']], dtype='<U21')"
      ]
     },
     "execution_count": 8,
     "metadata": {},
     "output_type": "execute_result"
    }
   ],
   "source": [
    "course_info_2 = np.array([\n",
    "    [104,\"C++\", \"15 days\"],\n",
    "    [105,\"Power BI\", \"20 days\"]\n",
    "])\n",
    "course_info_2"
   ]
  },
  {
   "cell_type": "code",
   "execution_count": 9,
   "id": "469131bd-7ff4-42cf-8869-8964ebc299fc",
   "metadata": {},
   "outputs": [
    {
     "data": {
      "text/plain": [
       "array([['101', 'C++', '15 days'],\n",
       "       ['102', 'Python', '30 days'],\n",
       "       ['103', 'Java', '90 days']], dtype='<U21')"
      ]
     },
     "execution_count": 9,
     "metadata": {},
     "output_type": "execute_result"
    }
   ],
   "source": [
    "course_info"
   ]
  },
  {
   "cell_type": "code",
   "execution_count": 10,
   "id": "cee6870c-8c26-4d35-950f-c270ffb554d9",
   "metadata": {},
   "outputs": [
    {
     "data": {
      "text/plain": [
       "array([['101', 'C++', '15 days'],\n",
       "       ['102', 'Python', '30 days'],\n",
       "       ['103', 'Java', '90 days'],\n",
       "       ['104', 'C++', '15 days'],\n",
       "       ['105', 'Power BI', '20 days']], dtype='<U21')"
      ]
     },
     "execution_count": 10,
     "metadata": {},
     "output_type": "execute_result"
    }
   ],
   "source": [
    "courses = np.vstack((course_info, course_info_2))\n",
    "courses"
   ]
  },
  {
   "cell_type": "code",
   "execution_count": 11,
   "id": "99304d31-c7e9-4163-9fec-bef7b0019d00",
   "metadata": {},
   "outputs": [
    {
     "data": {
      "text/plain": [
       "array([['101', 'Rohit Upadhayay'],\n",
       "       ['102', 'Pranjal Desai'],\n",
       "       ['103', 'Abdul Memon'],\n",
       "       ['104', 'Shubham Shinde'],\n",
       "       ['105', 'Atik Ahmed']], dtype='<U21')"
      ]
     },
     "execution_count": 11,
     "metadata": {},
     "output_type": "execute_result"
    }
   ],
   "source": [
    "students"
   ]
  },
  {
   "cell_type": "code",
   "execution_count": 12,
   "id": "3796cd9f-b6fe-4e36-92f4-63dbfb840ad3",
   "metadata": {},
   "outputs": [
    {
     "data": {
      "text/plain": [
       "array([['101', 'Rohit Upadhayay', '101', 'C++', '15 days'],\n",
       "       ['102', 'Pranjal Desai', '102', 'Python', '30 days'],\n",
       "       ['103', 'Abdul Memon', '103', 'Java', '90 days'],\n",
       "       ['104', 'Shubham Shinde', '104', 'C++', '15 days'],\n",
       "       ['105', 'Atik Ahmed', '105', 'Power BI', '20 days']], dtype='<U21')"
      ]
     },
     "execution_count": 12,
     "metadata": {},
     "output_type": "execute_result"
    }
   ],
   "source": [
    "final = np.hstack((students, courses))\n",
    "final"
   ]
  },
  {
   "cell_type": "code",
   "execution_count": 13,
   "id": "b24398e3-a4f8-4465-874c-7b6d8394aadf",
   "metadata": {},
   "outputs": [
    {
     "data": {
      "text/plain": [
       "array([['101', 'Rohit Upadhayay', '101', 'C++', '15 days'],\n",
       "       ['102', 'Pranjal Desai', '102', 'Python', '30 days'],\n",
       "       ['103', 'Abdul Memon', '103', 'Java', '90 days'],\n",
       "       ['104', 'Shubham Shinde', '104', 'C++', '15 days'],\n",
       "       ['105', 'Atik Ahmed', '105', 'Power BI', '20 days']], dtype='<U21')"
      ]
     },
     "execution_count": 13,
     "metadata": {},
     "output_type": "execute_result"
    }
   ],
   "source": [
    "final"
   ]
  },
  {
   "cell_type": "code",
   "execution_count": 14,
   "id": "4715dad2-55ac-4db6-a843-29255c8c0865",
   "metadata": {},
   "outputs": [
    {
     "data": {
      "text/plain": [
       "array([['101', 'Rohit Upadhayay'],\n",
       "       ['102', 'Pranjal Desai'],\n",
       "       ['103', 'Abdul Memon'],\n",
       "       ['104', 'Shubham Shinde'],\n",
       "       ['105', 'Atik Ahmed']], dtype='<U21')"
      ]
     },
     "execution_count": 14,
     "metadata": {},
     "output_type": "execute_result"
    }
   ],
   "source": [
    "arr1, arr2= np.hsplit(final, [2])\n",
    "arr1"
   ]
  },
  {
   "cell_type": "code",
   "execution_count": 15,
   "id": "c0e9b77a-c447-44e6-a4cb-f3974746b4df",
   "metadata": {},
   "outputs": [
    {
     "data": {
      "text/plain": [
       "array([['101', 'C++', '15 days'],\n",
       "       ['102', 'Python', '30 days'],\n",
       "       ['103', 'Java', '90 days'],\n",
       "       ['104', 'C++', '15 days'],\n",
       "       ['105', 'Power BI', '20 days']], dtype='<U21')"
      ]
     },
     "execution_count": 15,
     "metadata": {},
     "output_type": "execute_result"
    }
   ],
   "source": [
    "arr2"
   ]
  },
  {
   "cell_type": "code",
   "execution_count": 17,
   "id": "91afb290-6d48-4523-bd09-64f120b646e7",
   "metadata": {},
   "outputs": [
    {
     "data": {
      "text/plain": [
       "array([['101', 'Rohit Upadhayay'],\n",
       "       ['102', 'Pranjal Desai'],\n",
       "       ['103', 'Abdul Memon'],\n",
       "       ['104', 'Shubham Shinde'],\n",
       "       ['105', 'Atik Ahmed']], dtype='<U21')"
      ]
     },
     "execution_count": 17,
     "metadata": {},
     "output_type": "execute_result"
    }
   ],
   "source": [
    "arr1, arr2, arr3= np.hsplit(final, [2,3])\n",
    "arr1"
   ]
  },
  {
   "cell_type": "code",
   "execution_count": 18,
   "id": "d7644c19-ad48-473f-b8bf-73822feb3d15",
   "metadata": {},
   "outputs": [
    {
     "data": {
      "text/plain": [
       "array([['101'],\n",
       "       ['102'],\n",
       "       ['103'],\n",
       "       ['104'],\n",
       "       ['105']], dtype='<U21')"
      ]
     },
     "execution_count": 18,
     "metadata": {},
     "output_type": "execute_result"
    }
   ],
   "source": [
    "arr2"
   ]
  },
  {
   "cell_type": "code",
   "execution_count": 19,
   "id": "88997047-0c32-419d-bb2b-f743b4b9aa68",
   "metadata": {},
   "outputs": [
    {
     "data": {
      "text/plain": [
       "array([['C++', '15 days'],\n",
       "       ['Python', '30 days'],\n",
       "       ['Java', '90 days'],\n",
       "       ['C++', '15 days'],\n",
       "       ['Power BI', '20 days']], dtype='<U21')"
      ]
     },
     "execution_count": 19,
     "metadata": {},
     "output_type": "execute_result"
    }
   ],
   "source": [
    "arr3"
   ]
  },
  {
   "cell_type": "code",
   "execution_count": null,
   "id": "d317c791-fd45-4fde-a84a-dd78e21a4222",
   "metadata": {},
   "outputs": [],
   "source": []
  }
 ],
 "metadata": {
  "kernelspec": {
   "display_name": "Python 3 (ipykernel)",
   "language": "python",
   "name": "python3"
  },
  "language_info": {
   "codemirror_mode": {
    "name": "ipython",
    "version": 3
   },
   "file_extension": ".py",
   "mimetype": "text/x-python",
   "name": "python",
   "nbconvert_exporter": "python",
   "pygments_lexer": "ipython3",
   "version": "3.12.0"
  }
 },
 "nbformat": 4,
 "nbformat_minor": 5
}
