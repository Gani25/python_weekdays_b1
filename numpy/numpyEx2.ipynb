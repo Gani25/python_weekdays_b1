{
 "cells": [
  {
   "cell_type": "code",
   "execution_count": 1,
   "id": "e546e355-ef49-4513-be38-a14c71b0fdb7",
   "metadata": {},
   "outputs": [],
   "source": [
    "import numpy as np"
   ]
  },
  {
   "cell_type": "code",
   "execution_count": 2,
   "id": "d5dab8bf-34fb-4ca0-9936-893b39f8ca8b",
   "metadata": {},
   "outputs": [
    {
     "data": {
      "text/plain": [
       "array([5, 1, 7, 9, 3])"
      ]
     },
     "execution_count": 2,
     "metadata": {},
     "output_type": "execute_result"
    }
   ],
   "source": [
    "arr = np.array([5,1,7,9,3])\n",
    "arr"
   ]
  },
  {
   "cell_type": "code",
   "execution_count": 3,
   "id": "ca47843c-3605-4ffd-8d3a-42145d0a7473",
   "metadata": {},
   "outputs": [
    {
     "data": {
      "text/plain": [
       "1"
      ]
     },
     "execution_count": 3,
     "metadata": {},
     "output_type": "execute_result"
    }
   ],
   "source": [
    "arr.ndim"
   ]
  },
  {
   "cell_type": "code",
   "execution_count": 4,
   "id": "8db13aa0-9220-4aac-9874-a6b14133d051",
   "metadata": {},
   "outputs": [
    {
     "name": "stdout",
     "output_type": "stream",
     "text": [
      "[5 1 7 9 3]\n"
     ]
    }
   ],
   "source": [
    "print(arr)"
   ]
  },
  {
   "cell_type": "code",
   "execution_count": 5,
   "id": "b3a8c3f3-4b17-4cb6-af17-608238d8d019",
   "metadata": {},
   "outputs": [
    {
     "data": {
      "text/plain": [
       "array([[ 5, 10, 20],\n",
       "       [ 3, 15,  9],\n",
       "       [ 6,  8,  6],\n",
       "       [12,  4,  6]], dtype=int8)"
      ]
     },
     "execution_count": 5,
     "metadata": {},
     "output_type": "execute_result"
    }
   ],
   "source": [
    "arr = np.array(\n",
    "    [\n",
    "        [5,10,20],\n",
    "        [3,15,9],\n",
    "        [6,8,6],\n",
    "        [12,4,6]\n",
    "    ], dtype = 'int8'\n",
    ")\n",
    "arr"
   ]
  },
  {
   "cell_type": "code",
   "execution_count": 6,
   "id": "df26baa0-db3b-4118-8cf1-70a2359072dd",
   "metadata": {},
   "outputs": [
    {
     "data": {
      "text/plain": [
       "2"
      ]
     },
     "execution_count": 6,
     "metadata": {},
     "output_type": "execute_result"
    }
   ],
   "source": [
    "arr.ndim"
   ]
  },
  {
   "cell_type": "code",
   "execution_count": 7,
   "id": "d016b1f6-ba16-4789-940b-48e0dde622f5",
   "metadata": {},
   "outputs": [
    {
     "data": {
      "text/plain": [
       "np.int8(9)"
      ]
     },
     "execution_count": 7,
     "metadata": {},
     "output_type": "execute_result"
    }
   ],
   "source": [
    "arr[1][2]"
   ]
  },
  {
   "cell_type": "code",
   "execution_count": 8,
   "id": "3acf0b3b-367f-47fd-b974-b65221245b86",
   "metadata": {},
   "outputs": [
    {
     "data": {
      "text/plain": [
       "np.int8(9)"
      ]
     },
     "execution_count": 8,
     "metadata": {},
     "output_type": "execute_result"
    }
   ],
   "source": [
    "arr[1,2]"
   ]
  },
  {
   "cell_type": "code",
   "execution_count": 9,
   "id": "6549f725-f1ab-4285-9172-9c1fba39345a",
   "metadata": {},
   "outputs": [],
   "source": [
    "arr[1,2] = 80"
   ]
  },
  {
   "cell_type": "code",
   "execution_count": 10,
   "id": "acea6d39-309c-4e40-a48d-ee930429de3b",
   "metadata": {},
   "outputs": [
    {
     "data": {
      "text/plain": [
       "array([[ 5, 10, 20],\n",
       "       [ 3, 15, 80],\n",
       "       [ 6,  8,  6],\n",
       "       [12,  4,  6]], dtype=int8)"
      ]
     },
     "execution_count": 10,
     "metadata": {},
     "output_type": "execute_result"
    }
   ],
   "source": [
    "arr"
   ]
  },
  {
   "cell_type": "code",
   "execution_count": 11,
   "id": "63a0be56-2975-4780-b30d-892e7181d3d0",
   "metadata": {},
   "outputs": [
    {
     "data": {
      "text/plain": [
       "(4, 3)"
      ]
     },
     "execution_count": 11,
     "metadata": {},
     "output_type": "execute_result"
    }
   ],
   "source": [
    "arr.shape"
   ]
  },
  {
   "cell_type": "code",
   "execution_count": 12,
   "id": "afa77b68-4bc0-456d-88ee-ec6d72779e58",
   "metadata": {},
   "outputs": [
    {
     "name": "stdout",
     "output_type": "stream",
     "text": [
      "1 bytes\n"
     ]
    }
   ],
   "source": [
    "print(f\"{arr.itemsize} bytes\")"
   ]
  },
  {
   "cell_type": "code",
   "execution_count": 13,
   "id": "d2824eeb-2eb9-4b98-be0b-56e239adca70",
   "metadata": {},
   "outputs": [
    {
     "data": {
      "text/plain": [
       "12"
      ]
     },
     "execution_count": 13,
     "metadata": {},
     "output_type": "execute_result"
    }
   ],
   "source": [
    "arr.nbytes"
   ]
  },
  {
   "cell_type": "code",
   "execution_count": 14,
   "id": "f8749d07-b67b-4436-8643-e9bb87cc7f6d",
   "metadata": {},
   "outputs": [
    {
     "data": {
      "text/plain": [
       "12"
      ]
     },
     "execution_count": 14,
     "metadata": {},
     "output_type": "execute_result"
    }
   ],
   "source": [
    "arr.size"
   ]
  },
  {
   "cell_type": "code",
   "execution_count": 15,
   "id": "7b5ecf98-c34b-4bb2-a1fe-18d3636b6f34",
   "metadata": {},
   "outputs": [
    {
     "data": {
      "text/plain": [
       "array([[ 5, 10, 20],\n",
       "       [ 3, 15, 80],\n",
       "       [ 6,  6,  8],\n",
       "       [ 4,  6, 12]], dtype=int8)"
      ]
     },
     "execution_count": 15,
     "metadata": {},
     "output_type": "execute_result"
    }
   ],
   "source": [
    "np.sort(arr)"
   ]
  },
  {
   "cell_type": "code",
   "execution_count": 16,
   "id": "40059d64-3d82-4c41-a063-bc217f6ee8f2",
   "metadata": {},
   "outputs": [
    {
     "data": {
      "text/plain": [
       "array([[ 5, 10, 20],\n",
       "       [ 3, 15, 80],\n",
       "       [ 6,  8,  6],\n",
       "       [12,  4,  6]], dtype=int8)"
      ]
     },
     "execution_count": 16,
     "metadata": {},
     "output_type": "execute_result"
    }
   ],
   "source": [
    "arr"
   ]
  },
  {
   "cell_type": "code",
   "execution_count": 17,
   "id": "9ef2933a-7aab-4f4d-bcbb-f96bd51e6861",
   "metadata": {},
   "outputs": [
    {
     "data": {
      "text/plain": [
       "array([[ 3,  4,  6],\n",
       "       [ 5,  8,  6],\n",
       "       [ 6, 10, 20],\n",
       "       [12, 15, 80]], dtype=int8)"
      ]
     },
     "execution_count": 17,
     "metadata": {},
     "output_type": "execute_result"
    }
   ],
   "source": [
    "np.sort(arr,0)"
   ]
  },
  {
   "cell_type": "code",
   "execution_count": 18,
   "id": "2c5c76e8-b7c5-4381-8504-6431dd896f7d",
   "metadata": {},
   "outputs": [
    {
     "data": {
      "text/plain": [
       "array([ 3,  4,  5,  6,  6,  6,  8, 10, 12, 15, 20, 80], dtype=int8)"
      ]
     },
     "execution_count": 18,
     "metadata": {},
     "output_type": "execute_result"
    }
   ],
   "source": [
    "np.sort(arr, None)"
   ]
  },
  {
   "cell_type": "code",
   "execution_count": 19,
   "id": "72000a41-6e52-4e79-b3fa-4bfe9a8f884d",
   "metadata": {},
   "outputs": [
    {
     "data": {
      "text/plain": [
       "array([[ 5, 10, 20],\n",
       "       [ 3, 15, 80],\n",
       "       [ 6,  8,  6],\n",
       "       [12,  4,  6]], dtype=int8)"
      ]
     },
     "execution_count": 19,
     "metadata": {},
     "output_type": "execute_result"
    }
   ],
   "source": [
    "arr"
   ]
  },
  {
   "cell_type": "code",
   "execution_count": 20,
   "id": "c1e7d77f-cc13-41d1-8c16-b9261359e406",
   "metadata": {},
   "outputs": [
    {
     "data": {
      "text/plain": [
       "array([[ 5, 10, 20,  3],\n",
       "       [15, 80,  6,  8],\n",
       "       [ 6, 12,  4,  6]], dtype=int8)"
      ]
     },
     "execution_count": 20,
     "metadata": {},
     "output_type": "execute_result"
    }
   ],
   "source": [
    "arr.reshape(3,4)"
   ]
  },
  {
   "cell_type": "code",
   "execution_count": 21,
   "id": "e8f6b9b2-6a1b-4ecb-bf84-28cb1e1e7a98",
   "metadata": {},
   "outputs": [
    {
     "data": {
      "text/plain": [
       "array([[ 5, 10, 20],\n",
       "       [ 3, 15, 80],\n",
       "       [ 6,  8,  6],\n",
       "       [12,  4,  6]], dtype=int8)"
      ]
     },
     "execution_count": 21,
     "metadata": {},
     "output_type": "execute_result"
    }
   ],
   "source": [
    "arr"
   ]
  },
  {
   "cell_type": "code",
   "execution_count": 22,
   "id": "4e34a056-66bc-44e0-9a9d-c2f0ba9a5aa3",
   "metadata": {},
   "outputs": [],
   "source": [
    "flat_arr_1 = arr.flatten()"
   ]
  },
  {
   "cell_type": "code",
   "execution_count": 23,
   "id": "e3d54cdf-cb5e-4ae2-a8af-4186e71d1a6c",
   "metadata": {},
   "outputs": [
    {
     "data": {
      "text/plain": [
       "array([ 5, 10, 20,  3, 15, 80,  6,  8,  6, 12,  4,  6], dtype=int8)"
      ]
     },
     "execution_count": 23,
     "metadata": {},
     "output_type": "execute_result"
    }
   ],
   "source": [
    "flat_arr_1"
   ]
  },
  {
   "cell_type": "code",
   "execution_count": 24,
   "id": "a9f2fdfb-5b6e-452d-be92-de06b404b850",
   "metadata": {},
   "outputs": [],
   "source": [
    "flat_arr_1[5] = -6"
   ]
  },
  {
   "cell_type": "code",
   "execution_count": 25,
   "id": "1dd37444-9503-4b8f-aa18-2ce344a71b8d",
   "metadata": {},
   "outputs": [
    {
     "data": {
      "text/plain": [
       "array([ 5, 10, 20,  3, 15, -6,  6,  8,  6, 12,  4,  6], dtype=int8)"
      ]
     },
     "execution_count": 25,
     "metadata": {},
     "output_type": "execute_result"
    }
   ],
   "source": [
    "flat_arr_1"
   ]
  },
  {
   "cell_type": "code",
   "execution_count": 26,
   "id": "cd196dbd-5675-4ee5-84d9-47dae2e2d8a5",
   "metadata": {},
   "outputs": [
    {
     "data": {
      "text/plain": [
       "array([[ 5, 10, 20],\n",
       "       [ 3, 15, 80],\n",
       "       [ 6,  8,  6],\n",
       "       [12,  4,  6]], dtype=int8)"
      ]
     },
     "execution_count": 26,
     "metadata": {},
     "output_type": "execute_result"
    }
   ],
   "source": [
    "arr"
   ]
  },
  {
   "cell_type": "code",
   "execution_count": 27,
   "id": "2c743d4c-19e7-45a9-9dfb-859ce01d0122",
   "metadata": {},
   "outputs": [],
   "source": [
    "flat_arr_2 = arr.ravel()"
   ]
  },
  {
   "cell_type": "code",
   "execution_count": 28,
   "id": "0ee531b8-4ca6-4181-94f6-b388682d91ff",
   "metadata": {},
   "outputs": [
    {
     "data": {
      "text/plain": [
       "array([ 5, 10, 20,  3, 15, 80,  6,  8,  6, 12,  4,  6], dtype=int8)"
      ]
     },
     "execution_count": 28,
     "metadata": {},
     "output_type": "execute_result"
    }
   ],
   "source": [
    "flat_arr_2"
   ]
  },
  {
   "cell_type": "code",
   "execution_count": 29,
   "id": "d6aec384-9003-4f3a-9509-49cf9def9679",
   "metadata": {},
   "outputs": [],
   "source": [
    "flat_arr_2[5] = -52"
   ]
  },
  {
   "cell_type": "code",
   "execution_count": 30,
   "id": "64595d69-7f43-488d-a23b-51f3bd4a1896",
   "metadata": {},
   "outputs": [
    {
     "data": {
      "text/plain": [
       "array([  5,  10,  20,   3,  15, -52,   6,   8,   6,  12,   4,   6],\n",
       "      dtype=int8)"
      ]
     },
     "execution_count": 30,
     "metadata": {},
     "output_type": "execute_result"
    }
   ],
   "source": [
    "flat_arr_2"
   ]
  },
  {
   "cell_type": "code",
   "execution_count": 31,
   "id": "9dbbccd6-b1ed-4427-a08d-1323c615a762",
   "metadata": {},
   "outputs": [
    {
     "data": {
      "text/plain": [
       "array([[  5,  10,  20],\n",
       "       [  3,  15, -52],\n",
       "       [  6,   8,   6],\n",
       "       [ 12,   4,   6]], dtype=int8)"
      ]
     },
     "execution_count": 31,
     "metadata": {},
     "output_type": "execute_result"
    }
   ],
   "source": [
    "arr"
   ]
  },
  {
   "cell_type": "code",
   "execution_count": 32,
   "id": "357be873-8ca0-44a9-9c75-baf2dbb39252",
   "metadata": {},
   "outputs": [],
   "source": [
    "arr[2,2] = 65"
   ]
  },
  {
   "cell_type": "code",
   "execution_count": 33,
   "id": "b3750d27-7ee5-4fed-9b40-583222263074",
   "metadata": {},
   "outputs": [
    {
     "data": {
      "text/plain": [
       "array([[  5,  10,  20],\n",
       "       [  3,  15, -52],\n",
       "       [  6,   8,  65],\n",
       "       [ 12,   4,   6]], dtype=int8)"
      ]
     },
     "execution_count": 33,
     "metadata": {},
     "output_type": "execute_result"
    }
   ],
   "source": [
    "arr"
   ]
  },
  {
   "cell_type": "code",
   "execution_count": 34,
   "id": "b657bc82-f7a9-4e2a-b7b3-1e234ba724ba",
   "metadata": {},
   "outputs": [
    {
     "data": {
      "text/plain": [
       "array([  5,  10,  20,   3,  15, -52,   6,   8,  65,  12,   4,   6],\n",
       "      dtype=int8)"
      ]
     },
     "execution_count": 34,
     "metadata": {},
     "output_type": "execute_result"
    }
   ],
   "source": [
    "flat_arr_2"
   ]
  },
  {
   "cell_type": "code",
   "execution_count": 35,
   "id": "93fce0c5-1abc-40ec-a25b-9b427bdff577",
   "metadata": {},
   "outputs": [
    {
     "data": {
      "text/plain": [
       "12"
      ]
     },
     "execution_count": 35,
     "metadata": {},
     "output_type": "execute_result"
    }
   ],
   "source": [
    "flat_arr_1.size"
   ]
  },
  {
   "cell_type": "code",
   "execution_count": 36,
   "id": "75cb2fdf-50a6-4e49-986d-1f5609773607",
   "metadata": {},
   "outputs": [
    {
     "data": {
      "text/plain": [
       "array([[ 5, 10, 20,  3, 15, -6],\n",
       "       [ 6,  8,  6, 12,  4,  6]], dtype=int8)"
      ]
     },
     "execution_count": 36,
     "metadata": {},
     "output_type": "execute_result"
    }
   ],
   "source": [
    "flat_arr_1.reshape(2,6)"
   ]
  },
  {
   "cell_type": "code",
   "execution_count": 37,
   "id": "7ffa8008-958e-45cc-b435-cf7a989d5269",
   "metadata": {},
   "outputs": [
    {
     "data": {
      "text/plain": [
       "array([ 5, 10, 20,  3, 15, -6,  6,  8,  6, 12,  4,  6], dtype=int8)"
      ]
     },
     "execution_count": 37,
     "metadata": {},
     "output_type": "execute_result"
    }
   ],
   "source": [
    "flat_arr_1"
   ]
  },
  {
   "cell_type": "code",
   "execution_count": 38,
   "id": "4979b641-9e1f-4acb-a3bc-2b8cf4a351de",
   "metadata": {},
   "outputs": [
    {
     "data": {
      "text/plain": [
       "array([[  5,  10],\n",
       "       [ 20,   3],\n",
       "       [ 15, -52],\n",
       "       [  6,   8],\n",
       "       [ 65,  12],\n",
       "       [  4,   6]], dtype=int8)"
      ]
     },
     "execution_count": 38,
     "metadata": {},
     "output_type": "execute_result"
    }
   ],
   "source": [
    "flat_arr_2.reshape(6,2)"
   ]
  },
  {
   "cell_type": "code",
   "execution_count": 39,
   "id": "f23c1627-aa82-49e7-b902-1f48f6aca163",
   "metadata": {},
   "outputs": [
    {
     "data": {
      "text/plain": [
       "array([[  5,  10,  20],\n",
       "       [  3,  15, -52],\n",
       "       [  6,   8,  65],\n",
       "       [ 12,   4,   6]], dtype=int8)"
      ]
     },
     "execution_count": 39,
     "metadata": {},
     "output_type": "execute_result"
    }
   ],
   "source": [
    "arr"
   ]
  },
  {
   "cell_type": "code",
   "execution_count": 40,
   "id": "7b1ba205-6442-4561-bec1-e4dddb9e2abc",
   "metadata": {},
   "outputs": [
    {
     "data": {
      "text/plain": [
       "array([  5,  10,  20,   3,  15, -52,   6,   8,  65,  12,   4,   6],\n",
       "      dtype=int8)"
      ]
     },
     "execution_count": 40,
     "metadata": {},
     "output_type": "execute_result"
    }
   ],
   "source": [
    "flat_arr_2"
   ]
  },
  {
   "cell_type": "code",
   "execution_count": 41,
   "id": "b27ba413-f7d7-43e0-8033-8fbaf2911128",
   "metadata": {},
   "outputs": [
    {
     "data": {
      "text/plain": [
       "array([10.        , 10.20408163, 10.40816327, 10.6122449 , 10.81632653,\n",
       "       11.02040816, 11.2244898 , 11.42857143, 11.63265306, 11.83673469,\n",
       "       12.04081633, 12.24489796, 12.44897959, 12.65306122, 12.85714286,\n",
       "       13.06122449, 13.26530612, 13.46938776, 13.67346939, 13.87755102,\n",
       "       14.08163265, 14.28571429, 14.48979592, 14.69387755, 14.89795918,\n",
       "       15.10204082, 15.30612245, 15.51020408, 15.71428571, 15.91836735,\n",
       "       16.12244898, 16.32653061, 16.53061224, 16.73469388, 16.93877551,\n",
       "       17.14285714, 17.34693878, 17.55102041, 17.75510204, 17.95918367,\n",
       "       18.16326531, 18.36734694, 18.57142857, 18.7755102 , 18.97959184,\n",
       "       19.18367347, 19.3877551 , 19.59183673, 19.79591837, 20.        ])"
      ]
     },
     "execution_count": 41,
     "metadata": {},
     "output_type": "execute_result"
    }
   ],
   "source": [
    "np.linspace(10,20)"
   ]
  },
  {
   "cell_type": "code",
   "execution_count": 43,
   "id": "16842794-32f2-4100-8748-325d579bf8f8",
   "metadata": {},
   "outputs": [
    {
     "data": {
      "text/plain": [
       "array([10.  , 11.25, 12.5 , 13.75, 15.  , 16.25, 17.5 , 18.75, 20.  ])"
      ]
     },
     "execution_count": 43,
     "metadata": {},
     "output_type": "execute_result"
    }
   ],
   "source": [
    "np.linspace(10,20,9)"
   ]
  },
  {
   "cell_type": "code",
   "execution_count": 44,
   "id": "a7834ad4-be1f-40b7-a7b8-1a336c7199ed",
   "metadata": {},
   "outputs": [
    {
     "data": {
      "text/plain": [
       "array([10. , 12.5, 15. , 17.5, 20. ])"
      ]
     },
     "execution_count": 44,
     "metadata": {},
     "output_type": "execute_result"
    }
   ],
   "source": [
    "np.linspace(10,20,5)"
   ]
  },
  {
   "cell_type": "code",
   "execution_count": 45,
   "id": "a512533b-545f-4b1e-b9ee-8a538504dc73",
   "metadata": {},
   "outputs": [
    {
     "data": {
      "text/plain": [
       "array([ 10.,  20.,  30.,  40.,  50.,  60.,  70.,  80.,  90., 100.])"
      ]
     },
     "execution_count": 45,
     "metadata": {},
     "output_type": "execute_result"
    }
   ],
   "source": [
    "np.linspace(10,100,10)"
   ]
  },
  {
   "cell_type": "code",
   "execution_count": 46,
   "id": "5b773530-ada7-4c7f-b824-4530d7fbb3ba",
   "metadata": {},
   "outputs": [
    {
     "data": {
      "text/plain": [
       "array([[0., 0., 0., 0., 0.],\n",
       "       [0., 0., 0., 0., 0.],\n",
       "       [0., 0., 0., 0., 0.],\n",
       "       [0., 0., 0., 0., 0.]])"
      ]
     },
     "execution_count": 46,
     "metadata": {},
     "output_type": "execute_result"
    }
   ],
   "source": [
    "np.zeros((4,5))"
   ]
  },
  {
   "cell_type": "code",
   "execution_count": 47,
   "id": "3a9f9f0a-6a2f-43fa-ba2a-1a21285a3375",
   "metadata": {},
   "outputs": [
    {
     "data": {
      "text/plain": [
       "array([[0, 0, 0, 0],\n",
       "       [0, 0, 0, 0],\n",
       "       [0, 0, 0, 0]])"
      ]
     },
     "execution_count": 47,
     "metadata": {},
     "output_type": "execute_result"
    }
   ],
   "source": [
    "np.zeros((3,4),'int64')"
   ]
  },
  {
   "cell_type": "code",
   "execution_count": 48,
   "id": "de53db6a-0ce4-431a-a67e-2e50bec102d7",
   "metadata": {},
   "outputs": [
    {
     "data": {
      "text/plain": [
       "array([[1., 1., 1.],\n",
       "       [1., 1., 1.]])"
      ]
     },
     "execution_count": 48,
     "metadata": {},
     "output_type": "execute_result"
    }
   ],
   "source": [
    "np.ones((2,3))"
   ]
  },
  {
   "cell_type": "code",
   "execution_count": 49,
   "id": "44aada3e-edc0-42b8-a19d-0e35c0269f01",
   "metadata": {},
   "outputs": [
    {
     "data": {
      "text/plain": [
       "array([[  5,  10,  20],\n",
       "       [  3,  15, -52],\n",
       "       [  6,   8,  65],\n",
       "       [ 12,   4,   6]], dtype=int8)"
      ]
     },
     "execution_count": 49,
     "metadata": {},
     "output_type": "execute_result"
    }
   ],
   "source": [
    "arr"
   ]
  },
  {
   "cell_type": "code",
   "execution_count": 50,
   "id": "1320a692-595f-49fc-8bed-191800037df1",
   "metadata": {},
   "outputs": [
    {
     "data": {
      "text/plain": [
       "np.int64(102)"
      ]
     },
     "execution_count": 50,
     "metadata": {},
     "output_type": "execute_result"
    }
   ],
   "source": [
    "arr.sum()"
   ]
  },
  {
   "cell_type": "code",
   "execution_count": 53,
   "id": "232c5a7f-0c63-40f4-a5dc-c8b704be2b28",
   "metadata": {},
   "outputs": [
    {
     "name": "stdout",
     "output_type": "stream",
     "text": [
      "[ 5 10 20]\n",
      "[  3  15 -52]\n",
      "[ 6  8 65]\n",
      "[12  4  6]\n"
     ]
    }
   ],
   "source": [
    "for row in arr:\n",
    "    print(row)"
   ]
  },
  {
   "cell_type": "code",
   "execution_count": 54,
   "id": "4c1054ad-5073-444c-965c-5b935a9c6423",
   "metadata": {},
   "outputs": [
    {
     "name": "stdout",
     "output_type": "stream",
     "text": [
      "5 10 20 \n",
      "3 15 -52 \n",
      "6 8 65 \n",
      "12 4 6 \n"
     ]
    }
   ],
   "source": [
    "for row in arr:\n",
    "    for column in row:\n",
    "        print(column , end=\" \")\n",
    "    print()"
   ]
  },
  {
   "cell_type": "code",
   "execution_count": 56,
   "id": "4e745618-06be-4aa0-82b6-1aacc4a7bc2a",
   "metadata": {},
   "outputs": [
    {
     "data": {
      "text/plain": [
       "array([[  5,  10,  20],\n",
       "       [  3,  15, -52],\n",
       "       [  6,   8,  65],\n",
       "       [ 12,   4,   6]], dtype=int8)"
      ]
     },
     "execution_count": 56,
     "metadata": {},
     "output_type": "execute_result"
    }
   ],
   "source": [
    "arr"
   ]
  },
  {
   "cell_type": "code",
   "execution_count": 59,
   "id": "bf434901-e9f2-4691-8a5a-401f49b0de51",
   "metadata": {},
   "outputs": [
    {
     "data": {
      "text/plain": [
       "array([26, 37, 39])"
      ]
     },
     "execution_count": 59,
     "metadata": {},
     "output_type": "execute_result"
    }
   ],
   "source": [
    "arr.sum(0)"
   ]
  },
  {
   "cell_type": "code",
   "execution_count": 58,
   "id": "05256dbe-c352-4775-a7d4-1fca1eb22f35",
   "metadata": {},
   "outputs": [
    {
     "data": {
      "text/plain": [
       "array([[26],\n",
       "       [37],\n",
       "       [39]])"
      ]
     },
     "execution_count": 58,
     "metadata": {},
     "output_type": "execute_result"
    }
   ],
   "source": [
    "arr.sum(0).reshape(3,1)"
   ]
  },
  {
   "cell_type": "code",
   "execution_count": 57,
   "id": "d14d3db0-9be4-4bd0-acfe-934696e404e2",
   "metadata": {},
   "outputs": [
    {
     "data": {
      "text/plain": [
       "array([ 35, -34,  79,  22])"
      ]
     },
     "execution_count": 57,
     "metadata": {},
     "output_type": "execute_result"
    }
   ],
   "source": [
    "arr.sum(1)"
   ]
  },
  {
   "cell_type": "code",
   "execution_count": 60,
   "id": "36b27524-489b-4f60-b6c3-edd8986963c3",
   "metadata": {},
   "outputs": [
    {
     "data": {
      "text/plain": [
       "np.int8(-52)"
      ]
     },
     "execution_count": 60,
     "metadata": {},
     "output_type": "execute_result"
    }
   ],
   "source": [
    "arr.min()"
   ]
  },
  {
   "cell_type": "code",
   "execution_count": 62,
   "id": "621e9404-bc90-4e48-a3aa-74aaa75b05e7",
   "metadata": {},
   "outputs": [
    {
     "data": {
      "text/plain": [
       "array([[  5,  10,  20],\n",
       "       [  3,  15, -52],\n",
       "       [  6,   8,  65],\n",
       "       [ 12,   4,   6]], dtype=int8)"
      ]
     },
     "execution_count": 62,
     "metadata": {},
     "output_type": "execute_result"
    }
   ],
   "source": [
    "arr"
   ]
  },
  {
   "cell_type": "code",
   "execution_count": 61,
   "id": "9607a12a-fd0d-4cc2-958d-ca5418e58649",
   "metadata": {},
   "outputs": [
    {
     "data": {
      "text/plain": [
       "array([  5, -52,   6,   4], dtype=int8)"
      ]
     },
     "execution_count": 61,
     "metadata": {},
     "output_type": "execute_result"
    }
   ],
   "source": [
    "arr.min(1)"
   ]
  },
  {
   "cell_type": "code",
   "execution_count": 63,
   "id": "f6a60c8e-bc3c-4a31-bfdc-1ac67c1047e8",
   "metadata": {},
   "outputs": [
    {
     "data": {
      "text/plain": [
       "array([  3,   4, -52], dtype=int8)"
      ]
     },
     "execution_count": 63,
     "metadata": {},
     "output_type": "execute_result"
    }
   ],
   "source": [
    "arr.min(0)"
   ]
  },
  {
   "cell_type": "code",
   "execution_count": 64,
   "id": "3d5edd53-ceac-46bb-a4ab-b0919d6866a7",
   "metadata": {},
   "outputs": [
    {
     "data": {
      "text/plain": [
       "array([81, 16, 25, 20])"
      ]
     },
     "execution_count": 64,
     "metadata": {},
     "output_type": "execute_result"
    }
   ],
   "source": [
    "arr = np.array([81,16,25,20])\n",
    "arr"
   ]
  },
  {
   "cell_type": "code",
   "execution_count": 65,
   "id": "3cb8427e-db7a-4c94-b564-f2f6b9d74956",
   "metadata": {},
   "outputs": [
    {
     "data": {
      "text/plain": [
       "array([9.        , 4.        , 5.        , 4.47213595])"
      ]
     },
     "execution_count": 65,
     "metadata": {},
     "output_type": "execute_result"
    }
   ],
   "source": [
    "np.sqrt(arr)"
   ]
  },
  {
   "cell_type": "code",
   "execution_count": 66,
   "id": "88dde4d2-9e0d-450e-a57e-301da3a3704c",
   "metadata": {},
   "outputs": [
    {
     "data": {
      "text/plain": [
       "array([4.32674871, 2.5198421 , 2.92401774, 2.71441762])"
      ]
     },
     "execution_count": 66,
     "metadata": {},
     "output_type": "execute_result"
    }
   ],
   "source": [
    "np.cbrt(arr)"
   ]
  },
  {
   "cell_type": "code",
   "execution_count": 67,
   "id": "dcc1c0a1-fd84-4032-be18-d67896799c39",
   "metadata": {},
   "outputs": [
    {
     "data": {
      "text/plain": [
       "np.float64(26.462237244798484)"
      ]
     },
     "execution_count": 67,
     "metadata": {},
     "output_type": "execute_result"
    }
   ],
   "source": [
    "np.std(arr)"
   ]
  },
  {
   "cell_type": "code",
   "execution_count": null,
   "id": "41e4b8db-d982-4906-a638-513d2cd3e88c",
   "metadata": {},
   "outputs": [],
   "source": []
  }
 ],
 "metadata": {
  "kernelspec": {
   "display_name": "Python 3 (ipykernel)",
   "language": "python",
   "name": "python3"
  },
  "language_info": {
   "codemirror_mode": {
    "name": "ipython",
    "version": 3
   },
   "file_extension": ".py",
   "mimetype": "text/x-python",
   "name": "python",
   "nbconvert_exporter": "python",
   "pygments_lexer": "ipython3",
   "version": "3.12.0"
  }
 },
 "nbformat": 4,
 "nbformat_minor": 5
}
