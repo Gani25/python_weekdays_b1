{
 "cells": [
  {
   "cell_type": "markdown",
   "id": "d63f3b08-2c86-4a3b-9a2c-b36b9f969706",
   "metadata": {},
   "source": [
    "# Numpy Intro"
   ]
  },
  {
   "cell_type": "code",
   "execution_count": 8,
   "id": "e55d7449-f9db-4ec8-a562-d0f67f937d3b",
   "metadata": {},
   "outputs": [],
   "source": [
    "import numpy as np\n",
    "import sys"
   ]
  },
  {
   "cell_type": "code",
   "execution_count": 2,
   "id": "652449fc-849e-44b0-a766-40e8b19d036f",
   "metadata": {},
   "outputs": [
    {
     "data": {
      "text/plain": [
       "array([5, 1, 7, 9, 3])"
      ]
     },
     "execution_count": 2,
     "metadata": {},
     "output_type": "execute_result"
    }
   ],
   "source": [
    "arr = np.array([5,1,7,9,3])\n",
    "arr"
   ]
  },
  {
   "cell_type": "code",
   "execution_count": 3,
   "id": "43df0521-ef2b-40a1-a940-5aa51945399c",
   "metadata": {},
   "outputs": [
    {
     "data": {
      "text/plain": [
       "numpy.ndarray"
      ]
     },
     "execution_count": 3,
     "metadata": {},
     "output_type": "execute_result"
    }
   ],
   "source": [
    "type(arr)"
   ]
  },
  {
   "cell_type": "markdown",
   "id": "b125cbe2-5e7c-42b7-b835-7d1dae04042e",
   "metadata": {},
   "source": [
    "---\n",
    "# Benefit of Numpy Array Over Python List\n",
    "---"
   ]
  },
  {
   "cell_type": "code",
   "execution_count": 7,
   "id": "77bc44e0-5914-4b27-b6d2-0f72b1c2f837",
   "metadata": {},
   "outputs": [
    {
     "data": {
      "text/plain": [
       "[1, 2, 3, 4, 5]"
      ]
     },
     "execution_count": 7,
     "metadata": {},
     "output_type": "execute_result"
    }
   ],
   "source": [
    "numbers = list(range(1,101))\n",
    "numbers[:5]"
   ]
  },
  {
   "cell_type": "code",
   "execution_count": 9,
   "id": "fe5154a6-840c-46ef-843c-af1423eac297",
   "metadata": {},
   "outputs": [
    {
     "name": "stdout",
     "output_type": "stream",
     "text": [
      "Size of single element in list = 28 bytes\n"
     ]
    }
   ],
   "source": [
    "print(f\"Size of single element in list = {sys.getsizeof(numbers[0])} bytes\") "
   ]
  },
  {
   "cell_type": "code",
   "execution_count": 10,
   "id": "2ee62f24-05a1-401e-9156-b63b3d4d8069",
   "metadata": {},
   "outputs": [
    {
     "name": "stdout",
     "output_type": "stream",
     "text": [
      "Size of entire list = 2800 bytes\n"
     ]
    }
   ],
   "source": [
    "print(f\"Size of entire list = {sys.getsizeof(numbers[0]) * len(numbers)} bytes\") "
   ]
  },
  {
   "cell_type": "markdown",
   "id": "1b46fb28-6b50-4cc3-90ed-95153e853406",
   "metadata": {},
   "source": [
    "**Using Numpy Array**"
   ]
  },
  {
   "cell_type": "code",
   "execution_count": 21,
   "id": "281db3c6-ad59-421c-adb7-5bf727c93b73",
   "metadata": {},
   "outputs": [
    {
     "data": {
      "text/plain": [
       "array([1, 2, 3, 4, 5], dtype=int8)"
      ]
     },
     "execution_count": 21,
     "metadata": {},
     "output_type": "execute_result"
    }
   ],
   "source": [
    "arr = np.arange(1,101,dtype = \"int8\")\n",
    "arr[:5]"
   ]
  },
  {
   "cell_type": "code",
   "execution_count": 22,
   "id": "cd2ed8e1-40e8-4c87-9bae-a96f75219dd6",
   "metadata": {},
   "outputs": [
    {
     "name": "stdout",
     "output_type": "stream",
     "text": [
      "Size of single element in numpy array is = 1 bytes\n"
     ]
    }
   ],
   "source": [
    "print(f\"Size of single element in numpy array is = {arr[0].nbytes} bytes\") "
   ]
  },
  {
   "cell_type": "code",
   "execution_count": 23,
   "id": "4cc0bb65-2c21-4f81-a0e9-ce2df84176fb",
   "metadata": {},
   "outputs": [
    {
     "name": "stdout",
     "output_type": "stream",
     "text": [
      "Size of entire numpy array is = 100 bytes\n"
     ]
    }
   ],
   "source": [
    "print(f\"Size of entire numpy array is = {arr.nbytes} bytes\") "
   ]
  },
  {
   "cell_type": "code",
   "execution_count": 20,
   "id": "eed65a09-bf24-4866-ae9c-4d4119ff9fa7",
   "metadata": {},
   "outputs": [
    {
     "data": {
      "text/plain": [
       "dtype('int16')"
      ]
     },
     "execution_count": 20,
     "metadata": {},
     "output_type": "execute_result"
    }
   ],
   "source": [
    "arr.dtype"
   ]
  },
  {
   "cell_type": "code",
   "execution_count": null,
   "id": "1747728f-e751-4c60-aa02-ec5049ec7657",
   "metadata": {},
   "outputs": [],
   "source": []
  }
 ],
 "metadata": {
  "kernelspec": {
   "display_name": "Python 3 (ipykernel)",
   "language": "python",
   "name": "python3"
  },
  "language_info": {
   "codemirror_mode": {
    "name": "ipython",
    "version": 3
   },
   "file_extension": ".py",
   "mimetype": "text/x-python",
   "name": "python",
   "nbconvert_exporter": "python",
   "pygments_lexer": "ipython3",
   "version": "3.12.0"
  }
 },
 "nbformat": 4,
 "nbformat_minor": 5
}
