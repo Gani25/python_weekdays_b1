{
 "cells": [
  {
   "cell_type": "code",
   "execution_count": 1,
   "id": "e546e355-ef49-4513-be38-a14c71b0fdb7",
   "metadata": {},
   "outputs": [],
   "source": [
    "import numpy as np"
   ]
  },
  {
   "cell_type": "code",
   "execution_count": 2,
   "id": "d5dab8bf-34fb-4ca0-9936-893b39f8ca8b",
   "metadata": {},
   "outputs": [
    {
     "data": {
      "text/plain": [
       "array([5, 1, 7, 9, 3])"
      ]
     },
     "execution_count": 2,
     "metadata": {},
     "output_type": "execute_result"
    }
   ],
   "source": [
    "arr = np.array([5,1,7,9,3])\n",
    "arr"
   ]
  },
  {
   "cell_type": "code",
   "execution_count": 3,
   "id": "ca47843c-3605-4ffd-8d3a-42145d0a7473",
   "metadata": {},
   "outputs": [
    {
     "data": {
      "text/plain": [
       "1"
      ]
     },
     "execution_count": 3,
     "metadata": {},
     "output_type": "execute_result"
    }
   ],
   "source": [
    "arr.ndim"
   ]
  },
  {
   "cell_type": "code",
   "execution_count": 4,
   "id": "8db13aa0-9220-4aac-9874-a6b14133d051",
   "metadata": {},
   "outputs": [
    {
     "name": "stdout",
     "output_type": "stream",
     "text": [
      "[5 1 7 9 3]\n"
     ]
    }
   ],
   "source": [
    "print(arr)"
   ]
  },
  {
   "cell_type": "code",
   "execution_count": 5,
   "id": "b3a8c3f3-4b17-4cb6-af17-608238d8d019",
   "metadata": {},
   "outputs": [
    {
     "data": {
      "text/plain": [
       "array([[ 5, 10, 20],\n",
       "       [ 3, 15,  9],\n",
       "       [ 6,  8,  6],\n",
       "       [12,  4,  6]], dtype=int8)"
      ]
     },
     "execution_count": 5,
     "metadata": {},
     "output_type": "execute_result"
    }
   ],
   "source": [
    "arr = np.array(\n",
    "    [\n",
    "        [5,10,20],\n",
    "        [3,15,9],\n",
    "        [6,8,6],\n",
    "        [12,4,6]\n",
    "    ], dtype = 'int8'\n",
    ")\n",
    "arr"
   ]
  },
  {
   "cell_type": "code",
   "execution_count": 6,
   "id": "df26baa0-db3b-4118-8cf1-70a2359072dd",
   "metadata": {},
   "outputs": [
    {
     "data": {
      "text/plain": [
       "2"
      ]
     },
     "execution_count": 6,
     "metadata": {},
     "output_type": "execute_result"
    }
   ],
   "source": [
    "arr.ndim"
   ]
  },
  {
   "cell_type": "code",
   "execution_count": 7,
   "id": "d016b1f6-ba16-4789-940b-48e0dde622f5",
   "metadata": {},
   "outputs": [
    {
     "data": {
      "text/plain": [
       "np.int8(9)"
      ]
     },
     "execution_count": 7,
     "metadata": {},
     "output_type": "execute_result"
    }
   ],
   "source": [
    "arr[1][2]"
   ]
  },
  {
   "cell_type": "code",
   "execution_count": 8,
   "id": "3acf0b3b-367f-47fd-b974-b65221245b86",
   "metadata": {},
   "outputs": [
    {
     "data": {
      "text/plain": [
       "np.int8(9)"
      ]
     },
     "execution_count": 8,
     "metadata": {},
     "output_type": "execute_result"
    }
   ],
   "source": [
    "arr[1,2]"
   ]
  },
  {
   "cell_type": "code",
   "execution_count": 9,
   "id": "6549f725-f1ab-4285-9172-9c1fba39345a",
   "metadata": {},
   "outputs": [],
   "source": [
    "arr[1,2] = 80"
   ]
  },
  {
   "cell_type": "code",
   "execution_count": 10,
   "id": "acea6d39-309c-4e40-a48d-ee930429de3b",
   "metadata": {},
   "outputs": [
    {
     "data": {
      "text/plain": [
       "array([[ 5, 10, 20],\n",
       "       [ 3, 15, 80],\n",
       "       [ 6,  8,  6],\n",
       "       [12,  4,  6]], dtype=int8)"
      ]
     },
     "execution_count": 10,
     "metadata": {},
     "output_type": "execute_result"
    }
   ],
   "source": [
    "arr"
   ]
  },
  {
   "cell_type": "code",
   "execution_count": 11,
   "id": "63a0be56-2975-4780-b30d-892e7181d3d0",
   "metadata": {},
   "outputs": [
    {
     "data": {
      "text/plain": [
       "(4, 3)"
      ]
     },
     "execution_count": 11,
     "metadata": {},
     "output_type": "execute_result"
    }
   ],
   "source": [
    "arr.shape"
   ]
  },
  {
   "cell_type": "code",
   "execution_count": 12,
   "id": "afa77b68-4bc0-456d-88ee-ec6d72779e58",
   "metadata": {},
   "outputs": [
    {
     "name": "stdout",
     "output_type": "stream",
     "text": [
      "1 bytes\n"
     ]
    }
   ],
   "source": [
    "print(f\"{arr.itemsize} bytes\")"
   ]
  },
  {
   "cell_type": "code",
   "execution_count": 13,
   "id": "d2824eeb-2eb9-4b98-be0b-56e239adca70",
   "metadata": {},
   "outputs": [
    {
     "data": {
      "text/plain": [
       "12"
      ]
     },
     "execution_count": 13,
     "metadata": {},
     "output_type": "execute_result"
    }
   ],
   "source": [
    "arr.nbytes"
   ]
  },
  {
   "cell_type": "code",
   "execution_count": 14,
   "id": "f8749d07-b67b-4436-8643-e9bb87cc7f6d",
   "metadata": {},
   "outputs": [
    {
     "data": {
      "text/plain": [
       "12"
      ]
     },
     "execution_count": 14,
     "metadata": {},
     "output_type": "execute_result"
    }
   ],
   "source": [
    "arr.size"
   ]
  },
  {
   "cell_type": "code",
   "execution_count": 15,
   "id": "7b5ecf98-c34b-4bb2-a1fe-18d3636b6f34",
   "metadata": {},
   "outputs": [
    {
     "data": {
      "text/plain": [
       "array([[ 5, 10, 20],\n",
       "       [ 3, 15, 80],\n",
       "       [ 6,  6,  8],\n",
       "       [ 4,  6, 12]], dtype=int8)"
      ]
     },
     "execution_count": 15,
     "metadata": {},
     "output_type": "execute_result"
    }
   ],
   "source": [
    "np.sort(arr)"
   ]
  },
  {
   "cell_type": "code",
   "execution_count": 18,
   "id": "40059d64-3d82-4c41-a063-bc217f6ee8f2",
   "metadata": {},
   "outputs": [
    {
     "data": {
      "text/plain": [
       "array([[ 5, 10, 20],\n",
       "       [ 3, 15, 80],\n",
       "       [ 6,  8,  6],\n",
       "       [12,  4,  6]], dtype=int8)"
      ]
     },
     "execution_count": 18,
     "metadata": {},
     "output_type": "execute_result"
    }
   ],
   "source": [
    "arr"
   ]
  },
  {
   "cell_type": "code",
   "execution_count": 19,
   "id": "9ef2933a-7aab-4f4d-bcbb-f96bd51e6861",
   "metadata": {},
   "outputs": [
    {
     "data": {
      "text/plain": [
       "array([[ 3,  4,  6],\n",
       "       [ 5,  8,  6],\n",
       "       [ 6, 10, 20],\n",
       "       [12, 15, 80]], dtype=int8)"
      ]
     },
     "execution_count": 19,
     "metadata": {},
     "output_type": "execute_result"
    }
   ],
   "source": [
    "np.sort(arr,0)"
   ]
  },
  {
   "cell_type": "code",
   "execution_count": 20,
   "id": "2c5c76e8-b7c5-4381-8504-6431dd896f7d",
   "metadata": {},
   "outputs": [
    {
     "data": {
      "text/plain": [
       "array([ 3,  4,  5,  6,  6,  6,  8, 10, 12, 15, 20, 80], dtype=int8)"
      ]
     },
     "execution_count": 20,
     "metadata": {},
     "output_type": "execute_result"
    }
   ],
   "source": [
    "np.sort(arr, None)"
   ]
  },
  {
   "cell_type": "code",
   "execution_count": null,
   "id": "72000a41-6e52-4e79-b3fa-4bfe9a8f884d",
   "metadata": {},
   "outputs": [],
   "source": []
  }
 ],
 "metadata": {
  "kernelspec": {
   "display_name": "Python 3 (ipykernel)",
   "language": "python",
   "name": "python3"
  },
  "language_info": {
   "codemirror_mode": {
    "name": "ipython",
    "version": 3
   },
   "file_extension": ".py",
   "mimetype": "text/x-python",
   "name": "python",
   "nbconvert_exporter": "python",
   "pygments_lexer": "ipython3",
   "version": "3.12.0"
  }
 },
 "nbformat": 4,
 "nbformat_minor": 5
}
