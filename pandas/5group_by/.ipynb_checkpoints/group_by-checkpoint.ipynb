{
 "cells": [
  {
   "cell_type": "markdown",
   "id": "94d45f76-d6ca-4a53-9b61-9c748be7cc7f",
   "metadata": {},
   "source": [
    "# Group By"
   ]
  },
  {
   "cell_type": "code",
   "execution_count": 2,
   "id": "48f41868-4c11-46a3-8262-3c473309d31f",
   "metadata": {},
   "outputs": [],
   "source": [
    "import pandas as pd"
   ]
  },
  {
   "cell_type": "code",
   "execution_count": 4,
   "id": "750049f6-e4e8-4c44-a1bb-6add5ad1fb9f",
   "metadata": {},
   "outputs": [
    {
     "data": {
      "text/html": [
       "<div>\n",
       "<style scoped>\n",
       "    .dataframe tbody tr th:only-of-type {\n",
       "        vertical-align: middle;\n",
       "    }\n",
       "\n",
       "    .dataframe tbody tr th {\n",
       "        vertical-align: top;\n",
       "    }\n",
       "\n",
       "    .dataframe thead th {\n",
       "        text-align: right;\n",
       "    }\n",
       "</style>\n",
       "<table border=\"1\" class=\"dataframe\">\n",
       "  <thead>\n",
       "    <tr style=\"text-align: right;\">\n",
       "      <th></th>\n",
       "      <th>city</th>\n",
       "      <th>windspeed</th>\n",
       "      <th>temperature</th>\n",
       "      <th>event</th>\n",
       "    </tr>\n",
       "  </thead>\n",
       "  <tbody>\n",
       "    <tr>\n",
       "      <th>0</th>\n",
       "      <td>Mumbai</td>\n",
       "      <td>2.50</td>\n",
       "      <td>24</td>\n",
       "      <td>Sunny</td>\n",
       "    </tr>\n",
       "    <tr>\n",
       "      <th>1</th>\n",
       "      <td>Pune</td>\n",
       "      <td>3.00</td>\n",
       "      <td>29</td>\n",
       "      <td>Cloudy</td>\n",
       "    </tr>\n",
       "    <tr>\n",
       "      <th>2</th>\n",
       "      <td>Delhi</td>\n",
       "      <td>5.50</td>\n",
       "      <td>15</td>\n",
       "      <td>Sunny</td>\n",
       "    </tr>\n",
       "    <tr>\n",
       "      <th>3</th>\n",
       "      <td>Nashik</td>\n",
       "      <td>2.80</td>\n",
       "      <td>26</td>\n",
       "      <td>Rainy</td>\n",
       "    </tr>\n",
       "    <tr>\n",
       "      <th>4</th>\n",
       "      <td>Mumbai</td>\n",
       "      <td>3.80</td>\n",
       "      <td>25</td>\n",
       "      <td>Winter</td>\n",
       "    </tr>\n",
       "    <tr>\n",
       "      <th>5</th>\n",
       "      <td>Pune</td>\n",
       "      <td>1.50</td>\n",
       "      <td>32</td>\n",
       "      <td>Winter</td>\n",
       "    </tr>\n",
       "    <tr>\n",
       "      <th>6</th>\n",
       "      <td>Delhi</td>\n",
       "      <td>1.90</td>\n",
       "      <td>12</td>\n",
       "      <td>Sunny</td>\n",
       "    </tr>\n",
       "    <tr>\n",
       "      <th>7</th>\n",
       "      <td>Nashik</td>\n",
       "      <td>1.60</td>\n",
       "      <td>24</td>\n",
       "      <td>Sunny</td>\n",
       "    </tr>\n",
       "    <tr>\n",
       "      <th>8</th>\n",
       "      <td>Mumbai</td>\n",
       "      <td>4.40</td>\n",
       "      <td>22</td>\n",
       "      <td>Winter</td>\n",
       "    </tr>\n",
       "    <tr>\n",
       "      <th>9</th>\n",
       "      <td>Pune</td>\n",
       "      <td>2.00</td>\n",
       "      <td>28</td>\n",
       "      <td>Snow</td>\n",
       "    </tr>\n",
       "    <tr>\n",
       "      <th>10</th>\n",
       "      <td>Delhi</td>\n",
       "      <td>3.90</td>\n",
       "      <td>22</td>\n",
       "      <td>Cloudy</td>\n",
       "    </tr>\n",
       "    <tr>\n",
       "      <th>11</th>\n",
       "      <td>Nashik</td>\n",
       "      <td>3.20</td>\n",
       "      <td>29</td>\n",
       "      <td>Sunny</td>\n",
       "    </tr>\n",
       "    <tr>\n",
       "      <th>12</th>\n",
       "      <td>Mumbai</td>\n",
       "      <td>1.66</td>\n",
       "      <td>28</td>\n",
       "      <td>Cloudy</td>\n",
       "    </tr>\n",
       "    <tr>\n",
       "      <th>13</th>\n",
       "      <td>Pune</td>\n",
       "      <td>3.85</td>\n",
       "      <td>35</td>\n",
       "      <td>Cold</td>\n",
       "    </tr>\n",
       "  </tbody>\n",
       "</table>\n",
       "</div>"
      ],
      "text/plain": [
       "      city  windspeed  temperature   event\n",
       "0   Mumbai       2.50           24   Sunny\n",
       "1     Pune       3.00           29  Cloudy\n",
       "2    Delhi       5.50           15   Sunny\n",
       "3   Nashik       2.80           26   Rainy\n",
       "4   Mumbai       3.80           25  Winter\n",
       "5     Pune       1.50           32  Winter\n",
       "6    Delhi       1.90           12   Sunny\n",
       "7   Nashik       1.60           24   Sunny\n",
       "8   Mumbai       4.40           22  Winter\n",
       "9     Pune       2.00           28    Snow\n",
       "10   Delhi       3.90           22  Cloudy\n",
       "11  Nashik       3.20           29   Sunny\n",
       "12  Mumbai       1.66           28  Cloudy\n",
       "13    Pune       3.85           35    Cold"
      ]
     },
     "execution_count": 4,
     "metadata": {},
     "output_type": "execute_result"
    }
   ],
   "source": [
    "df_weather = pd.DataFrame(\n",
    "    {\n",
    "        \"city\":[\"Mumbai\",\"Pune\",\"Delhi\",\"Nashik\",\n",
    "                \"Mumbai\",\"Pune\",\"Delhi\",\"Nashik\",\n",
    "                \"Mumbai\",\"Pune\",\"Delhi\",\"Nashik\",\n",
    "               \"Mumbai\",\"Pune\"],\n",
    "        \"windspeed\":[2.5,3.0,5.5,2.8,\n",
    "                     3.8,1.5,1.9,1.6,\n",
    "                    4.4,2,3.9,3.2,\n",
    "                    1.66,3.85],\n",
    "        \"temperature\":[24,29,15,26,\n",
    "                      25,32,12,24,\n",
    "                       22,28,22,29,\n",
    "                      28,35],\n",
    "        \"event\": [\"Sunny\",\"Cloudy\",\"Sunny\",\"Rainy\",\n",
    "                \"Winter\",\"Winter\", \"Sunny\",\"Sunny\",\n",
    "                 \"Winter\",\"Snow\",\"Cloudy\",\"Sunny\",\n",
    "                 \"Cloudy\",\"Cold\"]\n",
    "        \n",
    "    }\n",
    ")\n",
    "df_weather"
   ]
  },
  {
   "cell_type": "code",
   "execution_count": 5,
   "id": "3ebac691-2a2e-41cd-ada4-0c8e9d82235c",
   "metadata": {},
   "outputs": [
    {
     "data": {
      "text/html": [
       "<div>\n",
       "<style scoped>\n",
       "    .dataframe tbody tr th:only-of-type {\n",
       "        vertical-align: middle;\n",
       "    }\n",
       "\n",
       "    .dataframe tbody tr th {\n",
       "        vertical-align: top;\n",
       "    }\n",
       "\n",
       "    .dataframe thead th {\n",
       "        text-align: right;\n",
       "    }\n",
       "</style>\n",
       "<table border=\"1\" class=\"dataframe\">\n",
       "  <thead>\n",
       "    <tr style=\"text-align: right;\">\n",
       "      <th></th>\n",
       "      <th>city</th>\n",
       "      <th>windspeed</th>\n",
       "      <th>temperature</th>\n",
       "      <th>event</th>\n",
       "    </tr>\n",
       "  </thead>\n",
       "  <tbody>\n",
       "    <tr>\n",
       "      <th>0</th>\n",
       "      <td>Mumbai</td>\n",
       "      <td>2.50</td>\n",
       "      <td>24</td>\n",
       "      <td>Sunny</td>\n",
       "    </tr>\n",
       "    <tr>\n",
       "      <th>4</th>\n",
       "      <td>Mumbai</td>\n",
       "      <td>3.80</td>\n",
       "      <td>25</td>\n",
       "      <td>Winter</td>\n",
       "    </tr>\n",
       "    <tr>\n",
       "      <th>8</th>\n",
       "      <td>Mumbai</td>\n",
       "      <td>4.40</td>\n",
       "      <td>22</td>\n",
       "      <td>Winter</td>\n",
       "    </tr>\n",
       "    <tr>\n",
       "      <th>12</th>\n",
       "      <td>Mumbai</td>\n",
       "      <td>1.66</td>\n",
       "      <td>28</td>\n",
       "      <td>Cloudy</td>\n",
       "    </tr>\n",
       "  </tbody>\n",
       "</table>\n",
       "</div>"
      ],
      "text/plain": [
       "      city  windspeed  temperature   event\n",
       "0   Mumbai       2.50           24   Sunny\n",
       "4   Mumbai       3.80           25  Winter\n",
       "8   Mumbai       4.40           22  Winter\n",
       "12  Mumbai       1.66           28  Cloudy"
      ]
     },
     "execution_count": 5,
     "metadata": {},
     "output_type": "execute_result"
    }
   ],
   "source": [
    "df_weather[df_weather.city == \"Mumbai\"]"
   ]
  },
  {
   "cell_type": "code",
   "execution_count": 6,
   "id": "aad183a2-a76d-4024-a875-d5eb736deddf",
   "metadata": {},
   "outputs": [
    {
     "data": {
      "text/plain": [
       "np.int64(28)"
      ]
     },
     "execution_count": 6,
     "metadata": {},
     "output_type": "execute_result"
    }
   ],
   "source": [
    "df_weather[df_weather.city == \"Mumbai\"].temperature.max()"
   ]
  },
  {
   "cell_type": "code",
   "execution_count": 7,
   "id": "ad81f1b6-5be5-4c72-862e-e5c612538db4",
   "metadata": {},
   "outputs": [],
   "source": [
    "group_data = df_weather.groupby(\"city\")"
   ]
  },
  {
   "cell_type": "code",
   "execution_count": 8,
   "id": "f4057a51-291b-4521-99c3-098c63b51faf",
   "metadata": {},
   "outputs": [
    {
     "data": {
      "text/plain": [
       "<pandas.core.groupby.generic.DataFrameGroupBy object at 0x00000221ACB71550>"
      ]
     },
     "execution_count": 8,
     "metadata": {},
     "output_type": "execute_result"
    }
   ],
   "source": [
    "group_data"
   ]
  },
  {
   "cell_type": "code",
   "execution_count": 9,
   "id": "3626f821-d841-43b3-b0dd-a88e292c60e3",
   "metadata": {},
   "outputs": [
    {
     "data": {
      "text/html": [
       "<div>\n",
       "<style scoped>\n",
       "    .dataframe tbody tr th:only-of-type {\n",
       "        vertical-align: middle;\n",
       "    }\n",
       "\n",
       "    .dataframe tbody tr th {\n",
       "        vertical-align: top;\n",
       "    }\n",
       "\n",
       "    .dataframe thead th {\n",
       "        text-align: right;\n",
       "    }\n",
       "</style>\n",
       "<table border=\"1\" class=\"dataframe\">\n",
       "  <thead>\n",
       "    <tr style=\"text-align: right;\">\n",
       "      <th></th>\n",
       "      <th>city</th>\n",
       "      <th>windspeed</th>\n",
       "      <th>temperature</th>\n",
       "      <th>event</th>\n",
       "    </tr>\n",
       "  </thead>\n",
       "  <tbody>\n",
       "    <tr>\n",
       "      <th>0</th>\n",
       "      <td>Mumbai</td>\n",
       "      <td>2.50</td>\n",
       "      <td>24</td>\n",
       "      <td>Sunny</td>\n",
       "    </tr>\n",
       "    <tr>\n",
       "      <th>4</th>\n",
       "      <td>Mumbai</td>\n",
       "      <td>3.80</td>\n",
       "      <td>25</td>\n",
       "      <td>Winter</td>\n",
       "    </tr>\n",
       "    <tr>\n",
       "      <th>8</th>\n",
       "      <td>Mumbai</td>\n",
       "      <td>4.40</td>\n",
       "      <td>22</td>\n",
       "      <td>Winter</td>\n",
       "    </tr>\n",
       "    <tr>\n",
       "      <th>12</th>\n",
       "      <td>Mumbai</td>\n",
       "      <td>1.66</td>\n",
       "      <td>28</td>\n",
       "      <td>Cloudy</td>\n",
       "    </tr>\n",
       "  </tbody>\n",
       "</table>\n",
       "</div>"
      ],
      "text/plain": [
       "      city  windspeed  temperature   event\n",
       "0   Mumbai       2.50           24   Sunny\n",
       "4   Mumbai       3.80           25  Winter\n",
       "8   Mumbai       4.40           22  Winter\n",
       "12  Mumbai       1.66           28  Cloudy"
      ]
     },
     "execution_count": 9,
     "metadata": {},
     "output_type": "execute_result"
    }
   ],
   "source": [
    "group_data.get_group(\"Mumbai\")"
   ]
  },
  {
   "cell_type": "code",
   "execution_count": 11,
   "id": "fd826777-ad52-4563-ba18-da9fd5b33c84",
   "metadata": {},
   "outputs": [
    {
     "data": {
      "text/html": [
       "<div>\n",
       "<style scoped>\n",
       "    .dataframe tbody tr th:only-of-type {\n",
       "        vertical-align: middle;\n",
       "    }\n",
       "\n",
       "    .dataframe tbody tr th {\n",
       "        vertical-align: top;\n",
       "    }\n",
       "\n",
       "    .dataframe thead th {\n",
       "        text-align: right;\n",
       "    }\n",
       "</style>\n",
       "<table border=\"1\" class=\"dataframe\">\n",
       "  <thead>\n",
       "    <tr style=\"text-align: right;\">\n",
       "      <th></th>\n",
       "      <th>city</th>\n",
       "      <th>windspeed</th>\n",
       "      <th>temperature</th>\n",
       "      <th>event</th>\n",
       "    </tr>\n",
       "  </thead>\n",
       "  <tbody>\n",
       "    <tr>\n",
       "      <th>2</th>\n",
       "      <td>Delhi</td>\n",
       "      <td>5.5</td>\n",
       "      <td>15</td>\n",
       "      <td>Sunny</td>\n",
       "    </tr>\n",
       "    <tr>\n",
       "      <th>6</th>\n",
       "      <td>Delhi</td>\n",
       "      <td>1.9</td>\n",
       "      <td>12</td>\n",
       "      <td>Sunny</td>\n",
       "    </tr>\n",
       "    <tr>\n",
       "      <th>10</th>\n",
       "      <td>Delhi</td>\n",
       "      <td>3.9</td>\n",
       "      <td>22</td>\n",
       "      <td>Cloudy</td>\n",
       "    </tr>\n",
       "  </tbody>\n",
       "</table>\n",
       "</div>"
      ],
      "text/plain": [
       "     city  windspeed  temperature   event\n",
       "2   Delhi        5.5           15   Sunny\n",
       "6   Delhi        1.9           12   Sunny\n",
       "10  Delhi        3.9           22  Cloudy"
      ]
     },
     "execution_count": 11,
     "metadata": {},
     "output_type": "execute_result"
    }
   ],
   "source": [
    "group_data.get_group(\"Delhi\")"
   ]
  },
  {
   "cell_type": "code",
   "execution_count": 12,
   "id": "f5709864-90ba-488d-8d77-d9aa9a799b9a",
   "metadata": {},
   "outputs": [
    {
     "name": "stdout",
     "output_type": "stream",
     "text": [
      "City = Delhi\n",
      "     city  windspeed  temperature   event\n",
      "2   Delhi        5.5           15   Sunny\n",
      "6   Delhi        1.9           12   Sunny\n",
      "10  Delhi        3.9           22  Cloudy\n",
      "City = Mumbai\n",
      "      city  windspeed  temperature   event\n",
      "0   Mumbai       2.50           24   Sunny\n",
      "4   Mumbai       3.80           25  Winter\n",
      "8   Mumbai       4.40           22  Winter\n",
      "12  Mumbai       1.66           28  Cloudy\n",
      "City = Nashik\n",
      "      city  windspeed  temperature  event\n",
      "3   Nashik        2.8           26  Rainy\n",
      "7   Nashik        1.6           24  Sunny\n",
      "11  Nashik        3.2           29  Sunny\n",
      "City = Pune\n",
      "    city  windspeed  temperature   event\n",
      "1   Pune       3.00           29  Cloudy\n",
      "5   Pune       1.50           32  Winter\n",
      "9   Pune       2.00           28    Snow\n",
      "13  Pune       3.85           35    Cold\n"
     ]
    }
   ],
   "source": [
    "for city,data in group_data:\n",
    "    print(F\"City = {city}\")\n",
    "    print(data)"
   ]
  },
  {
   "cell_type": "markdown",
   "id": "26295ee9-5888-4c7a-880d-01e5b73c879b",
   "metadata": {},
   "source": [
    "# Find min max and avg temperature of each city"
   ]
  },
  {
   "cell_type": "code",
   "execution_count": 14,
   "id": "36221ebd-5369-49ed-b7b3-aafba6ddfc15",
   "metadata": {},
   "outputs": [
    {
     "name": "stdout",
     "output_type": "stream",
     "text": [
      "City = Delhi\n",
      "Min Temperature = 12\n",
      "Max Temperature = 22\n",
      "Average Temperature = 16.33\n",
      "City = Mumbai\n",
      "Min Temperature = 22\n",
      "Max Temperature = 28\n",
      "Average Temperature = 24.75\n",
      "City = Nashik\n",
      "Min Temperature = 24\n",
      "Max Temperature = 29\n",
      "Average Temperature = 26.33\n",
      "City = Pune\n",
      "Min Temperature = 28\n",
      "Max Temperature = 35\n",
      "Average Temperature = 31.0\n"
     ]
    }
   ],
   "source": [
    "for city,data in group_data:\n",
    "    print(F\"City = {city}\")\n",
    "    print(f\"Min Temperature = {data.temperature.min()}\")\n",
    "    print(f\"Max Temperature = {data.temperature.max()}\")\n",
    "    print(f\"Average Temperature = {data.temperature.mean().round(2)}\")"
   ]
  },
  {
   "cell_type": "code",
   "execution_count": 15,
   "id": "d8bf17ad-326f-4dd2-aedb-67c75ded9c90",
   "metadata": {},
   "outputs": [
    {
     "data": {
      "text/plain": [
       "city\n",
       "Delhi     3\n",
       "Mumbai    4\n",
       "Nashik    3\n",
       "Pune      4\n",
       "dtype: int64"
      ]
     },
     "execution_count": 15,
     "metadata": {},
     "output_type": "execute_result"
    }
   ],
   "source": [
    "group_data.size()"
   ]
  },
  {
   "cell_type": "code",
   "execution_count": null,
   "id": "1ac7401b-147d-4a92-b946-28f67b3306d6",
   "metadata": {},
   "outputs": [],
   "source": []
  }
 ],
 "metadata": {
  "kernelspec": {
   "display_name": "Python 3 (ipykernel)",
   "language": "python",
   "name": "python3"
  },
  "language_info": {
   "codemirror_mode": {
    "name": "ipython",
    "version": 3
   },
   "file_extension": ".py",
   "mimetype": "text/x-python",
   "name": "python",
   "nbconvert_exporter": "python",
   "pygments_lexer": "ipython3",
   "version": "3.12.0"
  }
 },
 "nbformat": 4,
 "nbformat_minor": 5
}
