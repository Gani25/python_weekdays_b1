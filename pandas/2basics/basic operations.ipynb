{
 "cells": [
  {
   "cell_type": "code",
   "execution_count": 1,
   "id": "2cc0447b-6fd5-4cbb-aa13-0a68a66e7de2",
   "metadata": {},
   "outputs": [],
   "source": [
    "import pandas as pd"
   ]
  },
  {
   "cell_type": "code",
   "execution_count": 2,
   "id": "ade7a621-9b65-48ac-9988-5771ca087206",
   "metadata": {},
   "outputs": [
    {
     "data": {
      "text/html": [
       "<div>\n",
       "<style scoped>\n",
       "    .dataframe tbody tr th:only-of-type {\n",
       "        vertical-align: middle;\n",
       "    }\n",
       "\n",
       "    .dataframe tbody tr th {\n",
       "        vertical-align: top;\n",
       "    }\n",
       "\n",
       "    .dataframe thead th {\n",
       "        text-align: right;\n",
       "    }\n",
       "</style>\n",
       "<table border=\"1\" class=\"dataframe\">\n",
       "  <thead>\n",
       "    <tr style=\"text-align: right;\">\n",
       "      <th></th>\n",
       "      <th>title</th>\n",
       "      <th>industry</th>\n",
       "      <th>release_year</th>\n",
       "      <th>imdb_rating</th>\n",
       "      <th>studio</th>\n",
       "      <th>budget</th>\n",
       "      <th>revenue</th>\n",
       "      <th>unit</th>\n",
       "      <th>currency</th>\n",
       "      <th>language</th>\n",
       "    </tr>\n",
       "  </thead>\n",
       "  <tbody>\n",
       "    <tr>\n",
       "      <th>0</th>\n",
       "      <td>PK</td>\n",
       "      <td>Bollywood</td>\n",
       "      <td>2014</td>\n",
       "      <td>8.1</td>\n",
       "      <td>UTV Motion Pictures</td>\n",
       "      <td>850.0</td>\n",
       "      <td>7563.0</td>\n",
       "      <td>Millions</td>\n",
       "      <td>INR</td>\n",
       "      <td>Hindi</td>\n",
       "    </tr>\n",
       "    <tr>\n",
       "      <th>1</th>\n",
       "      <td>Conjuring 2</td>\n",
       "      <td>Hollywood</td>\n",
       "      <td>2016</td>\n",
       "      <td>7.3</td>\n",
       "      <td>Warner Bros. Pictures</td>\n",
       "      <td>40.0</td>\n",
       "      <td>321.0</td>\n",
       "      <td>Millions</td>\n",
       "      <td>USD</td>\n",
       "      <td>English</td>\n",
       "    </tr>\n",
       "    <tr>\n",
       "      <th>2</th>\n",
       "      <td>Pather Panchali</td>\n",
       "      <td>Bollywood</td>\n",
       "      <td>1955</td>\n",
       "      <td>8.3</td>\n",
       "      <td>Government of West Bengal</td>\n",
       "      <td>70000.0</td>\n",
       "      <td>100000.0</td>\n",
       "      <td>Thousands</td>\n",
       "      <td>INR</td>\n",
       "      <td>Bengali</td>\n",
       "    </tr>\n",
       "    <tr>\n",
       "      <th>3</th>\n",
       "      <td>Doctor Strange in the Multiverse of Madness</td>\n",
       "      <td>Hollywood</td>\n",
       "      <td>2022</td>\n",
       "      <td>7.0</td>\n",
       "      <td>Marvel Studios</td>\n",
       "      <td>200.0</td>\n",
       "      <td>954.8</td>\n",
       "      <td>Millions</td>\n",
       "      <td>USD</td>\n",
       "      <td>English</td>\n",
       "    </tr>\n",
       "    <tr>\n",
       "      <th>4</th>\n",
       "      <td>Thor: The Dark World</td>\n",
       "      <td>Hollywood</td>\n",
       "      <td>2013</td>\n",
       "      <td>6.8</td>\n",
       "      <td>Marvel Studios</td>\n",
       "      <td>165.0</td>\n",
       "      <td>644.8</td>\n",
       "      <td>Millions</td>\n",
       "      <td>USD</td>\n",
       "      <td>English</td>\n",
       "    </tr>\n",
       "  </tbody>\n",
       "</table>\n",
       "</div>"
      ],
      "text/plain": [
       "                                         title   industry  release_year  \\\n",
       "0                                           PK  Bollywood          2014   \n",
       "1                                  Conjuring 2  Hollywood          2016   \n",
       "2                              Pather Panchali  Bollywood          1955   \n",
       "3  Doctor Strange in the Multiverse of Madness  Hollywood          2022   \n",
       "4                        Thor: The Dark World   Hollywood          2013   \n",
       "\n",
       "   imdb_rating                     studio   budget   revenue       unit  \\\n",
       "0          8.1        UTV Motion Pictures    850.0    7563.0   Millions   \n",
       "1          7.3      Warner Bros. Pictures     40.0     321.0   Millions   \n",
       "2          8.3  Government of West Bengal  70000.0  100000.0  Thousands   \n",
       "3          7.0             Marvel Studios    200.0     954.8   Millions   \n",
       "4          6.8             Marvel Studios    165.0     644.8   Millions   \n",
       "\n",
       "  currency language  \n",
       "0      INR    Hindi  \n",
       "1      USD  English  \n",
       "2      INR  Bengali  \n",
       "3      USD  English  \n",
       "4      USD  English  "
      ]
     },
     "execution_count": 2,
     "metadata": {},
     "output_type": "execute_result"
    }
   ],
   "source": [
    "df = pd.read_csv(\"movies.csv\")\n",
    "df.head()"
   ]
  },
  {
   "cell_type": "code",
   "execution_count": 3,
   "id": "abbdf3ec-d4bd-4833-8a71-4df53a625d91",
   "metadata": {},
   "outputs": [
    {
     "data": {
      "text/plain": [
       "Index(['title', 'industry', 'release_year', 'imdb_rating', 'studio', 'budget',\n",
       "       'revenue', 'unit', 'currency', 'language'],\n",
       "      dtype='object')"
      ]
     },
     "execution_count": 3,
     "metadata": {},
     "output_type": "execute_result"
    }
   ],
   "source": [
    "df.columns"
   ]
  },
  {
   "cell_type": "code",
   "execution_count": 4,
   "id": "97c50da8-ac74-4f6d-b95e-07180b19d59d",
   "metadata": {},
   "outputs": [
    {
     "data": {
      "text/plain": [
       "(40, 10)"
      ]
     },
     "execution_count": 4,
     "metadata": {},
     "output_type": "execute_result"
    }
   ],
   "source": [
    "df.shape"
   ]
  },
  {
   "cell_type": "code",
   "execution_count": 6,
   "id": "92866e7d-775c-4df4-b4e3-3bc18e1ab26c",
   "metadata": {},
   "outputs": [
    {
     "data": {
      "text/plain": [
       "array(['Bollywood', 'Hollywood'], dtype=object)"
      ]
     },
     "execution_count": 6,
     "metadata": {},
     "output_type": "execute_result"
    }
   ],
   "source": [
    "df.industry.unique()"
   ]
  },
  {
   "cell_type": "code",
   "execution_count": 7,
   "id": "eaa7da3b-e818-432c-8e68-b2c423df92e8",
   "metadata": {},
   "outputs": [
    {
     "data": {
      "text/plain": [
       "array(['UTV Motion Pictures', 'Warner Bros. Pictures',\n",
       "       'Government of West Bengal', 'Marvel Studios', 'MGM Studios',\n",
       "       'Castle Rock Entertainment', 'Columbia Pictures',\n",
       "       'Universal Pictures  ', 'Paramount Pictures', 'Liberty Films',\n",
       "       '20th Century Fox', 'Syncopy', 'Universal Pictures', nan,\n",
       "       'Yash Raj Films', 'Vinod Chopra Films', 'Dharma Productions',\n",
       "       'Vinod Chopra Productions', 'Zee Studios', 'Salman Khan Films',\n",
       "       'Hombale Films', 'Mythri Movie Makers', 'DVV Entertainment',\n",
       "       'Arka Media Works'], dtype=object)"
      ]
     },
     "execution_count": 7,
     "metadata": {},
     "output_type": "execute_result"
    }
   ],
   "source": [
    "df[\"studio\"].unique()"
   ]
  },
  {
   "cell_type": "code",
   "execution_count": 8,
   "id": "4d12e4f9-fdb7-4eb1-9cbc-e4dae47eb2d8",
   "metadata": {},
   "outputs": [
    {
     "data": {
      "text/plain": [
       "24"
      ]
     },
     "execution_count": 8,
     "metadata": {},
     "output_type": "execute_result"
    }
   ],
   "source": [
    "len(df[\"studio\"].unique())"
   ]
  },
  {
   "cell_type": "code",
   "execution_count": 11,
   "id": "057aabb7-fc4c-4175-a4ea-293ef475c0b9",
   "metadata": {},
   "outputs": [
    {
     "data": {
      "text/plain": [
       "studio\n",
       "Marvel Studios               8\n",
       "Vinod Chopra Films           3\n",
       "Warner Bros. Pictures        2\n",
       "Dharma Productions           2\n",
       "Universal Pictures           2\n",
       "Paramount Pictures           2\n",
       "Salman Khan Films            2\n",
       "Columbia Pictures            1\n",
       "Castle Rock Entertainment    1\n",
       "MGM Studios                  1\n",
       "Government of West Bengal    1\n",
       "UTV Motion Pictures          1\n",
       "Liberty Films                1\n",
       "20th Century Fox             1\n",
       "Universal Pictures           1\n",
       "Yash Raj Films               1\n",
       "Syncopy                      1\n",
       "Vinod Chopra Productions     1\n",
       "Zee Studios                  1\n",
       "Hombale Films                1\n",
       "Mythri Movie Makers          1\n",
       "DVV Entertainment            1\n",
       "Arka Media Works             1\n",
       "Name: count, dtype: int64"
      ]
     },
     "execution_count": 11,
     "metadata": {},
     "output_type": "execute_result"
    }
   ],
   "source": [
    "df[\"studio\"].value_counts()"
   ]
  },
  {
   "cell_type": "code",
   "execution_count": 12,
   "id": "c23a4252-5bc2-4323-bfff-108fb7828302",
   "metadata": {},
   "outputs": [
    {
     "data": {
      "text/plain": [
       "industry\n",
       "Hollywood    22\n",
       "Bollywood    18\n",
       "Name: count, dtype: int64"
      ]
     },
     "execution_count": 12,
     "metadata": {},
     "output_type": "execute_result"
    }
   ],
   "source": [
    "df.industry.value_counts()"
   ]
  },
  {
   "cell_type": "code",
   "execution_count": 13,
   "id": "63e14578-77ea-4ecd-8b52-e8dde9e03e3a",
   "metadata": {},
   "outputs": [
    {
     "data": {
      "text/plain": [
       "language\n",
       "English    22\n",
       "Hindi      13\n",
       "Telugu      3\n",
       "Bengali     1\n",
       "Kannada     1\n",
       "Name: count, dtype: int64"
      ]
     },
     "execution_count": 13,
     "metadata": {},
     "output_type": "execute_result"
    }
   ],
   "source": [
    "df.language.value_counts()"
   ]
  },
  {
   "cell_type": "code",
   "execution_count": 14,
   "id": "86178dea-6141-4774-810a-0e44bc1eec86",
   "metadata": {},
   "outputs": [
    {
     "data": {
      "text/plain": [
       "array(['INR', 'USD'], dtype=object)"
      ]
     },
     "execution_count": 14,
     "metadata": {},
     "output_type": "execute_result"
    }
   ],
   "source": [
    "df.currency.unique()"
   ]
  },
  {
   "cell_type": "code",
   "execution_count": 15,
   "id": "4afa0e71-2a43-4597-86db-963ae360550a",
   "metadata": {},
   "outputs": [
    {
     "data": {
      "text/plain": [
       "currency\n",
       "USD    22\n",
       "INR    18\n",
       "Name: count, dtype: int64"
      ]
     },
     "execution_count": 15,
     "metadata": {},
     "output_type": "execute_result"
    }
   ],
   "source": [
    "df.currency.value_counts()"
   ]
  },
  {
   "cell_type": "code",
   "execution_count": 16,
   "id": "b698f62c-6eb3-4419-aa02-02db775c8ded",
   "metadata": {},
   "outputs": [
    {
     "name": "stdout",
     "output_type": "stream",
     "text": [
      "<class 'pandas.core.frame.DataFrame'>\n",
      "RangeIndex: 40 entries, 0 to 39\n",
      "Data columns (total 10 columns):\n",
      " #   Column        Non-Null Count  Dtype  \n",
      "---  ------        --------------  -----  \n",
      " 0   title         40 non-null     object \n",
      " 1   industry      40 non-null     object \n",
      " 2   release_year  40 non-null     int64  \n",
      " 3   imdb_rating   39 non-null     float64\n",
      " 4   studio        37 non-null     object \n",
      " 5   budget        40 non-null     float64\n",
      " 6   revenue       40 non-null     float64\n",
      " 7   unit          40 non-null     object \n",
      " 8   currency      40 non-null     object \n",
      " 9   language      40 non-null     object \n",
      "dtypes: float64(3), int64(1), object(6)\n",
      "memory usage: 3.3+ KB\n"
     ]
    }
   ],
   "source": [
    "df.info()"
   ]
  },
  {
   "cell_type": "code",
   "execution_count": 17,
   "id": "9d39deff-ff71-473f-8227-078bb0d21570",
   "metadata": {},
   "outputs": [
    {
     "data": {
      "text/html": [
       "<div>\n",
       "<style scoped>\n",
       "    .dataframe tbody tr th:only-of-type {\n",
       "        vertical-align: middle;\n",
       "    }\n",
       "\n",
       "    .dataframe tbody tr th {\n",
       "        vertical-align: top;\n",
       "    }\n",
       "\n",
       "    .dataframe thead th {\n",
       "        text-align: right;\n",
       "    }\n",
       "</style>\n",
       "<table border=\"1\" class=\"dataframe\">\n",
       "  <thead>\n",
       "    <tr style=\"text-align: right;\">\n",
       "      <th></th>\n",
       "      <th>release_year</th>\n",
       "      <th>imdb_rating</th>\n",
       "      <th>budget</th>\n",
       "      <th>revenue</th>\n",
       "    </tr>\n",
       "  </thead>\n",
       "  <tbody>\n",
       "    <tr>\n",
       "      <th>count</th>\n",
       "      <td>40.000000</td>\n",
       "      <td>39.000000</td>\n",
       "      <td>40.000000</td>\n",
       "      <td>40.000000</td>\n",
       "    </tr>\n",
       "    <tr>\n",
       "      <th>mean</th>\n",
       "      <td>2006.850000</td>\n",
       "      <td>7.912821</td>\n",
       "      <td>1951.012000</td>\n",
       "      <td>4007.407500</td>\n",
       "    </tr>\n",
       "    <tr>\n",
       "      <th>std</th>\n",
       "      <td>17.455511</td>\n",
       "      <td>1.161483</td>\n",
       "      <td>11038.031363</td>\n",
       "      <td>15764.441034</td>\n",
       "    </tr>\n",
       "    <tr>\n",
       "      <th>min</th>\n",
       "      <td>1946.000000</td>\n",
       "      <td>1.900000</td>\n",
       "      <td>1.000000</td>\n",
       "      <td>3.100000</td>\n",
       "    </tr>\n",
       "    <tr>\n",
       "      <th>25%</th>\n",
       "      <td>2000.750000</td>\n",
       "      <td>7.800000</td>\n",
       "      <td>13.425000</td>\n",
       "      <td>216.900000</td>\n",
       "    </tr>\n",
       "    <tr>\n",
       "      <th>50%</th>\n",
       "      <td>2014.000000</td>\n",
       "      <td>8.100000</td>\n",
       "      <td>165.000000</td>\n",
       "      <td>685.900000</td>\n",
       "    </tr>\n",
       "    <tr>\n",
       "      <th>75%</th>\n",
       "      <td>2018.000000</td>\n",
       "      <td>8.400000</td>\n",
       "      <td>285.000000</td>\n",
       "      <td>2012.000000</td>\n",
       "    </tr>\n",
       "    <tr>\n",
       "      <th>max</th>\n",
       "      <td>2022.000000</td>\n",
       "      <td>9.300000</td>\n",
       "      <td>70000.000000</td>\n",
       "      <td>100000.000000</td>\n",
       "    </tr>\n",
       "  </tbody>\n",
       "</table>\n",
       "</div>"
      ],
      "text/plain": [
       "       release_year  imdb_rating        budget        revenue\n",
       "count     40.000000    39.000000     40.000000      40.000000\n",
       "mean    2006.850000     7.912821   1951.012000    4007.407500\n",
       "std       17.455511     1.161483  11038.031363   15764.441034\n",
       "min     1946.000000     1.900000      1.000000       3.100000\n",
       "25%     2000.750000     7.800000     13.425000     216.900000\n",
       "50%     2014.000000     8.100000    165.000000     685.900000\n",
       "75%     2018.000000     8.400000    285.000000    2012.000000\n",
       "max     2022.000000     9.300000  70000.000000  100000.000000"
      ]
     },
     "execution_count": 17,
     "metadata": {},
     "output_type": "execute_result"
    }
   ],
   "source": [
    "df.describe()"
   ]
  },
  {
   "cell_type": "code",
   "execution_count": null,
   "id": "028afe5c-f6d5-4054-8fca-403c9416c6ce",
   "metadata": {},
   "outputs": [],
   "source": []
  }
 ],
 "metadata": {
  "kernelspec": {
   "display_name": "Python 3 (ipykernel)",
   "language": "python",
   "name": "python3"
  },
  "language_info": {
   "codemirror_mode": {
    "name": "ipython",
    "version": 3
   },
   "file_extension": ".py",
   "mimetype": "text/x-python",
   "name": "python",
   "nbconvert_exporter": "python",
   "pygments_lexer": "ipython3",
   "version": "3.12.0"
  }
 },
 "nbformat": 4,
 "nbformat_minor": 5
}
