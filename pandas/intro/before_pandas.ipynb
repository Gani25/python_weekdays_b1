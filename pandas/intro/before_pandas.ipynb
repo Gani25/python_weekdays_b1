{
 "cells": [
  {
   "cell_type": "markdown",
   "id": "5429bd1d-9543-456f-b048-6db1476f1e63",
   "metadata": {},
   "source": [
    "# File Open (.csv)"
   ]
  },
  {
   "cell_type": "code",
   "execution_count": 1,
   "id": "c19547ca-eb73-4ec3-a811-733a871b718e",
   "metadata": {},
   "outputs": [],
   "source": [
    "import csv"
   ]
  },
  {
   "cell_type": "code",
   "execution_count": 5,
   "id": "2fd53dad-fc0b-4560-893d-2dd6775652c9",
   "metadata": {},
   "outputs": [
    {
     "name": "stdout",
     "output_type": "stream",
     "text": [
      "[['title', 'industry', 'release_year', 'imdb_rating', 'studio', 'budget', 'revenue', 'unit', 'currency', 'language'], ['PK', 'Bollywood', '2014', '8.1', 'UTV Motion Pictures', '850', '7563', 'Millions', 'INR', 'Hindi'], ['Conjuring 2', 'Hollywood', '2016', '7.3', 'Warner Bros. Pictures', '40', '321', 'Millions', 'USD', 'English'], ['Pather Panchali', 'Bollywood', '1955', '8.3', 'Government of West Bengal', '70000', '100000', 'Thousands', 'INR', 'Bengali'], ['Doctor Strange in the Multiverse of Madness', 'Hollywood', '2022', '7', 'Marvel Studios', '200', '954.8', 'Millions', 'USD', 'English']]\n"
     ]
    }
   ],
   "source": [
    "with open(\"movies.csv\",\"r\") as file:\n",
    "    data = list(csv.reader(file))\n",
    "    print(data[:5])"
   ]
  },
  {
   "cell_type": "code",
   "execution_count": 6,
   "id": "92017e96-d95b-4adf-802f-187f2c698fb1",
   "metadata": {},
   "outputs": [
    {
     "data": {
      "text/plain": [
       "['title',\n",
       " 'industry',\n",
       " 'release_year',\n",
       " 'imdb_rating',\n",
       " 'studio',\n",
       " 'budget',\n",
       " 'revenue',\n",
       " 'unit',\n",
       " 'currency',\n",
       " 'language']"
      ]
     },
     "execution_count": 6,
     "metadata": {},
     "output_type": "execute_result"
    }
   ],
   "source": [
    "data[0]"
   ]
  },
  {
   "cell_type": "code",
   "execution_count": 7,
   "id": "46ed2476-15b8-42e2-9f3c-fe0480975d77",
   "metadata": {},
   "outputs": [
    {
     "data": {
      "text/plain": [
       "[['PK',\n",
       "  'Bollywood',\n",
       "  '2014',\n",
       "  '8.1',\n",
       "  'UTV Motion Pictures',\n",
       "  '850',\n",
       "  '7563',\n",
       "  'Millions',\n",
       "  'INR',\n",
       "  'Hindi'],\n",
       " ['Conjuring 2',\n",
       "  'Hollywood',\n",
       "  '2016',\n",
       "  '7.3',\n",
       "  'Warner Bros. Pictures',\n",
       "  '40',\n",
       "  '321',\n",
       "  'Millions',\n",
       "  'USD',\n",
       "  'English'],\n",
       " ['Pather Panchali',\n",
       "  'Bollywood',\n",
       "  '1955',\n",
       "  '8.3',\n",
       "  'Government of West Bengal',\n",
       "  '70000',\n",
       "  '100000',\n",
       "  'Thousands',\n",
       "  'INR',\n",
       "  'Bengali'],\n",
       " ['Doctor Strange in the Multiverse of Madness',\n",
       "  'Hollywood',\n",
       "  '2022',\n",
       "  '7',\n",
       "  'Marvel Studios',\n",
       "  '200',\n",
       "  '954.8',\n",
       "  'Millions',\n",
       "  'USD',\n",
       "  'English']]"
      ]
     },
     "execution_count": 7,
     "metadata": {},
     "output_type": "execute_result"
    }
   ],
   "source": [
    "data[1:5]"
   ]
  },
  {
   "cell_type": "code",
   "execution_count": null,
   "id": "8898f385-d452-4ad0-b70c-8ebe5aa1f949",
   "metadata": {},
   "outputs": [],
   "source": []
  },
  {
   "cell_type": "code",
   "execution_count": 8,
   "id": "da159d2c-9f4d-4530-97bb-a0c0f7de7105",
   "metadata": {},
   "outputs": [
    {
     "data": {
      "text/plain": [
       "['title',\n",
       " 'industry',\n",
       " 'release_year',\n",
       " 'imdb_rating',\n",
       " 'studio',\n",
       " 'budget',\n",
       " 'revenue',\n",
       " 'unit',\n",
       " 'currency',\n",
       " 'language']"
      ]
     },
     "execution_count": 8,
     "metadata": {},
     "output_type": "execute_result"
    }
   ],
   "source": [
    "headers = data[0]\n",
    "headers"
   ]
  },
  {
   "cell_type": "code",
   "execution_count": 9,
   "id": "b07f14db-c42c-44a5-b581-676ac79dbee5",
   "metadata": {},
   "outputs": [
    {
     "data": {
      "text/plain": [
       "[['PK',\n",
       "  'Bollywood',\n",
       "  '2014',\n",
       "  '8.1',\n",
       "  'UTV Motion Pictures',\n",
       "  '850',\n",
       "  '7563',\n",
       "  'Millions',\n",
       "  'INR',\n",
       "  'Hindi'],\n",
       " ['Conjuring 2',\n",
       "  'Hollywood',\n",
       "  '2016',\n",
       "  '7.3',\n",
       "  'Warner Bros. Pictures',\n",
       "  '40',\n",
       "  '321',\n",
       "  'Millions',\n",
       "  'USD',\n",
       "  'English'],\n",
       " ['Pather Panchali',\n",
       "  'Bollywood',\n",
       "  '1955',\n",
       "  '8.3',\n",
       "  'Government of West Bengal',\n",
       "  '70000',\n",
       "  '100000',\n",
       "  'Thousands',\n",
       "  'INR',\n",
       "  'Bengali'],\n",
       " ['Doctor Strange in the Multiverse of Madness',\n",
       "  'Hollywood',\n",
       "  '2022',\n",
       "  '7',\n",
       "  'Marvel Studios',\n",
       "  '200',\n",
       "  '954.8',\n",
       "  'Millions',\n",
       "  'USD',\n",
       "  'English'],\n",
       " ['Thor: The Dark World ',\n",
       "  'Hollywood',\n",
       "  '2013',\n",
       "  '6.8',\n",
       "  'Marvel Studios',\n",
       "  '165',\n",
       "  '644.8',\n",
       "  'Millions',\n",
       "  'USD',\n",
       "  'English']]"
      ]
     },
     "execution_count": 9,
     "metadata": {},
     "output_type": "execute_result"
    }
   ],
   "source": [
    "data = data[1:]\n",
    "data[0:5]"
   ]
  },
  {
   "cell_type": "code",
   "execution_count": 10,
   "id": "3922f079-5072-4cdd-aded-f3de8e783b16",
   "metadata": {},
   "outputs": [
    {
     "data": {
      "text/plain": [
       "[['Baahubali: The Beginning',\n",
       "  'Bollywood',\n",
       "  '2015',\n",
       "  '8',\n",
       "  'Arka Media Works',\n",
       "  '1.8',\n",
       "  '6.5',\n",
       "  'Billions',\n",
       "  'INR',\n",
       "  'Telugu'],\n",
       " ['RRR',\n",
       "  'Bollywood',\n",
       "  '2022',\n",
       "  '8',\n",
       "  'DVV Entertainment',\n",
       "  '5.5',\n",
       "  '12',\n",
       "  'Billions',\n",
       "  'INR',\n",
       "  'Telugu']]"
      ]
     },
     "execution_count": 10,
     "metadata": {},
     "output_type": "execute_result"
    }
   ],
   "source": [
    "data[-1:-3:-1]"
   ]
  },
  {
   "cell_type": "markdown",
   "id": "6f2d4ba3-823d-406b-9024-87e184e91834",
   "metadata": {},
   "source": [
    "# Fetch only imdb_rating from above data"
   ]
  },
  {
   "cell_type": "code",
   "execution_count": 17,
   "id": "02d876f3-0c7a-4ed6-910e-a175ead969bc",
   "metadata": {},
   "outputs": [
    {
     "data": {
      "text/plain": [
       "40"
      ]
     },
     "execution_count": 17,
     "metadata": {},
     "output_type": "execute_result"
    }
   ],
   "source": [
    "ratings = []\n",
    "for row in data:\n",
    "    imbd_rating = row[3]\n",
    "    ratings.append(imbd_rating)\n",
    "\n",
    "len(ratings)\n",
    "    "
   ]
  },
  {
   "cell_type": "code",
   "execution_count": 19,
   "id": "2cc3b112-ddf6-4df2-9cec-fc973b17c6eb",
   "metadata": {},
   "outputs": [
    {
     "data": {
      "text/plain": [
       "39"
      ]
     },
     "execution_count": 19,
     "metadata": {},
     "output_type": "execute_result"
    }
   ],
   "source": [
    "ratings = []\n",
    "for row in data:\n",
    "    if row[3] != \"NULL\":\n",
    "        imbd_rating = float(row[3])\n",
    "        ratings.append(imbd_rating)\n",
    "\n",
    "len(ratings)"
   ]
  },
  {
   "cell_type": "code",
   "execution_count": 20,
   "id": "b66301f1-6a4a-41b9-ad7f-9006ec7398a5",
   "metadata": {},
   "outputs": [
    {
     "data": {
      "text/plain": [
       "[8.1,\n",
       " 7.3,\n",
       " 8.3,\n",
       " 7.0,\n",
       " 6.8,\n",
       " 7.9,\n",
       " 6.8,\n",
       " 8.1,\n",
       " 9.3,\n",
       " 8.6,\n",
       " 8.0,\n",
       " 8.5,\n",
       " 7.9,\n",
       " 8.6,\n",
       " 7.8,\n",
       " 9.2,\n",
       " 9.0,\n",
       " 9.0,\n",
       " 8.2,\n",
       " 8.5,\n",
       " 8.4,\n",
       " 8.4,\n",
       " 6.9,\n",
       " 7.8,\n",
       " 8.0,\n",
       " 8.4,\n",
       " 7.4,\n",
       " 7.2,\n",
       " 8.3,\n",
       " 8.1,\n",
       " 8.1,\n",
       " 8.3,\n",
       " 8.1,\n",
       " 1.9,\n",
       " 8.4,\n",
       " 8.4,\n",
       " 7.6,\n",
       " 8.0,\n",
       " 8.0]"
      ]
     },
     "execution_count": 20,
     "metadata": {},
     "output_type": "execute_result"
    }
   ],
   "source": [
    "ratings"
   ]
  },
  {
   "cell_type": "code",
   "execution_count": 24,
   "id": "1f26b5ac-6f42-4ef5-8fd6-fb7af5cbb551",
   "metadata": {},
   "outputs": [
    {
     "name": "stdout",
     "output_type": "stream",
     "text": [
      "Maximum Ratings of all movies is 9.3\n",
      "Minimum Ratings of all movies is 1.9\n",
      "Average Ratings of all movies is 7.91\n"
     ]
    }
   ],
   "source": [
    "print(f\"Maximum Ratings of all movies is {max(ratings)}\")\n",
    "print(f\"Minimum Ratings of all movies is {min(ratings)}\")\n",
    "print(f\"Average Ratings of all movies is {round(sum(ratings)/len(ratings),2)}\")"
   ]
  },
  {
   "cell_type": "code",
   "execution_count": null,
   "id": "44a1d2fa-e83e-4e24-9b83-44fe42763213",
   "metadata": {},
   "outputs": [],
   "source": []
  }
 ],
 "metadata": {
  "kernelspec": {
   "display_name": "Python 3 (ipykernel)",
   "language": "python",
   "name": "python3"
  },
  "language_info": {
   "codemirror_mode": {
    "name": "ipython",
    "version": 3
   },
   "file_extension": ".py",
   "mimetype": "text/x-python",
   "name": "python",
   "nbconvert_exporter": "python",
   "pygments_lexer": "ipython3",
   "version": "3.12.0"
  }
 },
 "nbformat": 4,
 "nbformat_minor": 5
}
