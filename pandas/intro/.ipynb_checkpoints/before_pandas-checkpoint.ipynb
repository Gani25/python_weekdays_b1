{
 "cells": [
  {
   "cell_type": "markdown",
   "id": "5429bd1d-9543-456f-b048-6db1476f1e63",
   "metadata": {},
   "source": [
    "# File Open (.csv)"
   ]
  },
  {
   "cell_type": "code",
   "execution_count": 1,
   "id": "c19547ca-eb73-4ec3-a811-733a871b718e",
   "metadata": {},
   "outputs": [],
   "source": [
    "import csv"
   ]
  },
  {
   "cell_type": "code",
   "execution_count": 5,
   "id": "2fd53dad-fc0b-4560-893d-2dd6775652c9",
   "metadata": {},
   "outputs": [
    {
     "name": "stdout",
     "output_type": "stream",
     "text": [
      "[['title', 'industry', 'release_year', 'imdb_rating', 'studio', 'budget', 'revenue', 'unit', 'currency', 'language'], ['PK', 'Bollywood', '2014', '8.1', 'UTV Motion Pictures', '850', '7563', 'Millions', 'INR', 'Hindi'], ['Conjuring 2', 'Hollywood', '2016', '7.3', 'Warner Bros. Pictures', '40', '321', 'Millions', 'USD', 'English'], ['Pather Panchali', 'Bollywood', '1955', '8.3', 'Government of West Bengal', '70000', '100000', 'Thousands', 'INR', 'Bengali'], ['Doctor Strange in the Multiverse of Madness', 'Hollywood', '2022', '7', 'Marvel Studios', '200', '954.8', 'Millions', 'USD', 'English']]\n"
     ]
    }
   ],
   "source": [
    "with open(\"movies.csv\",\"r\") as file:\n",
    "    data = list(csv.reader(file))\n",
    "    print(data[:5])"
   ]
  },
  {
   "cell_type": "code",
   "execution_count": 6,
   "id": "92017e96-d95b-4adf-802f-187f2c698fb1",
   "metadata": {},
   "outputs": [
    {
     "data": {
      "text/plain": [
       "['title',\n",
       " 'industry',\n",
       " 'release_year',\n",
       " 'imdb_rating',\n",
       " 'studio',\n",
       " 'budget',\n",
       " 'revenue',\n",
       " 'unit',\n",
       " 'currency',\n",
       " 'language']"
      ]
     },
     "execution_count": 6,
     "metadata": {},
     "output_type": "execute_result"
    }
   ],
   "source": [
    "data[0]"
   ]
  },
  {
   "cell_type": "code",
   "execution_count": 7,
   "id": "46ed2476-15b8-42e2-9f3c-fe0480975d77",
   "metadata": {},
   "outputs": [
    {
     "data": {
      "text/plain": [
       "[['PK',\n",
       "  'Bollywood',\n",
       "  '2014',\n",
       "  '8.1',\n",
       "  'UTV Motion Pictures',\n",
       "  '850',\n",
       "  '7563',\n",
       "  'Millions',\n",
       "  'INR',\n",
       "  'Hindi'],\n",
       " ['Conjuring 2',\n",
       "  'Hollywood',\n",
       "  '2016',\n",
       "  '7.3',\n",
       "  'Warner Bros. Pictures',\n",
       "  '40',\n",
       "  '321',\n",
       "  'Millions',\n",
       "  'USD',\n",
       "  'English'],\n",
       " ['Pather Panchali',\n",
       "  'Bollywood',\n",
       "  '1955',\n",
       "  '8.3',\n",
       "  'Government of West Bengal',\n",
       "  '70000',\n",
       "  '100000',\n",
       "  'Thousands',\n",
       "  'INR',\n",
       "  'Bengali'],\n",
       " ['Doctor Strange in the Multiverse of Madness',\n",
       "  'Hollywood',\n",
       "  '2022',\n",
       "  '7',\n",
       "  'Marvel Studios',\n",
       "  '200',\n",
       "  '954.8',\n",
       "  'Millions',\n",
       "  'USD',\n",
       "  'English']]"
      ]
     },
     "execution_count": 7,
     "metadata": {},
     "output_type": "execute_result"
    }
   ],
   "source": [
    "data[1:5]"
   ]
  },
  {
   "cell_type": "code",
   "execution_count": null,
   "id": "7f6517e2-d21b-45e3-93e5-74e0d06a01b5",
   "metadata": {},
   "outputs": [],
   "source": []
  }
 ],
 "metadata": {
  "kernelspec": {
   "display_name": "Python 3 (ipykernel)",
   "language": "python",
   "name": "python3"
  },
  "language_info": {
   "codemirror_mode": {
    "name": "ipython",
    "version": 3
   },
   "file_extension": ".py",
   "mimetype": "text/x-python",
   "name": "python",
   "nbconvert_exporter": "python",
   "pygments_lexer": "ipython3",
   "version": "3.12.0"
  }
 },
 "nbformat": 4,
 "nbformat_minor": 5
}
