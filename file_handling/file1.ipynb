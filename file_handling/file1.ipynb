{
 "cells": [
  {
   "cell_type": "markdown",
   "id": "0d4bfc8a-fab5-44c3-959e-f15863004df7",
   "metadata": {},
   "source": [
    "# File Handling"
   ]
  },
  {
   "cell_type": "code",
   "execution_count": 1,
   "id": "d44285f8-d84f-4a71-91b0-63aab9ad0eb2",
   "metadata": {},
   "outputs": [
    {
     "data": {
      "text/plain": [
       "<_io.TextIOWrapper name='demo.txt' mode='r' encoding='cp1252'>"
      ]
     },
     "execution_count": 1,
     "metadata": {},
     "output_type": "execute_result"
    }
   ],
   "source": [
    "file = open(\"demo.txt\",\"r\")\n",
    "file"
   ]
  },
  {
   "cell_type": "code",
   "execution_count": 2,
   "id": "72007e3f-6220-4640-b457-9eb8f761ecf1",
   "metadata": {},
   "outputs": [
    {
     "name": "stdout",
     "output_type": "stream",
     "text": [
      "Hello!\n",
      "\n",
      "\n",
      "\n",
      "    Today is a Good Day\n",
      "\n",
      "    I am learning Python\n",
      "\n",
      "\n",
      "\n",
      "Thankyou\n"
     ]
    }
   ],
   "source": [
    "for line in file:\n",
    "    print(line)"
   ]
  },
  {
   "cell_type": "code",
   "execution_count": 3,
   "id": "8dd3ee65-e396-4e20-8b30-8d4c453cc85a",
   "metadata": {},
   "outputs": [
    {
     "data": {
      "text/plain": [
       "_io.TextIOWrapper"
      ]
     },
     "execution_count": 3,
     "metadata": {},
     "output_type": "execute_result"
    }
   ],
   "source": [
    "type(file)"
   ]
  },
  {
   "cell_type": "code",
   "execution_count": 4,
   "id": "a86310e2-d3d4-4bc3-80ce-f6081f9a9a9e",
   "metadata": {},
   "outputs": [],
   "source": [
    "file.close()"
   ]
  },
  {
   "cell_type": "code",
   "execution_count": 6,
   "id": "e4bd7681-13f7-4e39-a91a-924e71197eaa",
   "metadata": {},
   "outputs": [
    {
     "ename": "ValueError",
     "evalue": "I/O operation on closed file.",
     "output_type": "error",
     "traceback": [
      "\u001b[1;31m---------------------------------------------------------------------------\u001b[0m",
      "\u001b[1;31mValueError\u001b[0m                                Traceback (most recent call last)",
      "Cell \u001b[1;32mIn[6], line 1\u001b[0m\n\u001b[1;32m----> 1\u001b[0m \u001b[38;5;28;43;01mfor\u001b[39;49;00m\u001b[43m \u001b[49m\u001b[43mline\u001b[49m\u001b[43m \u001b[49m\u001b[38;5;129;43;01min\u001b[39;49;00m\u001b[43m \u001b[49m\u001b[43mfile\u001b[49m\u001b[43m:\u001b[49m\n\u001b[0;32m      2\u001b[0m \u001b[43m    \u001b[49m\u001b[38;5;28;43mprint\u001b[39;49m\u001b[43m(\u001b[49m\u001b[43mline\u001b[49m\u001b[43m)\u001b[49m\n",
      "\u001b[1;31mValueError\u001b[0m: I/O operation on closed file."
     ]
    }
   ],
   "source": [
    "for line in file:\n",
    "    print(line)"
   ]
  },
  {
   "cell_type": "code",
   "execution_count": 7,
   "id": "5df3db27-8f2e-4f0b-b7dc-ca131740cb0a",
   "metadata": {},
   "outputs": [
    {
     "name": "stdout",
     "output_type": "stream",
     "text": [
      "Hello!\n",
      "\n",
      "\n",
      "\n",
      "    Today is a Good Day\n",
      "\n",
      "    I am learning Python\n",
      "\n",
      "\n",
      "\n",
      "Thankyou\n"
     ]
    }
   ],
   "source": [
    "with open(\"demo.txt\",\"r\") as file:\n",
    "    for line in file:\n",
    "        print(line)\n"
   ]
  },
  {
   "cell_type": "code",
   "execution_count": 8,
   "id": "a92683d7-b7db-4481-afbe-7b21757db03b",
   "metadata": {},
   "outputs": [
    {
     "ename": "ValueError",
     "evalue": "I/O operation on closed file.",
     "output_type": "error",
     "traceback": [
      "\u001b[1;31m---------------------------------------------------------------------------\u001b[0m",
      "\u001b[1;31mValueError\u001b[0m                                Traceback (most recent call last)",
      "Cell \u001b[1;32mIn[8], line 1\u001b[0m\n\u001b[1;32m----> 1\u001b[0m \u001b[38;5;28;43;01mfor\u001b[39;49;00m\u001b[43m \u001b[49m\u001b[43mline\u001b[49m\u001b[43m \u001b[49m\u001b[38;5;129;43;01min\u001b[39;49;00m\u001b[43m \u001b[49m\u001b[43mfile\u001b[49m\u001b[43m:\u001b[49m\n\u001b[0;32m      2\u001b[0m \u001b[43m        \u001b[49m\u001b[38;5;28;43mprint\u001b[39;49m\u001b[43m(\u001b[49m\u001b[43mline\u001b[49m\u001b[43m)\u001b[49m\n",
      "\u001b[1;31mValueError\u001b[0m: I/O operation on closed file."
     ]
    }
   ],
   "source": [
    "for line in file:\n",
    "        print(line)"
   ]
  },
  {
   "cell_type": "code",
   "execution_count": 9,
   "id": "9701b6b7-10c5-4e53-9276-0c82ca3f7cdc",
   "metadata": {},
   "outputs": [
    {
     "name": "stdout",
     "output_type": "stream",
     "text": [
      "['Hello!\\n', '\\n', '    Today is a Good Day\\n', '    I am learning Python\\n', '\\n', 'Thankyou']\n"
     ]
    }
   ],
   "source": [
    "with open(\"demo.txt\",\"r\") as file:\n",
    "    print(file.readlines())"
   ]
  },
  {
   "cell_type": "code",
   "execution_count": 10,
   "id": "78d44729-9565-4c4b-910e-adf16b803a76",
   "metadata": {},
   "outputs": [
    {
     "name": "stdout",
     "output_type": "stream",
     "text": [
      "Hello!\n",
      "\n",
      "\n",
      "\n",
      "    Today is a Good Day\n",
      "\n",
      "    I am learning Python\n",
      "\n",
      "\n",
      "\n",
      "Thankyou\n"
     ]
    }
   ],
   "source": [
    "with open(\"demo.txt\",\"r\") as file:\n",
    "    lines = file.readlines()\n",
    "    for line in lines:\n",
    "        print(line)"
   ]
  },
  {
   "cell_type": "markdown",
   "id": "29c26d59-ea43-44af-ad28-37fd023aa99b",
   "metadata": {},
   "source": [
    "# Write Mode"
   ]
  },
  {
   "cell_type": "code",
   "execution_count": 16,
   "id": "f37d7bbd-2089-4725-bc41-446ae1aa3c32",
   "metadata": {},
   "outputs": [
    {
     "name": "stdout",
     "output_type": "stream",
     "text": [
      "Opened Successfully\n"
     ]
    }
   ],
   "source": [
    "file = None\n",
    "try:\n",
    "    with open(\"student.txt\",\"r\") as file:\n",
    "        print(\"Opened Successfully\")\n",
    "except Exception as e:\n",
    "    print(e)"
   ]
  },
  {
   "cell_type": "code",
   "execution_count": 17,
   "id": "0b9e15ce-3e91-485e-8bbc-6f4cf0232d2c",
   "metadata": {},
   "outputs": [
    {
     "name": "stdout",
     "output_type": "stream",
     "text": [
      "[Errno 2] No such file or directory: 'student1.txt'\n"
     ]
    }
   ],
   "source": [
    "file = None\n",
    "try:\n",
    "    with open(\"student1.txt\",\"r\") as file:\n",
    "        print(\"Opened Successfully\")\n",
    "except Exception as e:\n",
    "    print(e)"
   ]
  },
  {
   "cell_type": "code",
   "execution_count": 22,
   "id": "32ca62f4-752f-44d1-b90d-1cc0a0514df4",
   "metadata": {},
   "outputs": [
    {
     "name": "stdout",
     "output_type": "stream",
     "text": [
      "I like Python\n"
     ]
    }
   ],
   "source": [
    "with open(\"student.txt\",\"w\") as file:\n",
    "    file.write(\"I like Python\")\n",
    "with open(\"student.txt\",\"r\") as file:\n",
    "    for line in file:\n",
    "        print(line)"
   ]
  },
  {
   "cell_type": "code",
   "execution_count": 27,
   "id": "442099fc-7765-468c-8621-224fd5ca1c42",
   "metadata": {},
   "outputs": [
    {
     "name": "stdout",
     "output_type": "stream",
     "text": [
      "I like Java\n"
     ]
    }
   ],
   "source": [
    "with open(\"student.txt\",\"w\") as file:\n",
    "    file.write(\"I like Java\")\n",
    "with open(\"student.txt\",\"r\") as file:\n",
    "    for line in file:\n",
    "        print(line)"
   ]
  },
  {
   "cell_type": "code",
   "execution_count": 28,
   "id": "c75df1a7-aa62-464f-a88a-33089432e980",
   "metadata": {},
   "outputs": [
    {
     "name": "stdout",
     "output_type": "stream",
     "text": [
      "I like Java\n",
      "\n",
      "I am learning Python\n"
     ]
    }
   ],
   "source": [
    "with open(\"student.txt\",\"a\") as file:\n",
    "    file.write(\"\\nI am learning Python\")\n",
    "with open(\"student.txt\",\"r\") as file:\n",
    "    for line in file:\n",
    "        print(line)"
   ]
  },
  {
   "cell_type": "code",
   "execution_count": 29,
   "id": "8db61f29-e0ac-4a05-991f-772e1146c4c1",
   "metadata": {},
   "outputs": [
    {
     "name": "stdout",
     "output_type": "stream",
     "text": [
      "I like Java\n",
      "\n",
      "I am learning PythonToday is a Good Day\n"
     ]
    }
   ],
   "source": [
    "with open(\"student.txt\",\"a\") as file:\n",
    "    file.write(\"Today is a Good Day\")\n",
    "with open(\"student.txt\",\"r\") as file:\n",
    "    for line in file:\n",
    "        print(line)"
   ]
  },
  {
   "cell_type": "code",
   "execution_count": 32,
   "id": "70115db0-bf22-45e8-99f4-9176e6b7a57b",
   "metadata": {},
   "outputs": [
    {
     "name": "stdout",
     "output_type": "stream",
     "text": [
      "I like Java\n",
      "\n",
      "I am learning PythonToday is a Good DayI am Learning from\n",
      "\n",
      "SPRK TECHNOLOGIES\n",
      "\n",
      "I am Learning from\n",
      "\n",
      "SPRK TECHNOLOGIES\n"
     ]
    }
   ],
   "source": [
    "with open(\"student.txt\",\"a\") as file:\n",
    "    file.writelines([\"\\nI am Learning from\",\"\\nSPRK TECHNOLOGIES\"])\n",
    "with open(\"student.txt\",\"r\") as file:\n",
    "    for line in file:\n",
    "        print(line)"
   ]
  },
  {
   "cell_type": "code",
   "execution_count": null,
   "id": "ba4163c5-2151-4363-ac13-2dc04143563b",
   "metadata": {},
   "outputs": [],
   "source": []
  }
 ],
 "metadata": {
  "kernelspec": {
   "display_name": "Python 3 (ipykernel)",
   "language": "python",
   "name": "python3"
  },
  "language_info": {
   "codemirror_mode": {
    "name": "ipython",
    "version": 3
   },
   "file_extension": ".py",
   "mimetype": "text/x-python",
   "name": "python",
   "nbconvert_exporter": "python",
   "pygments_lexer": "ipython3",
   "version": "3.12.0"
  }
 },
 "nbformat": 4,
 "nbformat_minor": 5
}
