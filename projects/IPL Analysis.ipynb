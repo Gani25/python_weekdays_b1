{
 "cells": [
  {
   "cell_type": "markdown",
   "id": "ee511c0e-65d8-45e6-a6c4-14dbbbe467b6",
   "metadata": {},
   "source": [
    "<h1 style=\"font-size: 50px; text-align: center; color:Yellow; background-color:red; padding:25px; border:2px solid black\">IPL Analysis</h1>"
   ]
  },
  {
   "cell_type": "markdown",
   "id": "38653236-7ba5-4cd9-a008-aee296ef20d4",
   "metadata": {},
   "source": [
    "<p><b>All data is taken from <a href=\"https://codebasics.io/challenges/codebasics-resume-project-challenge/13\">Code Basics</a> </b></p>"
   ]
  },
  {
   "cell_type": "markdown",
   "id": "08abc479-fe73-489d-8c16-21d7ae52b8bf",
   "metadata": {},
   "source": [
    "<hr>\n",
    "<h1>Data Exploration</h1>\n",
    "<hr>"
   ]
  },
  {
   "cell_type": "markdown",
   "id": "e068e710-d2a0-466b-8447-540556384976",
   "metadata": {},
   "source": [
    "**Datasets:**\n",
    "- dim_players.csv\n",
    "- dim_match_summary.csv\n",
    "- fact_bating_summary.csv\n",
    "- fact_bowling_summary.csv"
   ]
  },
  {
   "cell_type": "code",
   "execution_count": 31,
   "id": "7f158b11-6487-49fb-bf41-2f42a5a17bbf",
   "metadata": {},
   "outputs": [],
   "source": [
    "import pandas as pd\n",
    "import seaborn as sns\n",
    "import matplotlib.pyplot as plt"
   ]
  },
  {
   "cell_type": "code",
   "execution_count": 2,
   "id": "99a26b07-8656-4d1d-988a-04a69ea470a1",
   "metadata": {},
   "outputs": [
    {
     "data": {
      "text/html": [
       "<div>\n",
       "<style scoped>\n",
       "    .dataframe tbody tr th:only-of-type {\n",
       "        vertical-align: middle;\n",
       "    }\n",
       "\n",
       "    .dataframe tbody tr th {\n",
       "        vertical-align: top;\n",
       "    }\n",
       "\n",
       "    .dataframe thead th {\n",
       "        text-align: right;\n",
       "    }\n",
       "</style>\n",
       "<table border=\"1\" class=\"dataframe\">\n",
       "  <thead>\n",
       "    <tr style=\"text-align: right;\">\n",
       "      <th></th>\n",
       "      <th>name</th>\n",
       "      <th>team</th>\n",
       "      <th>battingStyle</th>\n",
       "      <th>bowlingStyle</th>\n",
       "      <th>playingRole</th>\n",
       "    </tr>\n",
       "  </thead>\n",
       "  <tbody>\n",
       "    <tr>\n",
       "      <th>0</th>\n",
       "      <td>RuturajGaikwad</td>\n",
       "      <td>Super Kings</td>\n",
       "      <td>Right hand Bat</td>\n",
       "      <td>Right arm Offbreak</td>\n",
       "      <td>Batter</td>\n",
       "    </tr>\n",
       "    <tr>\n",
       "      <th>1</th>\n",
       "      <td>FafduPlessis</td>\n",
       "      <td>Super Kings</td>\n",
       "      <td>Right hand Bat</td>\n",
       "      <td>Legbreak</td>\n",
       "      <td>Middle order Batter</td>\n",
       "    </tr>\n",
       "    <tr>\n",
       "      <th>2</th>\n",
       "      <td>RobinUthappa</td>\n",
       "      <td>Super Kings</td>\n",
       "      <td>Right hand Bat</td>\n",
       "      <td>Right arm Medium</td>\n",
       "      <td>Batter</td>\n",
       "    </tr>\n",
       "    <tr>\n",
       "      <th>3</th>\n",
       "      <td>MoeenAli</td>\n",
       "      <td>Super Kings</td>\n",
       "      <td>Left hand Bat</td>\n",
       "      <td>Right arm Offbreak</td>\n",
       "      <td>Batting Allrounder</td>\n",
       "    </tr>\n",
       "    <tr>\n",
       "      <th>4</th>\n",
       "      <td>ShubmanGill</td>\n",
       "      <td>KKR</td>\n",
       "      <td>Right hand Bat</td>\n",
       "      <td>Right arm Offbreak</td>\n",
       "      <td>Opening Batter</td>\n",
       "    </tr>\n",
       "    <tr>\n",
       "      <th>...</th>\n",
       "      <td>...</td>\n",
       "      <td>...</td>\n",
       "      <td>...</td>\n",
       "      <td>...</td>\n",
       "      <td>...</td>\n",
       "    </tr>\n",
       "    <tr>\n",
       "      <th>287</th>\n",
       "      <td>AbishekPorel</td>\n",
       "      <td>Capitals</td>\n",
       "      <td>Left hand Bat</td>\n",
       "      <td>Not Available</td>\n",
       "      <td>Wicketkeeper Batter</td>\n",
       "    </tr>\n",
       "    <tr>\n",
       "      <th>288</th>\n",
       "      <td>SisandaMagala</td>\n",
       "      <td>Super Kings</td>\n",
       "      <td>Right hand Bat</td>\n",
       "      <td>Right arm Fast medium</td>\n",
       "      <td>Bowler</td>\n",
       "    </tr>\n",
       "    <tr>\n",
       "      <th>289</th>\n",
       "      <td>MohitRathee</td>\n",
       "      <td>Punjab Kings</td>\n",
       "      <td>Right hand Bat</td>\n",
       "      <td>Legbreak</td>\n",
       "      <td>Allrounder</td>\n",
       "    </tr>\n",
       "    <tr>\n",
       "      <th>290</th>\n",
       "      <td>RajvardhanHangargekar</td>\n",
       "      <td>Super Kings</td>\n",
       "      <td>Right hand Bat</td>\n",
       "      <td>Right arm Fast medium</td>\n",
       "      <td>Bowling Allrounder</td>\n",
       "    </tr>\n",
       "    <tr>\n",
       "      <th>291</th>\n",
       "      <td>ReeceTopley</td>\n",
       "      <td>RCB</td>\n",
       "      <td>Right hand Bat</td>\n",
       "      <td>Left arm Fast medium</td>\n",
       "      <td>Bowler</td>\n",
       "    </tr>\n",
       "  </tbody>\n",
       "</table>\n",
       "<p>292 rows × 5 columns</p>\n",
       "</div>"
      ],
      "text/plain": [
       "                      name          team    battingStyle  \\\n",
       "0           RuturajGaikwad   Super Kings  Right hand Bat   \n",
       "1             FafduPlessis   Super Kings  Right hand Bat   \n",
       "2             RobinUthappa   Super Kings  Right hand Bat   \n",
       "3                 MoeenAli   Super Kings   Left hand Bat   \n",
       "4              ShubmanGill           KKR  Right hand Bat   \n",
       "..                     ...           ...             ...   \n",
       "287           AbishekPorel      Capitals   Left hand Bat   \n",
       "288          SisandaMagala   Super Kings  Right hand Bat   \n",
       "289            MohitRathee  Punjab Kings  Right hand Bat   \n",
       "290  RajvardhanHangargekar   Super Kings  Right hand Bat   \n",
       "291            ReeceTopley           RCB  Right hand Bat   \n",
       "\n",
       "              bowlingStyle          playingRole  \n",
       "0       Right arm Offbreak               Batter  \n",
       "1                 Legbreak  Middle order Batter  \n",
       "2         Right arm Medium               Batter  \n",
       "3       Right arm Offbreak   Batting Allrounder  \n",
       "4       Right arm Offbreak       Opening Batter  \n",
       "..                     ...                  ...  \n",
       "287          Not Available  Wicketkeeper Batter  \n",
       "288  Right arm Fast medium               Bowler  \n",
       "289               Legbreak           Allrounder  \n",
       "290  Right arm Fast medium   Bowling Allrounder  \n",
       "291   Left arm Fast medium               Bowler  \n",
       "\n",
       "[292 rows x 5 columns]"
      ]
     },
     "execution_count": 2,
     "metadata": {},
     "output_type": "execute_result"
    }
   ],
   "source": [
    "df_players = pd.read_csv(\"./datasets/dim_players.csv\")\n",
    "df_players"
   ]
  },
  {
   "cell_type": "code",
   "execution_count": 3,
   "id": "83b08e02-f115-47b3-899c-2e4ac6ec48d9",
   "metadata": {},
   "outputs": [
    {
     "data": {
      "text/plain": [
       "array(['Super Kings', 'KKR', 'Capitals', 'RCB', 'Mumbai', 'Sunrisers',\n",
       "       'Royals', 'Punjab Kings', 'Titans', 'Super Giants'], dtype=object)"
      ]
     },
     "execution_count": 3,
     "metadata": {},
     "output_type": "execute_result"
    }
   ],
   "source": [
    "df_players.team.unique()"
   ]
  },
  {
   "cell_type": "code",
   "execution_count": 5,
   "id": "9828e482-32d2-42ab-9368-2a3ef9de3818",
   "metadata": {},
   "outputs": [
    {
     "data": {
      "text/plain": [
       "team\n",
       "Mumbai          39\n",
       "Punjab Kings    38\n",
       "Sunrisers       35\n",
       "KKR             35\n",
       "Royals          33\n",
       "RCB             30\n",
       "Capitals        29\n",
       "Super Kings     28\n",
       "Titans          13\n",
       "Super Giants    12\n",
       "Name: count, dtype: int64"
      ]
     },
     "execution_count": 5,
     "metadata": {},
     "output_type": "execute_result"
    }
   ],
   "source": [
    "# Player count by teams\n",
    "df_players.team.value_counts()"
   ]
  },
  {
   "cell_type": "code",
   "execution_count": 6,
   "id": "5a4947e5-7dde-492c-91dc-a84f4a772416",
   "metadata": {},
   "outputs": [
    {
     "data": {
      "text/plain": [
       "playingRole\n",
       "Bowler                 117\n",
       "Allrounder              41\n",
       "Wicketkeeper Batter     29\n",
       "Top order Batter        27\n",
       "Bowling Allrounder      23\n",
       "Batting Allrounder      19\n",
       "Middle order Batter     13\n",
       "Batter                  12\n",
       "Opening Batter          11\n",
       "Name: count, dtype: int64"
      ]
     },
     "execution_count": 6,
     "metadata": {},
     "output_type": "execute_result"
    }
   ],
   "source": [
    "# player count by role\n",
    "df_players.playingRole.value_counts()"
   ]
  },
  {
   "cell_type": "code",
   "execution_count": 7,
   "id": "67661a25-18f2-4de3-bdec-3091725cf367",
   "metadata": {},
   "outputs": [
    {
     "data": {
      "text/plain": [
       "name            0\n",
       "team            0\n",
       "battingStyle    0\n",
       "bowlingStyle    0\n",
       "playingRole     0\n",
       "dtype: int64"
      ]
     },
     "execution_count": 7,
     "metadata": {},
     "output_type": "execute_result"
    }
   ],
   "source": [
    "df_players.isnull().sum()"
   ]
  },
  {
   "cell_type": "markdown",
   "id": "8bc7704a-f5ca-496f-9ac7-1859bc459ae4",
   "metadata": {},
   "source": [
    "Reading remaining datasets"
   ]
  },
  {
   "cell_type": "code",
   "execution_count": 9,
   "id": "732bb459-9e1d-4676-841c-2f530d3858f7",
   "metadata": {},
   "outputs": [],
   "source": [
    "df_match_summary =  pd.read_csv(\"./datasets/dim_match_summary.csv\")\n",
    "df_fact_bating =  pd.read_csv(\"./datasets/fact_bating_summary.csv\")\n",
    "df_fact_bowling =  pd.read_csv(\"./datasets/fact_bowling_summary.csv\")"
   ]
  },
  {
   "cell_type": "code",
   "execution_count": 10,
   "id": "01873e60-7467-45fd-87a3-f70d572f8977",
   "metadata": {},
   "outputs": [
    {
     "data": {
      "text/html": [
       "<div>\n",
       "<style scoped>\n",
       "    .dataframe tbody tr th:only-of-type {\n",
       "        vertical-align: middle;\n",
       "    }\n",
       "\n",
       "    .dataframe tbody tr th {\n",
       "        vertical-align: top;\n",
       "    }\n",
       "\n",
       "    .dataframe thead th {\n",
       "        text-align: right;\n",
       "    }\n",
       "</style>\n",
       "<table border=\"1\" class=\"dataframe\">\n",
       "  <thead>\n",
       "    <tr style=\"text-align: right;\">\n",
       "      <th></th>\n",
       "      <th>team1</th>\n",
       "      <th>team2</th>\n",
       "      <th>winner</th>\n",
       "      <th>margin</th>\n",
       "      <th>matchDate</th>\n",
       "      <th>match_id</th>\n",
       "    </tr>\n",
       "  </thead>\n",
       "  <tbody>\n",
       "    <tr>\n",
       "      <th>0</th>\n",
       "      <td>Super Kings</td>\n",
       "      <td>KKR</td>\n",
       "      <td>Super Kings</td>\n",
       "      <td>27 runs</td>\n",
       "      <td>Oct 15, 2021</td>\n",
       "      <td>T203817</td>\n",
       "    </tr>\n",
       "    <tr>\n",
       "      <th>1</th>\n",
       "      <td>Capitals</td>\n",
       "      <td>KKR</td>\n",
       "      <td>KKR</td>\n",
       "      <td>3 wickets</td>\n",
       "      <td>Oct 13, 2021</td>\n",
       "      <td>T206442</td>\n",
       "    </tr>\n",
       "    <tr>\n",
       "      <th>2</th>\n",
       "      <td>RCB</td>\n",
       "      <td>KKR</td>\n",
       "      <td>KKR</td>\n",
       "      <td>4 wickets</td>\n",
       "      <td>Oct 11, 2021</td>\n",
       "      <td>T208597</td>\n",
       "    </tr>\n",
       "  </tbody>\n",
       "</table>\n",
       "</div>"
      ],
      "text/plain": [
       "         team1 team2       winner     margin     matchDate match_id\n",
       "0  Super Kings   KKR  Super Kings    27 runs  Oct 15, 2021  T203817\n",
       "1     Capitals   KKR          KKR  3 wickets  Oct 13, 2021  T206442\n",
       "2          RCB   KKR          KKR  4 wickets  Oct 11, 2021  T208597"
      ]
     },
     "execution_count": 10,
     "metadata": {},
     "output_type": "execute_result"
    }
   ],
   "source": [
    "df_match_summary.head(3)"
   ]
  },
  {
   "cell_type": "code",
   "execution_count": 11,
   "id": "d01ac44a-a94d-4271-aedd-0c73575622b4",
   "metadata": {},
   "outputs": [
    {
     "data": {
      "text/plain": [
       "(206, 6)"
      ]
     },
     "execution_count": 11,
     "metadata": {},
     "output_type": "execute_result"
    }
   ],
   "source": [
    "df_match_summary.shape"
   ]
  },
  {
   "cell_type": "code",
   "execution_count": 12,
   "id": "066c1269-9e49-42fe-a3d1-0a250eb8a1df",
   "metadata": {},
   "outputs": [
    {
     "data": {
      "text/plain": [
       "str"
      ]
     },
     "execution_count": 12,
     "metadata": {},
     "output_type": "execute_result"
    }
   ],
   "source": [
    "type(df_match_summary.matchDate[0])"
   ]
  },
  {
   "cell_type": "code",
   "execution_count": 13,
   "id": "a1255a23-ed9b-4db8-b6a3-af1b280cfea9",
   "metadata": {},
   "outputs": [
    {
     "data": {
      "text/plain": [
       "array(['Oct 15, 2021', 'Oct 13, 2021', 'Oct 11, 2021', 'Oct 10, 2021',\n",
       "       'Oct 8, 2021', 'Oct 7, 2021', 'Oct 6, 2021', 'Oct 5, 2021',\n",
       "       'Oct 4, 2021', 'Oct 3, 2021', 'Oct 2, 2021', 'Oct 1, 2021',\n",
       "       'Sep 30, 2021', 'Sep 29, 2021', 'Sep 28, 2021', 'Sep 27, 2021',\n",
       "       'Sep 26, 2021', 'Sep 25, 2021', 'Sep 24, 2021', 'Sep 23, 2021',\n",
       "       'Sep 22, 2021', 'Sep 21, 2021', 'Sep 20, 2021', 'Sep 19, 2021',\n",
       "       'May 2, 2021', 'May 1, 2021', 'Apr 30, 2021', 'Apr 29, 2021',\n",
       "       'Apr 28, 2021', 'Apr 27, 2021', 'Apr 26, 2021', 'Apr 25, 2021',\n",
       "       'Apr 24, 2021', 'Apr 23, 2021', 'Apr 22, 2021', 'Apr 21, 2021',\n",
       "       'Apr 20, 2021', 'Apr 19, 2021', 'Apr 18, 2021', 'Apr 17, 2021',\n",
       "       'Apr 16, 2021', 'Apr 15, 2021', 'Apr 14, 2021', 'Apr 13, 2021',\n",
       "       'Apr 12, 2021', 'Apr 11, 2021', 'Apr 10, 2021', 'Apr 9, 2021',\n",
       "       'May 29, 2022', 'May 27, 2022', 'May 25, 2022', 'May 24, 2022',\n",
       "       'May 22, 2022', 'May 21, 2022', 'May 20, 2022', 'May 19, 2022',\n",
       "       'May 18, 2022', 'May 17, 2022', 'May 16, 2022', 'May 15, 2022',\n",
       "       'May 14, 2022', 'May 13, 2022', 'May 12, 2022', 'May 11, 2022',\n",
       "       'May 10, 2022', 'May 9, 2022', 'May 8, 2022', 'May 7, 2022',\n",
       "       'May 6, 2022', 'May 5, 2022', 'May 4, 2022', 'May 3, 2022',\n",
       "       'May 2, 2022', 'May 1, 2022', 'Apr 30, 2022', 'Apr 29, 2022',\n",
       "       'Apr 28, 2022', 'Apr 27, 2022', 'Apr 26, 2022', 'Apr 25, 2022',\n",
       "       'Apr 24, 2022', 'Apr 23, 2022', 'Apr 22, 2022', 'Apr 21, 2022',\n",
       "       'Apr 20, 2022', 'Apr 19, 2022', 'Apr 18, 2022', 'Apr 17, 2022',\n",
       "       'Apr 16, 2022', 'Apr 15, 2022', 'Apr 14, 2022', 'Apr 13, 2022',\n",
       "       'Apr 12, 2022', 'Apr 11, 2022', 'Apr 10, 2022', 'Apr 9, 2022',\n",
       "       'Apr 8, 2022', 'Apr 7, 2022', 'Apr 6, 2022', 'Apr 5, 2022',\n",
       "       'Apr 4, 2022', 'Apr 3, 2022', 'Apr 2, 2022', 'Apr 1, 2022',\n",
       "       'Mar 31, 2022', 'Mar 30, 2022', 'Mar 29, 2022', 'Mar 28, 2022',\n",
       "       'Mar 27, 2022', 'Mar 26, 2022', 'May 28-29, 2023', 'May 26, 2023',\n",
       "       'May 24, 2023', 'May 23, 2023', 'May 21, 2023', 'May 20, 2023',\n",
       "       'May 19, 2023', 'May 18, 2023', 'May 17, 2023', 'May 16, 2023',\n",
       "       'May 15, 2023', 'May 14, 2023', 'May 13, 2023', 'May 12, 2023',\n",
       "       'May 11, 2023', 'May 10, 2023', 'May 9, 2023', 'May 8, 2023',\n",
       "       'May 7, 2023', 'May 6, 2023', 'May 5, 2023', 'May 4, 2023',\n",
       "       'May 3, 2023', 'May 2, 2023', 'May 1, 2023', 'Apr 30, 2023',\n",
       "       'Apr 29, 2023', 'Apr 28, 2023', 'Apr 27, 2023', 'Apr 26, 2023',\n",
       "       'Apr 25, 2023', 'Apr 24, 2023', 'Apr 23, 2023', 'Apr 22, 2023',\n",
       "       'Apr 21, 2023', 'Apr 20, 2023', 'Apr 19, 2023', 'Apr 18, 2023',\n",
       "       'Apr 17, 2023', 'Apr 16, 2023', 'Apr 15, 2023', 'Apr 14, 2023',\n",
       "       'Apr 13, 2023', 'Apr 12, 2023', 'Apr 11, 2023', 'Apr 10, 2023',\n",
       "       'Apr 9, 2023', 'Apr 8, 2023', 'Apr 7, 2023', 'Apr 6, 2023',\n",
       "       'Apr 5, 2023', 'Apr 4, 2023', 'Apr 3, 2023', 'Apr 2, 2023',\n",
       "       'Apr 1, 2023', 'Mar 31, 2023'], dtype=object)"
      ]
     },
     "execution_count": 13,
     "metadata": {},
     "output_type": "execute_result"
    }
   ],
   "source": [
    "df_match_summary.matchDate.unique()"
   ]
  },
  {
   "cell_type": "code",
   "execution_count": 16,
   "id": "6721ad21-0ce1-4b7c-8e8a-ba5b8be80c28",
   "metadata": {},
   "outputs": [
    {
     "data": {
      "text/plain": [
       "team1        0\n",
       "team2        0\n",
       "winner       0\n",
       "margin       0\n",
       "matchDate    0\n",
       "match_id     0\n",
       "dtype: int64"
      ]
     },
     "execution_count": 16,
     "metadata": {},
     "output_type": "execute_result"
    }
   ],
   "source": [
    "df_match_summary.isna().sum()"
   ]
  },
  {
   "cell_type": "code",
   "execution_count": 14,
   "id": "079e6296-3346-4a12-ade9-ea85afdc210d",
   "metadata": {},
   "outputs": [
    {
     "data": {
      "text/html": [
       "<div>\n",
       "<style scoped>\n",
       "    .dataframe tbody tr th:only-of-type {\n",
       "        vertical-align: middle;\n",
       "    }\n",
       "\n",
       "    .dataframe tbody tr th {\n",
       "        vertical-align: top;\n",
       "    }\n",
       "\n",
       "    .dataframe thead th {\n",
       "        text-align: right;\n",
       "    }\n",
       "</style>\n",
       "<table border=\"1\" class=\"dataframe\">\n",
       "  <thead>\n",
       "    <tr style=\"text-align: right;\">\n",
       "      <th></th>\n",
       "      <th>match_id</th>\n",
       "      <th>match</th>\n",
       "      <th>teamInnings</th>\n",
       "      <th>battingPos</th>\n",
       "      <th>batsmanName</th>\n",
       "      <th>out/not_out</th>\n",
       "      <th>runs</th>\n",
       "      <th>balls</th>\n",
       "      <th>4s</th>\n",
       "      <th>6s</th>\n",
       "      <th>SR</th>\n",
       "    </tr>\n",
       "  </thead>\n",
       "  <tbody>\n",
       "    <tr>\n",
       "      <th>0</th>\n",
       "      <td>T203817</td>\n",
       "      <td>Super Kings Vs KKR</td>\n",
       "      <td>Super Kings</td>\n",
       "      <td>1</td>\n",
       "      <td>RuturajGaikwad</td>\n",
       "      <td>out</td>\n",
       "      <td>32</td>\n",
       "      <td>27</td>\n",
       "      <td>3</td>\n",
       "      <td>1</td>\n",
       "      <td>118.51</td>\n",
       "    </tr>\n",
       "    <tr>\n",
       "      <th>1</th>\n",
       "      <td>T203817</td>\n",
       "      <td>Super Kings Vs KKR</td>\n",
       "      <td>Super Kings</td>\n",
       "      <td>2</td>\n",
       "      <td>FafduPlessis</td>\n",
       "      <td>out</td>\n",
       "      <td>86</td>\n",
       "      <td>59</td>\n",
       "      <td>7</td>\n",
       "      <td>3</td>\n",
       "      <td>145.76</td>\n",
       "    </tr>\n",
       "    <tr>\n",
       "      <th>2</th>\n",
       "      <td>T203817</td>\n",
       "      <td>Super Kings Vs KKR</td>\n",
       "      <td>Super Kings</td>\n",
       "      <td>3</td>\n",
       "      <td>RobinUthappa</td>\n",
       "      <td>out</td>\n",
       "      <td>31</td>\n",
       "      <td>15</td>\n",
       "      <td>0</td>\n",
       "      <td>3</td>\n",
       "      <td>206.66</td>\n",
       "    </tr>\n",
       "    <tr>\n",
       "      <th>3</th>\n",
       "      <td>T203817</td>\n",
       "      <td>Super Kings Vs KKR</td>\n",
       "      <td>Super Kings</td>\n",
       "      <td>4</td>\n",
       "      <td>MoeenAli</td>\n",
       "      <td>not_out</td>\n",
       "      <td>37</td>\n",
       "      <td>20</td>\n",
       "      <td>2</td>\n",
       "      <td>3</td>\n",
       "      <td>185.00</td>\n",
       "    </tr>\n",
       "    <tr>\n",
       "      <th>4</th>\n",
       "      <td>T203817</td>\n",
       "      <td>Super Kings Vs KKR</td>\n",
       "      <td>KKR</td>\n",
       "      <td>1</td>\n",
       "      <td>ShubmanGill</td>\n",
       "      <td>out</td>\n",
       "      <td>51</td>\n",
       "      <td>43</td>\n",
       "      <td>6</td>\n",
       "      <td>0</td>\n",
       "      <td>118.60</td>\n",
       "    </tr>\n",
       "  </tbody>\n",
       "</table>\n",
       "</div>"
      ],
      "text/plain": [
       "  match_id               match  teamInnings  battingPos     batsmanName  \\\n",
       "0  T203817  Super Kings Vs KKR  Super Kings           1  RuturajGaikwad   \n",
       "1  T203817  Super Kings Vs KKR  Super Kings           2    FafduPlessis   \n",
       "2  T203817  Super Kings Vs KKR  Super Kings           3    RobinUthappa   \n",
       "3  T203817  Super Kings Vs KKR  Super Kings           4        MoeenAli   \n",
       "4  T203817  Super Kings Vs KKR          KKR           1     ShubmanGill   \n",
       "\n",
       "  out/not_out  runs  balls  4s  6s      SR  \n",
       "0         out    32     27   3   1  118.51  \n",
       "1         out    86     59   7   3  145.76  \n",
       "2         out    31     15   0   3  206.66  \n",
       "3     not_out    37     20   2   3  185.00  \n",
       "4         out    51     43   6   0  118.60  "
      ]
     },
     "execution_count": 14,
     "metadata": {},
     "output_type": "execute_result"
    }
   ],
   "source": [
    "df_fact_bating.head()"
   ]
  },
  {
   "cell_type": "code",
   "execution_count": 15,
   "id": "9b467fea-b4ea-42b7-905e-518a9e597f93",
   "metadata": {},
   "outputs": [
    {
     "data": {
      "text/plain": [
       "(3268, 11)"
      ]
     },
     "execution_count": 15,
     "metadata": {},
     "output_type": "execute_result"
    }
   ],
   "source": [
    "df_fact_bating.shape"
   ]
  },
  {
   "cell_type": "code",
   "execution_count": 17,
   "id": "b08742f0-b3f9-4eee-8092-8394a085412a",
   "metadata": {},
   "outputs": [
    {
     "data": {
      "text/plain": [
       "match_id       0\n",
       "match          0\n",
       "teamInnings    0\n",
       "battingPos     0\n",
       "batsmanName    0\n",
       "out/not_out    0\n",
       "runs           0\n",
       "balls          0\n",
       "4s             0\n",
       "6s             0\n",
       "SR             0\n",
       "dtype: int64"
      ]
     },
     "execution_count": 17,
     "metadata": {},
     "output_type": "execute_result"
    }
   ],
   "source": [
    "df_fact_bating.isna().sum()"
   ]
  },
  {
   "cell_type": "code",
   "execution_count": 18,
   "id": "b56f265f-6eef-4ed1-93e5-aa97d69d1ca3",
   "metadata": {},
   "outputs": [
    {
     "data": {
      "text/plain": [
       "out/not_out\n",
       "out        2527\n",
       "not_out     741\n",
       "Name: count, dtype: int64"
      ]
     },
     "execution_count": 18,
     "metadata": {},
     "output_type": "execute_result"
    }
   ],
   "source": [
    "df_fact_bating[\"out/not_out\"].value_counts()"
   ]
  },
  {
   "cell_type": "code",
   "execution_count": 19,
   "id": "7a025683-d2b5-4f46-a043-1f7afeadccf5",
   "metadata": {},
   "outputs": [
    {
     "data": {
      "text/html": [
       "<div>\n",
       "<style scoped>\n",
       "    .dataframe tbody tr th:only-of-type {\n",
       "        vertical-align: middle;\n",
       "    }\n",
       "\n",
       "    .dataframe tbody tr th {\n",
       "        vertical-align: top;\n",
       "    }\n",
       "\n",
       "    .dataframe thead th {\n",
       "        text-align: right;\n",
       "    }\n",
       "</style>\n",
       "<table border=\"1\" class=\"dataframe\">\n",
       "  <thead>\n",
       "    <tr style=\"text-align: right;\">\n",
       "      <th></th>\n",
       "      <th>match_id</th>\n",
       "      <th>match</th>\n",
       "      <th>bowlingTeam</th>\n",
       "      <th>bowlerName</th>\n",
       "      <th>overs</th>\n",
       "      <th>maiden</th>\n",
       "      <th>runs</th>\n",
       "      <th>wickets</th>\n",
       "      <th>economy</th>\n",
       "      <th>0s</th>\n",
       "      <th>4s</th>\n",
       "      <th>6s</th>\n",
       "      <th>wides</th>\n",
       "      <th>noBalls</th>\n",
       "    </tr>\n",
       "  </thead>\n",
       "  <tbody>\n",
       "    <tr>\n",
       "      <th>0</th>\n",
       "      <td>T203817</td>\n",
       "      <td>Super Kings Vs KKR</td>\n",
       "      <td>KKR</td>\n",
       "      <td>ShakibAlHasan</td>\n",
       "      <td>3.0</td>\n",
       "      <td>0</td>\n",
       "      <td>33</td>\n",
       "      <td>0</td>\n",
       "      <td>11.0</td>\n",
       "      <td>6</td>\n",
       "      <td>2</td>\n",
       "      <td>3</td>\n",
       "      <td>0</td>\n",
       "      <td>0</td>\n",
       "    </tr>\n",
       "    <tr>\n",
       "      <th>1</th>\n",
       "      <td>T203817</td>\n",
       "      <td>Super Kings Vs KKR</td>\n",
       "      <td>KKR</td>\n",
       "      <td>ShivamMavi</td>\n",
       "      <td>4.0</td>\n",
       "      <td>0</td>\n",
       "      <td>32</td>\n",
       "      <td>1</td>\n",
       "      <td>8.0</td>\n",
       "      <td>8</td>\n",
       "      <td>1</td>\n",
       "      <td>2</td>\n",
       "      <td>0</td>\n",
       "      <td>0</td>\n",
       "    </tr>\n",
       "    <tr>\n",
       "      <th>2</th>\n",
       "      <td>T203817</td>\n",
       "      <td>Super Kings Vs KKR</td>\n",
       "      <td>KKR</td>\n",
       "      <td>LockieFerguson</td>\n",
       "      <td>4.0</td>\n",
       "      <td>0</td>\n",
       "      <td>56</td>\n",
       "      <td>0</td>\n",
       "      <td>14.0</td>\n",
       "      <td>4</td>\n",
       "      <td>7</td>\n",
       "      <td>2</td>\n",
       "      <td>2</td>\n",
       "      <td>0</td>\n",
       "    </tr>\n",
       "    <tr>\n",
       "      <th>3</th>\n",
       "      <td>T203817</td>\n",
       "      <td>Super Kings Vs KKR</td>\n",
       "      <td>KKR</td>\n",
       "      <td>VarunChakravarthy</td>\n",
       "      <td>4.0</td>\n",
       "      <td>0</td>\n",
       "      <td>38</td>\n",
       "      <td>0</td>\n",
       "      <td>9.5</td>\n",
       "      <td>5</td>\n",
       "      <td>2</td>\n",
       "      <td>2</td>\n",
       "      <td>0</td>\n",
       "      <td>1</td>\n",
       "    </tr>\n",
       "    <tr>\n",
       "      <th>4</th>\n",
       "      <td>T203817</td>\n",
       "      <td>Super Kings Vs KKR</td>\n",
       "      <td>KKR</td>\n",
       "      <td>SunilNarine</td>\n",
       "      <td>4.0</td>\n",
       "      <td>0</td>\n",
       "      <td>26</td>\n",
       "      <td>2</td>\n",
       "      <td>6.5</td>\n",
       "      <td>6</td>\n",
       "      <td>0</td>\n",
       "      <td>1</td>\n",
       "      <td>1</td>\n",
       "      <td>0</td>\n",
       "    </tr>\n",
       "  </tbody>\n",
       "</table>\n",
       "</div>"
      ],
      "text/plain": [
       "  match_id               match bowlingTeam         bowlerName  overs  maiden  \\\n",
       "0  T203817  Super Kings Vs KKR         KKR      ShakibAlHasan    3.0       0   \n",
       "1  T203817  Super Kings Vs KKR         KKR         ShivamMavi    4.0       0   \n",
       "2  T203817  Super Kings Vs KKR         KKR     LockieFerguson    4.0       0   \n",
       "3  T203817  Super Kings Vs KKR         KKR  VarunChakravarthy    4.0       0   \n",
       "4  T203817  Super Kings Vs KKR         KKR        SunilNarine    4.0       0   \n",
       "\n",
       "   runs  wickets  economy  0s  4s  6s  wides  noBalls  \n",
       "0    33        0     11.0   6   2   3      0        0  \n",
       "1    32        1      8.0   8   1   2      0        0  \n",
       "2    56        0     14.0   4   7   2      2        0  \n",
       "3    38        0      9.5   5   2   2      0        1  \n",
       "4    26        2      6.5   6   0   1      1        0  "
      ]
     },
     "execution_count": 19,
     "metadata": {},
     "output_type": "execute_result"
    }
   ],
   "source": [
    "df_fact_bowling.head()"
   ]
  },
  {
   "cell_type": "code",
   "execution_count": 20,
   "id": "1fc9d222-39ad-4753-889f-d9b1c76541f4",
   "metadata": {},
   "outputs": [
    {
     "data": {
      "text/plain": [
       "(2436, 14)"
      ]
     },
     "execution_count": 20,
     "metadata": {},
     "output_type": "execute_result"
    }
   ],
   "source": [
    "df_fact_bowling.shape"
   ]
  },
  {
   "cell_type": "code",
   "execution_count": 22,
   "id": "ca2855f2-889d-4c6e-8836-92db9c63375a",
   "metadata": {},
   "outputs": [
    {
     "data": {
      "text/plain": [
       "array([3. , 4. , 1. , 3.5, 1.4, 3.4, 2. , 3.1, 2.2, 2.1, 2.3, 2.4, 0.1,\n",
       "       3.3, 1.1, 2.5, 3.2, 1.5, 1.3, 0.3, 0.2, 1.2, 0.5])"
      ]
     },
     "execution_count": 22,
     "metadata": {},
     "output_type": "execute_result"
    }
   ],
   "source": [
    "df_fact_bowling.overs.unique()"
   ]
  },
  {
   "cell_type": "code",
   "execution_count": 23,
   "id": "71795546-8f3c-4f74-9f10-71998cb0e840",
   "metadata": {},
   "outputs": [
    {
     "data": {
      "text/plain": [
       "match_id       0\n",
       "match          0\n",
       "bowlingTeam    0\n",
       "bowlerName     0\n",
       "overs          0\n",
       "maiden         0\n",
       "runs           0\n",
       "wickets        0\n",
       "economy        0\n",
       "0s             0\n",
       "4s             0\n",
       "6s             0\n",
       "wides          0\n",
       "noBalls        0\n",
       "dtype: int64"
      ]
     },
     "execution_count": 23,
     "metadata": {},
     "output_type": "execute_result"
    }
   ],
   "source": [
    "df_fact_bowling.isna().sum()"
   ]
  },
  {
   "cell_type": "markdown",
   "id": "4bd0292e-6b7b-4f3e-82b7-6325c4e0dbea",
   "metadata": {},
   "source": [
    "<hr>\n",
    "<h1>Data Cleaning</h1>\n",
    "<hr>"
   ]
  },
  {
   "cell_type": "code",
   "execution_count": null,
   "id": "f5dd1277-0ff6-424c-9371-781993ef100c",
   "metadata": {},
   "outputs": [],
   "source": []
  },
  {
   "cell_type": "code",
   "execution_count": null,
   "id": "aad3509f-5b6a-426c-9155-841f2eeba3b0",
   "metadata": {},
   "outputs": [],
   "source": []
  },
  {
   "cell_type": "markdown",
   "id": "1d924f03-37f5-47f1-89eb-9a08326a13cd",
   "metadata": {},
   "source": [
    "<hr>\n",
    "<h1>Data Transformation</h1>\n",
    "<hr>"
   ]
  },
  {
   "cell_type": "code",
   "execution_count": null,
   "id": "ff84921d-9245-4a6f-b2f2-0cbf4e61f0ae",
   "metadata": {},
   "outputs": [],
   "source": []
  },
  {
   "cell_type": "code",
   "execution_count": null,
   "id": "04741eb6-130a-428d-980f-f932c5407a64",
   "metadata": {},
   "outputs": [],
   "source": []
  },
  {
   "cell_type": "markdown",
   "id": "c71ade56-986f-43ce-b8c7-fbbf5d4a843b",
   "metadata": {},
   "source": [
    "<hr>\n",
    "<h1>Insight Generation</h1>\n",
    "<hr>"
   ]
  },
  {
   "cell_type": "markdown",
   "id": "17e24e95-5454-4577-ba25-ebfb24e7eefa",
   "metadata": {},
   "source": [
    "<h2 style=\"color:red\">Primary Analysis</h2>"
   ]
  },
  {
   "cell_type": "code",
   "execution_count": 32,
   "id": "ae86258e-ddf3-41ea-82f1-406cfb78ba01",
   "metadata": {},
   "outputs": [],
   "source": [
    "# Presets\n",
    "sns.set_style(\"whitegrid\")\n",
    "plt.rcParams[\"figure.figsize\"] = (12,6)"
   ]
  },
  {
   "cell_type": "markdown",
   "id": "6b2fc38c-223d-413f-b2cb-aa4496a8a48d",
   "metadata": {},
   "source": [
    "<h3>1. Top 10 batsmen based on past 3 years total runs scored.</h3>"
   ]
  },
  {
   "cell_type": "code",
   "execution_count": 24,
   "id": "d5906c9b-0ada-49a0-a08b-b76fffb96742",
   "metadata": {},
   "outputs": [
    {
     "data": {
      "text/html": [
       "<div>\n",
       "<style scoped>\n",
       "    .dataframe tbody tr th:only-of-type {\n",
       "        vertical-align: middle;\n",
       "    }\n",
       "\n",
       "    .dataframe tbody tr th {\n",
       "        vertical-align: top;\n",
       "    }\n",
       "\n",
       "    .dataframe thead th {\n",
       "        text-align: right;\n",
       "    }\n",
       "</style>\n",
       "<table border=\"1\" class=\"dataframe\">\n",
       "  <thead>\n",
       "    <tr style=\"text-align: right;\">\n",
       "      <th></th>\n",
       "      <th>match_id</th>\n",
       "      <th>match</th>\n",
       "      <th>teamInnings</th>\n",
       "      <th>battingPos</th>\n",
       "      <th>batsmanName</th>\n",
       "      <th>out/not_out</th>\n",
       "      <th>runs</th>\n",
       "      <th>balls</th>\n",
       "      <th>4s</th>\n",
       "      <th>6s</th>\n",
       "      <th>SR</th>\n",
       "    </tr>\n",
       "  </thead>\n",
       "  <tbody>\n",
       "    <tr>\n",
       "      <th>0</th>\n",
       "      <td>T203817</td>\n",
       "      <td>Super Kings Vs KKR</td>\n",
       "      <td>Super Kings</td>\n",
       "      <td>1</td>\n",
       "      <td>RuturajGaikwad</td>\n",
       "      <td>out</td>\n",
       "      <td>32</td>\n",
       "      <td>27</td>\n",
       "      <td>3</td>\n",
       "      <td>1</td>\n",
       "      <td>118.51</td>\n",
       "    </tr>\n",
       "    <tr>\n",
       "      <th>1</th>\n",
       "      <td>T203817</td>\n",
       "      <td>Super Kings Vs KKR</td>\n",
       "      <td>Super Kings</td>\n",
       "      <td>2</td>\n",
       "      <td>FafduPlessis</td>\n",
       "      <td>out</td>\n",
       "      <td>86</td>\n",
       "      <td>59</td>\n",
       "      <td>7</td>\n",
       "      <td>3</td>\n",
       "      <td>145.76</td>\n",
       "    </tr>\n",
       "    <tr>\n",
       "      <th>2</th>\n",
       "      <td>T203817</td>\n",
       "      <td>Super Kings Vs KKR</td>\n",
       "      <td>Super Kings</td>\n",
       "      <td>3</td>\n",
       "      <td>RobinUthappa</td>\n",
       "      <td>out</td>\n",
       "      <td>31</td>\n",
       "      <td>15</td>\n",
       "      <td>0</td>\n",
       "      <td>3</td>\n",
       "      <td>206.66</td>\n",
       "    </tr>\n",
       "    <tr>\n",
       "      <th>3</th>\n",
       "      <td>T203817</td>\n",
       "      <td>Super Kings Vs KKR</td>\n",
       "      <td>Super Kings</td>\n",
       "      <td>4</td>\n",
       "      <td>MoeenAli</td>\n",
       "      <td>not_out</td>\n",
       "      <td>37</td>\n",
       "      <td>20</td>\n",
       "      <td>2</td>\n",
       "      <td>3</td>\n",
       "      <td>185.00</td>\n",
       "    </tr>\n",
       "    <tr>\n",
       "      <th>4</th>\n",
       "      <td>T203817</td>\n",
       "      <td>Super Kings Vs KKR</td>\n",
       "      <td>KKR</td>\n",
       "      <td>1</td>\n",
       "      <td>ShubmanGill</td>\n",
       "      <td>out</td>\n",
       "      <td>51</td>\n",
       "      <td>43</td>\n",
       "      <td>6</td>\n",
       "      <td>0</td>\n",
       "      <td>118.60</td>\n",
       "    </tr>\n",
       "  </tbody>\n",
       "</table>\n",
       "</div>"
      ],
      "text/plain": [
       "  match_id               match  teamInnings  battingPos     batsmanName  \\\n",
       "0  T203817  Super Kings Vs KKR  Super Kings           1  RuturajGaikwad   \n",
       "1  T203817  Super Kings Vs KKR  Super Kings           2    FafduPlessis   \n",
       "2  T203817  Super Kings Vs KKR  Super Kings           3    RobinUthappa   \n",
       "3  T203817  Super Kings Vs KKR  Super Kings           4        MoeenAli   \n",
       "4  T203817  Super Kings Vs KKR          KKR           1     ShubmanGill   \n",
       "\n",
       "  out/not_out  runs  balls  4s  6s      SR  \n",
       "0         out    32     27   3   1  118.51  \n",
       "1         out    86     59   7   3  145.76  \n",
       "2         out    31     15   0   3  206.66  \n",
       "3     not_out    37     20   2   3  185.00  \n",
       "4         out    51     43   6   0  118.60  "
      ]
     },
     "execution_count": 24,
     "metadata": {},
     "output_type": "execute_result"
    }
   ],
   "source": [
    "df_fact_bating.head()"
   ]
  },
  {
   "cell_type": "code",
   "execution_count": 26,
   "id": "8edd7879-55ad-4c1a-8337-11aea3123d06",
   "metadata": {},
   "outputs": [
    {
     "data": {
      "text/plain": [
       "np.int64(1593)"
      ]
     },
     "execution_count": 26,
     "metadata": {},
     "output_type": "execute_result"
    }
   ],
   "source": [
    "df_fact_bating[df_fact_bating.batsmanName == \"RuturajGaikwad\"].runs.sum()"
   ]
  },
  {
   "cell_type": "code",
   "execution_count": 47,
   "id": "8b52f1c2-7f76-4aed-975d-f9ae94557372",
   "metadata": {},
   "outputs": [
    {
     "data": {
      "text/plain": [
       "batsmanName\n",
       "ShubmanGill        1851\n",
       "FafduPlessis       1831\n",
       "RuturajGaikwad     1593\n",
       "KLRahul            1516\n",
       "JosButtler         1509\n",
       "ShikharDhawan      1392\n",
       "ViratKohli         1385\n",
       "SanjuSamson        1304\n",
       "SuryakumarYadav    1225\n",
       "GlennMaxwell       1214\n",
       "Name: runs, dtype: int64"
      ]
     },
     "execution_count": 47,
     "metadata": {},
     "output_type": "execute_result"
    }
   ],
   "source": [
    "top_runs = df_fact_bating.groupby(\"batsmanName\")[\"runs\"].sum().sort_values(ascending = False)\n",
    "\n",
    "top_runs = top_runs.head(10)\n",
    "top_runs"
   ]
  },
  {
   "cell_type": "code",
   "execution_count": 49,
   "id": "db39fe92-9e2c-495e-b62a-7a2b58cca641",
   "metadata": {},
   "outputs": [
    {
     "data": {
      "image/png": "[encoded data removed]",
      "text/plain": [
       "<Figure size 1200x600 with 1 Axes>"
      ]
     },
     "metadata": {},
     "output_type": "display_data"
    }
   ],
   "source": [
    "ax = top_runs.sort_values().plot(kind=\"barh\", color=\"orange\", edgecolor=\"black\" )\n",
    "\n",
    "# Titles and labels\n",
    "plt.title(\"Top 10 batsmen based on past 3 years total runs scored\", fontsize=14, weight='bold')\n",
    "plt.xlabel(\"Scores\", fontsize=12)\n",
    "\n",
    "# Annotate scores on bars\n",
    "for i, v in enumerate(top_runs.sort_values()):\n",
    "    ax.text(\n",
    "        v-80 ,  # Small gap from bar end\n",
    "        i,      # y position (index of bar)\n",
    "        str(v),\n",
    "        color='white',\n",
    "        va='center',\n",
    "        fontsize=10,\n",
    "        weight='bold'\n",
    "    )\n",
    "\n",
    "plt.tight_layout()\n",
    "plt.show()"
   ]
  },
  {
   "cell_type": "code",
   "execution_count": null,
   "id": "b20c8d4e-10ae-4db0-809e-1447120343e1",
   "metadata": {},
   "outputs": [],
   "source": []
  },
  {
   "cell_type": "code",
   "execution_count": null,
   "id": "86273fdd-5fc7-47a7-bb29-09382e21f85b",
   "metadata": {},
   "outputs": [],
   "source": []
  }
 ],
 "metadata": {
  "kernelspec": {
   "display_name": "Python 3 (ipykernel)",
   "language": "python",
   "name": "python3"
  },
  "language_info": {
   "codemirror_mode": {
    "name": "ipython",
    "version": 3
   },
   "file_extension": ".py",
   "mimetype": "text/x-python",
   "name": "python",
   "nbconvert_exporter": "python",
   "pygments_lexer": "ipython3",
   "version": "3.12.0"
  }
 },
 "nbformat": 4,
 "nbformat_minor": 5
}
