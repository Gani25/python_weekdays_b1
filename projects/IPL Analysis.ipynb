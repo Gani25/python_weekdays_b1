{
 "cells": [
  {
   "cell_type": "markdown",
   "id": "ee511c0e-65d8-45e6-a6c4-14dbbbe467b6",
   "metadata": {},
   "source": [
    "<h1 style=\"font-size: 50px; text-align: center; color:Yellow; background-color:red; padding:25px\">IPL Analysis</h1>"
   ]
  },
  {
   "cell_type": "markdown",
   "id": "38653236-7ba5-4cd9-a008-aee296ef20d4",
   "metadata": {},
   "source": [
    "<p><b>All data is taken from <a href=\"https://codebasics.io/challenges/codebasics-resume-project-challenge/13\">Code Basics</a> </b></p>"
   ]
  },
  {
   "cell_type": "markdown",
   "id": "08abc479-fe73-489d-8c16-21d7ae52b8bf",
   "metadata": {},
   "source": [
    "<hr>\n",
    "<h1>Data Exploration</h1>\n",
    "<hr>"
   ]
  },
  {
   "cell_type": "markdown",
   "id": "e068e710-d2a0-466b-8447-540556384976",
   "metadata": {},
   "source": [
    "**Datasets:**\n",
    "- dim_players.csv\n",
    "- dim_match_summary.csv\n",
    "- fact_batting_summary.csv\n",
    "- fact_bowling_summary.csv"
   ]
  },
  {
   "cell_type": "code",
   "execution_count": 1,
   "id": "7f158b11-6487-49fb-bf41-2f42a5a17bbf",
   "metadata": {},
   "outputs": [],
   "source": [
    "import pandas as pd"
   ]
  },
  {
   "cell_type": "code",
   "execution_count": 2,
   "id": "99a26b07-8656-4d1d-988a-04a69ea470a1",
   "metadata": {},
   "outputs": [
    {
     "data": {
      "text/html": [
       "<div>\n",
       "<style scoped>\n",
       "    .dataframe tbody tr th:only-of-type {\n",
       "        vertical-align: middle;\n",
       "    }\n",
       "\n",
       "    .dataframe tbody tr th {\n",
       "        vertical-align: top;\n",
       "    }\n",
       "\n",
       "    .dataframe thead th {\n",
       "        text-align: right;\n",
       "    }\n",
       "</style>\n",
       "<table border=\"1\" class=\"dataframe\">\n",
       "  <thead>\n",
       "    <tr style=\"text-align: right;\">\n",
       "      <th></th>\n",
       "      <th>name</th>\n",
       "      <th>team</th>\n",
       "      <th>battingStyle</th>\n",
       "      <th>bowlingStyle</th>\n",
       "      <th>playingRole</th>\n",
       "    </tr>\n",
       "  </thead>\n",
       "  <tbody>\n",
       "    <tr>\n",
       "      <th>0</th>\n",
       "      <td>RuturajGaikwad</td>\n",
       "      <td>Super Kings</td>\n",
       "      <td>Right hand Bat</td>\n",
       "      <td>Right arm Offbreak</td>\n",
       "      <td>Batter</td>\n",
       "    </tr>\n",
       "    <tr>\n",
       "      <th>1</th>\n",
       "      <td>FafduPlessis</td>\n",
       "      <td>Super Kings</td>\n",
       "      <td>Right hand Bat</td>\n",
       "      <td>Legbreak</td>\n",
       "      <td>Middle order Batter</td>\n",
       "    </tr>\n",
       "    <tr>\n",
       "      <th>2</th>\n",
       "      <td>RobinUthappa</td>\n",
       "      <td>Super Kings</td>\n",
       "      <td>Right hand Bat</td>\n",
       "      <td>Right arm Medium</td>\n",
       "      <td>Batter</td>\n",
       "    </tr>\n",
       "    <tr>\n",
       "      <th>3</th>\n",
       "      <td>MoeenAli</td>\n",
       "      <td>Super Kings</td>\n",
       "      <td>Left hand Bat</td>\n",
       "      <td>Right arm Offbreak</td>\n",
       "      <td>Batting Allrounder</td>\n",
       "    </tr>\n",
       "    <tr>\n",
       "      <th>4</th>\n",
       "      <td>ShubmanGill</td>\n",
       "      <td>KKR</td>\n",
       "      <td>Right hand Bat</td>\n",
       "      <td>Right arm Offbreak</td>\n",
       "      <td>Opening Batter</td>\n",
       "    </tr>\n",
       "    <tr>\n",
       "      <th>...</th>\n",
       "      <td>...</td>\n",
       "      <td>...</td>\n",
       "      <td>...</td>\n",
       "      <td>...</td>\n",
       "      <td>...</td>\n",
       "    </tr>\n",
       "    <tr>\n",
       "      <th>287</th>\n",
       "      <td>AbishekPorel</td>\n",
       "      <td>Capitals</td>\n",
       "      <td>Left hand Bat</td>\n",
       "      <td>Not Available</td>\n",
       "      <td>Wicketkeeper Batter</td>\n",
       "    </tr>\n",
       "    <tr>\n",
       "      <th>288</th>\n",
       "      <td>SisandaMagala</td>\n",
       "      <td>Super Kings</td>\n",
       "      <td>Right hand Bat</td>\n",
       "      <td>Right arm Fast medium</td>\n",
       "      <td>Bowler</td>\n",
       "    </tr>\n",
       "    <tr>\n",
       "      <th>289</th>\n",
       "      <td>MohitRathee</td>\n",
       "      <td>Punjab Kings</td>\n",
       "      <td>Right hand Bat</td>\n",
       "      <td>Legbreak</td>\n",
       "      <td>Allrounder</td>\n",
       "    </tr>\n",
       "    <tr>\n",
       "      <th>290</th>\n",
       "      <td>RajvardhanHangargekar</td>\n",
       "      <td>Super Kings</td>\n",
       "      <td>Right hand Bat</td>\n",
       "      <td>Right arm Fast medium</td>\n",
       "      <td>Bowling Allrounder</td>\n",
       "    </tr>\n",
       "    <tr>\n",
       "      <th>291</th>\n",
       "      <td>ReeceTopley</td>\n",
       "      <td>RCB</td>\n",
       "      <td>Right hand Bat</td>\n",
       "      <td>Left arm Fast medium</td>\n",
       "      <td>Bowler</td>\n",
       "    </tr>\n",
       "  </tbody>\n",
       "</table>\n",
       "<p>292 rows × 5 columns</p>\n",
       "</div>"
      ],
      "text/plain": [
       "                      name          team    battingStyle  \\\n",
       "0           RuturajGaikwad   Super Kings  Right hand Bat   \n",
       "1             FafduPlessis   Super Kings  Right hand Bat   \n",
       "2             RobinUthappa   Super Kings  Right hand Bat   \n",
       "3                 MoeenAli   Super Kings   Left hand Bat   \n",
       "4              ShubmanGill           KKR  Right hand Bat   \n",
       "..                     ...           ...             ...   \n",
       "287           AbishekPorel      Capitals   Left hand Bat   \n",
       "288          SisandaMagala   Super Kings  Right hand Bat   \n",
       "289            MohitRathee  Punjab Kings  Right hand Bat   \n",
       "290  RajvardhanHangargekar   Super Kings  Right hand Bat   \n",
       "291            ReeceTopley           RCB  Right hand Bat   \n",
       "\n",
       "              bowlingStyle          playingRole  \n",
       "0       Right arm Offbreak               Batter  \n",
       "1                 Legbreak  Middle order Batter  \n",
       "2         Right arm Medium               Batter  \n",
       "3       Right arm Offbreak   Batting Allrounder  \n",
       "4       Right arm Offbreak       Opening Batter  \n",
       "..                     ...                  ...  \n",
       "287          Not Available  Wicketkeeper Batter  \n",
       "288  Right arm Fast medium               Bowler  \n",
       "289               Legbreak           Allrounder  \n",
       "290  Right arm Fast medium   Bowling Allrounder  \n",
       "291   Left arm Fast medium               Bowler  \n",
       "\n",
       "[292 rows x 5 columns]"
      ]
     },
     "execution_count": 2,
     "metadata": {},
     "output_type": "execute_result"
    }
   ],
   "source": [
    "df_players = pd.read_csv(\"./datasets/dim_players.csv\")\n",
    "df_players"
   ]
  },
  {
   "cell_type": "code",
   "execution_count": 3,
   "id": "83b08e02-f115-47b3-899c-2e4ac6ec48d9",
   "metadata": {},
   "outputs": [
    {
     "data": {
      "text/plain": [
       "array(['Super Kings', 'KKR', 'Capitals', 'RCB', 'Mumbai', 'Sunrisers',\n",
       "       'Royals', 'Punjab Kings', 'Titans', 'Super Giants'], dtype=object)"
      ]
     },
     "execution_count": 3,
     "metadata": {},
     "output_type": "execute_result"
    }
   ],
   "source": [
    "df_players.team.unique()"
   ]
  },
  {
   "cell_type": "code",
   "execution_count": 5,
   "id": "9828e482-32d2-42ab-9368-2a3ef9de3818",
   "metadata": {},
   "outputs": [
    {
     "data": {
      "text/plain": [
       "team\n",
       "Mumbai          39\n",
       "Punjab Kings    38\n",
       "Sunrisers       35\n",
       "KKR             35\n",
       "Royals          33\n",
       "RCB             30\n",
       "Capitals        29\n",
       "Super Kings     28\n",
       "Titans          13\n",
       "Super Giants    12\n",
       "Name: count, dtype: int64"
      ]
     },
     "execution_count": 5,
     "metadata": {},
     "output_type": "execute_result"
    }
   ],
   "source": [
    "# Player count by teams\n",
    "df_players.team.value_counts()"
   ]
  },
  {
   "cell_type": "code",
   "execution_count": 6,
   "id": "5a4947e5-7dde-492c-91dc-a84f4a772416",
   "metadata": {},
   "outputs": [
    {
     "data": {
      "text/plain": [
       "playingRole\n",
       "Bowler                 117\n",
       "Allrounder              41\n",
       "Wicketkeeper Batter     29\n",
       "Top order Batter        27\n",
       "Bowling Allrounder      23\n",
       "Batting Allrounder      19\n",
       "Middle order Batter     13\n",
       "Batter                  12\n",
       "Opening Batter          11\n",
       "Name: count, dtype: int64"
      ]
     },
     "execution_count": 6,
     "metadata": {},
     "output_type": "execute_result"
    }
   ],
   "source": [
    "# player count by role\n",
    "df_players.playingRole.value_counts()"
   ]
  },
  {
   "cell_type": "code",
   "execution_count": 7,
   "id": "67661a25-18f2-4de3-bdec-3091725cf367",
   "metadata": {},
   "outputs": [
    {
     "data": {
      "text/plain": [
       "name            0\n",
       "team            0\n",
       "battingStyle    0\n",
       "bowlingStyle    0\n",
       "playingRole     0\n",
       "dtype: int64"
      ]
     },
     "execution_count": 7,
     "metadata": {},
     "output_type": "execute_result"
    }
   ],
   "source": [
    "df_players.isnull().sum()"
   ]
  },
  {
   "cell_type": "code",
   "execution_count": null,
   "id": "c9651eaa-8970-4b54-b296-99205215ec8c",
   "metadata": {},
   "outputs": [],
   "source": []
  }
 ],
 "metadata": {
  "kernelspec": {
   "display_name": "Python 3 (ipykernel)",
   "language": "python",
   "name": "python3"
  },
  "language_info": {
   "codemirror_mode": {
    "name": "ipython",
    "version": 3
   },
   "file_extension": ".py",
   "mimetype": "text/x-python",
   "name": "python",
   "nbconvert_exporter": "python",
   "pygments_lexer": "ipython3",
   "version": "3.12.0"
  }
 },
 "nbformat": 4,
 "nbformat_minor": 5
}
